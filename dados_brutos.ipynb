{
 "cells": [
  {
   "cell_type": "code",
   "execution_count": 1,
   "metadata": {},
   "outputs": [
    {
     "name": "stderr",
     "output_type": "stream",
     "text": [
      "c:\\Users\\gusta\\AppData\\Local\\pypoetry\\Cache\\virtualenvs\\ltv-novo-aF9Dy8BA-py3.10\\lib\\site-packages\\pydantic\\_internal\\_fields.py:192: UserWarning: Field name \"json\" in \"MonitoringDatasetFormat\" shadows an attribute in parent \"Base\"\n",
      "  warnings.warn(\n"
     ]
    },
    {
     "data": {
      "text/html": [
       "<pre style=\"white-space:pre;overflow-x:auto;line-height:normal;font-family:Menlo,'DejaVu Sans Mono',consolas,'Courier New',monospace\"><span style=\"color: #7fbfbf; text-decoration-color: #7fbfbf\">[02/07/25 15:43:38] </span><span style=\"color: #0069ff; text-decoration-color: #0069ff; font-weight: bold\">INFO    </span> Found credentials in shared credentials file: ~<span style=\"color: #e100e1; text-decoration-color: #e100e1\">/.aws/credentials</span>   <a href=\"file://c:\\Users\\gusta\\AppData\\Local\\pypoetry\\Cache\\virtualenvs\\ltv-novo-aF9Dy8BA-py3.10\\lib\\site-packages\\botocore\\credentials.py\" target=\"_blank\"><span style=\"color: #7f7f7f; text-decoration-color: #7f7f7f\">credentials.py</span></a><span style=\"color: #7f7f7f; text-decoration-color: #7f7f7f\">:</span><a href=\"file://c:\\Users\\gusta\\AppData\\Local\\pypoetry\\Cache\\virtualenvs\\ltv-novo-aF9Dy8BA-py3.10\\lib\\site-packages\\botocore\\credentials.py#1278\" target=\"_blank\"><span style=\"color: #7f7f7f; text-decoration-color: #7f7f7f\">1278</span></a>\n",
       "</pre>\n"
      ],
      "text/plain": [
       "\u001b[2;36m[02/07/25 15:43:38]\u001b[0m\u001b[2;36m \u001b[0m\u001b[1;38;2;0;105;255mINFO    \u001b[0m Found credentials in shared credentials file: ~\u001b[38;2;225;0;225m/.aws/\u001b[0m\u001b[38;2;225;0;225mcredentials\u001b[0m   \u001b]8;id=442105;file://c:\\Users\\gusta\\AppData\\Local\\pypoetry\\Cache\\virtualenvs\\ltv-novo-aF9Dy8BA-py3.10\\lib\\site-packages\\botocore\\credentials.py\u001b\\\u001b[2mcredentials.py\u001b[0m\u001b]8;;\u001b\\\u001b[2m:\u001b[0m\u001b]8;id=811419;file://c:\\Users\\gusta\\AppData\\Local\\pypoetry\\Cache\\virtualenvs\\ltv-novo-aF9Dy8BA-py3.10\\lib\\site-packages\\botocore\\credentials.py#1278\u001b\\\u001b[2m1278\u001b[0m\u001b]8;;\u001b\\\n"
      ]
     },
     "metadata": {},
     "output_type": "display_data"
    },
    {
     "name": "stdout",
     "output_type": "stream",
     "text": [
      "sagemaker.config INFO - Not applying SDK defaults from location: C:\\ProgramData\\sagemaker\\sagemaker\\config.yaml\n",
      "sagemaker.config INFO - Not applying SDK defaults from location: C:\\Users\\gusta\\AppData\\Local\\sagemaker\\sagemaker\\config.yaml\n"
     ]
    }
   ],
   "source": [
    "import pandas as pd\n",
    "import plotly.express as px\n",
    "from statsmodels.tsa.seasonal import seasonal_decompose\n",
    "import logging\n",
    "import datetime\n",
    "import time\n",
    "\n",
    "import dash\n",
    "from dash import dcc, html\n",
    "from dash.dependencies import Input, Output\n",
    "\n",
    "import calendar\n",
    "import pandas as pd\n",
    "import plotly.express as px\n",
    "from pyspark.sql import SparkSession\n",
    "from pyspark.sql.functions import concat, col\n",
    "import matplotlib.pyplot as plt\n",
    "import seaborn as sns\n",
    "from statsmodels.tsa.seasonal import seasonal_decompose\n",
    "from ipywidgets import interact, widgets\n",
    "from matplotlib.dates import MonthLocator, DateFormatter\n",
    "import geopandas as gpd\n",
    "from shapely.geometry import Point\n",
    "from sklearn.preprocessing import StandardScaler\n",
    "from statsmodels.tsa.holtwinters import ExponentialSmoothing\n",
    "import geopandas as gpd\n",
    "from mpl_toolkits.axes_grid1 import make_axes_locatable\n",
    "#from fbprophet import Prophet\n",
    "from sklearn.metrics import mean_squared_error\n",
    "import numpy as np\n",
    "import plotly.graph_objects as go\n",
    "from pyspark.sql import functions as F\n",
    "from pyspark.sql.functions import year, month\n",
    "from sklearn.metrics.pairwise import euclidean_distances\n",
    "from pyspark.sql.functions import year, month, sum as sum_\n",
    "from scipy.spatial.distance import euclidean\n",
    "from prophet import Prophet\n",
    "from pyspark.sql.functions import col, countDistinct , desc , count , length\n",
    "from pyspark.sql.functions import split, col, when\n",
    "from pyspark.sql import SparkSession\n",
    "from pyspark.sql.functions import col, udf, dayofmonth, last_day ,to_date, lit, isnull\n",
    "from pyspark.sql.types import IntegerType\n",
    "import numpy as np\n",
    "from sklearn.metrics import r2_score, mean_squared_error\n",
    "from dateutil.relativedelta import relativedelta\n",
    "from pyspark.sql.functions import date_format\n",
    "\n",
    "import schedule\n",
    "from pyspark.sql.functions import col, to_timestamp, date_format\n",
    "\n",
    "import pyspark\n",
    "import pandas as pd\n",
    "import boto3\n",
    "import sagemaker\n",
    "import sagemaker.feature_store.feature_store as fs\n",
    "import databricks.connect\n",
    "from dateutil.relativedelta import relativedelta\n",
    "\n",
    "import pandas as pd\n",
    "import numpy as np\n",
    "import plotly.graph_objects as go\n",
    "from sklearn.metrics import mean_squared_error, mean_absolute_percentage_error, mean_absolute_error\n",
    "from sklearn.metrics import mean_squared_error, root_mean_squared_error\n",
    "\n",
    "import pandas as pd\n",
    "import numpy as np\n",
    "from prophet import Prophet\n",
    "from sklearn.metrics import mean_absolute_percentage_error, mean_squared_error\n",
    "import plotly.graph_objects as go\n",
    "from itertools import product\n",
    "import random\n",
    "import statsmodels.api as sm\n",
    "import os\n",
    "\n",
    "import logging\n",
    "\n",
    "logging.basicConfig(level=logging.INFO, format='%(asctime)s - %(levelname)s - %(message)s')\n",
    "from databricks.connect import DatabricksSession\n",
    "\n",
    "# Get spark\n",
    "spark = databricks.connect.DatabricksSession.builder.getOrCreate()"
   ]
  },
  {
   "cell_type": "markdown",
   "metadata": {},
   "source": [
    "## Tabela Nova"
   ]
  },
  {
   "cell_type": "code",
   "execution_count": 2,
   "metadata": {},
   "outputs": [],
   "source": [
    "query=  \"\"\"WITH \n",
    "clientes AS \n",
    "(\n",
    "    SELECT \n",
    "          COUNT(1)              AS contratos\n",
    "        , cgcmf                 AS documento\n",
    "        , MIN(data_cad)         AS data_inicio\n",
    "        , MAX(bloqueio)         AS data_final\n",
    "    FROM \n",
    "    (\n",
    "        SELECT DISTINCT\n",
    "            matriz, codigo, fis_jurid, cgcmf, raz_social, max_conexao, bloqueio,\n",
    "            sit_cliente, data_cad, vendedor, vlrfatmin, vlr_dispacesso, receita\n",
    "        FROM \n",
    "            prd.dl_redeok_checkok.tb_cliente cli\n",
    "        WHERE \n",
    "            cli.sit_cliente IN ('A', 'F', 'N', 'P', 'D')\n",
    "            AND (cli.matriz = cli.codigo OR falsa = 's')\n",
    "            AND cli.receita IN (9, 10, 46, 58)\n",
    "            AND cli.cgcmf IS NOT NULL\n",
    "            AND cli.cgcmf != '23236392000198'\n",
    "            AND LENGTH(TRIM(cli.cgcmf)) = 14\n",
    "            AND cli.cgcmf RLIKE '^[0-9]+$'\n",
    "            AND NOT EXISTS \n",
    "            (\n",
    "                SELECT 1 \n",
    "                FROM prd.dl_redeok_checkok.tb_revenda rev \n",
    "                WHERE cli.codigo = rev.codigo\n",
    "            )\n",
    "    ) \n",
    "    GROUP BY cgcmf\n",
    "),\n",
    "titulo_cobranca AS \n",
    "(\n",
    "    SELECT \n",
    "          documento         AS documento\n",
    "        , COUNT(meses)      AS faturas\n",
    "    FROM \n",
    "    (\n",
    "        SELECT DISTINCT\n",
    "            cli.cgcmf                           AS documento\n",
    "            , DATE_TRUNC('month', rec.emissao)  AS meses\n",
    "        FROM \n",
    "            prd.dl_redeok_checkok.vw_receber rec\n",
    "        INNER JOIN prd.dl_redeok_checkok.tb_cliente cli \n",
    "            ON cli.codigo = rec.cliente\n",
    "        WHERE \n",
    "            rec.situacao IN ('A', 'B')\n",
    "            AND NOT EXISTS \n",
    "            (\n",
    "                SELECT 1 \n",
    "                FROM prd.dl_redeok_checkok.tb_revenda rev \n",
    "                WHERE rev.codigo = rec.cliente\n",
    "            )\n",
    "            AND cli.sit_cliente IN ('A', 'F', 'N', 'P', 'D')\n",
    "            AND (cli.matriz = cli.codigo OR falsa = 's')\n",
    "            AND cli.receita IN (9, 10, 46, 58)\n",
    "            AND cli.cgcmf IS NOT NULL\n",
    "            AND cli.cgcmf != '23236392000198'\n",
    "            AND LENGTH(TRIM(cli.cgcmf)) = 14    \n",
    "            AND cli.cgcmf RLIKE '^[0-9]+$'\n",
    "    ) \n",
    "    GROUP BY \n",
    "        documento\n",
    "),\n",
    "ultimo_boleto AS \n",
    "(\n",
    "    SELECT \n",
    "        cli.cgcmf AS documento,\n",
    "        MAX(rec.emissao) AS ultima_emissao\n",
    "    FROM \n",
    "        prd.dl_redeok_checkok.vw_receber rec\n",
    "    INNER JOIN prd.dl_redeok_checkok.tb_cliente cli \n",
    "        ON cli.codigo = rec.cliente\n",
    "    WHERE \n",
    "        rec.situacao IN ('A', 'B')\n",
    "        AND NOT EXISTS \n",
    "        (\n",
    "            SELECT 1 \n",
    "            FROM prd.dl_redeok_checkok.tb_revenda rev \n",
    "            WHERE rev.codigo = rec.cliente\n",
    "        )\n",
    "        AND cli.sit_cliente IN ('A', 'F', 'N', 'P', 'D')\n",
    "        AND (cli.matriz = cli.codigo OR falsa = 's')\n",
    "        AND cli.receita IN (9, 10, 46, 58)\n",
    "        AND cli.cgcmf IS NOT NULL\n",
    "        AND cli.cgcmf != '23236392000198'\n",
    "        AND LENGTH(TRIM(cli.cgcmf)) = 14    \n",
    "        AND cli.cgcmf RLIKE '^[0-9]+$'\n",
    "    GROUP BY cli.cgcmf\n",
    ")\n",
    "SELECT \n",
    "      cli.contratos\n",
    "    , cli.documento\n",
    "    , cli.data_inicio\n",
    "    , cli.data_final\n",
    "    , CASE \n",
    "          WHEN cli.data_final IS NULL THEN NULL\n",
    "          ELSE ult.ultima_emissao\n",
    "      END AS data_ultimo_boleto\n",
    "      , tit.faturas\n",
    "    , ROUND(MONTHS_BETWEEN(COALESCE(cli.data_final, CURRENT_DATE()), cli.data_inicio)) AS meses_contrato \n",
    "FROM \n",
    "    clientes cli\n",
    "INNER JOIN titulo_cobranca tit \n",
    "    ON cli.documento = tit.documento\n",
    "LEFT JOIN ultimo_boleto ult\n",
    "    ON cli.documento = ult.documento;\n",
    "\n",
    "\n",
    "\n",
    "\"\"\"\n",
    "\n",
    "\n",
    "# Executando a consulta e obtendo os dados em um DataFrame Spark\n",
    "sdf_final= spark.sql(query)\n"
   ]
  },
  {
   "cell_type": "code",
   "execution_count": 3,
   "metadata": {},
   "outputs": [
    {
     "name": "stdout",
     "output_type": "stream",
     "text": [
      "+---------+--------------+--------------------+--------------------+--------------------+-------+--------------+\n",
      "|contratos|     documento|         data_inicio|          data_final|  data_ultimo_boleto|faturas|meses_contrato|\n",
      "+---------+--------------+--------------------+--------------------+--------------------+-------+--------------+\n",
      "|        1|67902890000106|2003-08-21 09:36:...|                NULL|                NULL|    231|         258.0|\n",
      "|        1|07047708000147|2014-01-13 00:00:...|2015-05-05 00:00:...|2015-06-06 00:00:...|     13|          16.0|\n",
      "|        1|08327876000159|2011-03-31 00:00:...|2014-08-28 00:00:...| 2014-08-05 00:00:00|     38|          41.0|\n",
      "|        1|00194945000191|2008-03-12 00:00:...|2024-08-23 16:24:...|2024-08-01 00:00:...|    193|         197.0|\n",
      "|        1|01574674000162|2007-03-26 00:00:...|2008-12-02 00:00:...| 2008-11-01 00:00:00|     20|          20.0|\n",
      "|        1|02944466000170|2012-10-30 00:00:...|2025-01-27 08:30:...|2025-02-01 00:00:...|    147|         147.0|\n",
      "|        1|19710352000169|2020-03-16 12:17:...|                NULL|                NULL|     59|          59.0|\n",
      "|        1|08423496000118|2013-02-06 00:00:...|2019-03-19 00:00:...| 2019-03-01 00:00:00|     73|          73.0|\n",
      "|        2|85325777000189|2010-11-25 00:00:...|2012-12-18 00:00:...| 2012-12-01 00:00:00|     24|          25.0|\n",
      "|        1|03223352000102|2008-11-19 00:00:...|2022-06-24 00:00:...|2022-08-01 00:00:...|    152|         163.0|\n",
      "|        1|08585965000103|2008-03-28 00:00:...|                NULL|                NULL|    139|         202.0|\n",
      "|        1|20649393000176|2014-08-01 00:00:...|2020-09-23 00:00:...| 2020-09-01 00:00:00|     38|          74.0|\n",
      "|        1|05198168000177|2012-05-17 00:00:...|2015-07-06 00:00:...| 2015-07-01 00:00:00|     37|          38.0|\n",
      "|        1|02914028000160|2013-01-14 00:00:...|2014-10-27 14:53:...| 2014-10-01 00:00:00|     21|          21.0|\n",
      "|        1|47098728000161|2000-08-07 00:00:...|2017-07-24 00:00:...|2017-11-06 00:00:...|    140|         204.0|\n",
      "|        1|18985549000148|2008-08-13 00:00:...|2014-08-11 00:00:...| 2014-09-01 00:00:00|     73|          72.0|\n",
      "|        1|07841484000140|2009-09-08 00:00:...|                NULL|                NULL|    179|         185.0|\n",
      "|        1|07300030000162|2008-05-20 00:00:...|0012-05-21 00:00:...| 2012-05-01 00:00:00|     48|      -23952.0|\n",
      "|        1|08171617000181|2015-04-29 16:18:...|2024-07-17 20:02:...|2024-07-01 00:00:...|    111|         111.0|\n",
      "|        1|73625790000174|2009-12-16 00:00:...|2011-02-16 00:00:...| 2011-02-01 00:00:00|     12|          14.0|\n",
      "+---------+--------------+--------------------+--------------------+--------------------+-------+--------------+\n",
      "only showing top 20 rows\n",
      "\n"
     ]
    },
    {
     "data": {
      "text/plain": [
       "134317"
      ]
     },
     "execution_count": 3,
     "metadata": {},
     "output_type": "execute_result"
    }
   ],
   "source": [
    "sdf_final.show()\n",
    "sdf_final.count()"
   ]
  },
  {
   "cell_type": "markdown",
   "metadata": {},
   "source": [
    "## Tabela Churn"
   ]
  },
  {
   "cell_type": "code",
   "execution_count": 4,
   "metadata": {},
   "outputs": [
    {
     "name": "stdout",
     "output_type": "stream",
     "text": [
      "+--------------------+-------------------+-------------------+-----------------+---------------------+---------------------------------+---------------------------+---------------+--------------------+--------------------+-----------------+-------------+----------------------+--------------------------------+-------------------------------+--------------------------------------+-------------------------+-----------------------------------+-------------------------+-------------------------------+-----------------------------------------+----------------------+---------------------+-----------------------+----------------------------+---------------------------------+---------------------+----------------+--------------------+--------------------+--------------------+--------------+-----------+--------------+------------+----------------------+--------------+------------------------+---------------------------------+--------------------+--------------------+------------------+------------------+----------------------+--------------------+-------------------------------------+---------------------------------+-----------------------+------------------------+-----------------------------+---------------+----------------------+-----------------------+------------------------+----------------------+-----------------------+----------------------------+-----------------------+----------------------+------+--------------------------+--------------------------+--------------------------+--------------------------+---------------------------+------------------------+------------------------+---------------------------+----------+---------------------+-----------------+\n",
      "|   cancelamento_uuid|  cancelamento_data|cancelamento_motivo|cancelamento_tipo|cancelamento_projecao|cancelamento_faturamento_medio_6m|cancelamento_considera_Meta|contrato_numero|        uuid_cliente|cliente_razao_social|cliente_documento|cliente_pj_pf|cliente_cnae_principal|cliente_cnae_principal_descricao|cliente_identificador_filial_id|cliente_identificador_filial_descricao|cliente_natureza_juridica|cliente_natureza_juridica_descricao|cliente_parte_responsavel|cliente_qualificacao_partidaria|cliente_qualificacao_partidaria_descricao|cliente_capital_social|cliente_porte_empresa|cliente_status_registro|cliente_status_registro_data|cliente_status_registro_descricao|cliente_tipo_endereco|cliente_tipo_rua|         cliente_rua| cliente_complemento|      cliente_bairro|cliente_estado|cliente_cep|cliente_numero|cliente_pais|cliente_descricao_pais|cliente_cidade|cliente_descricao_cidade|cliente_nome_cidade_internacional|cliente_tipo_contato|       cliente_email|cliente_telefone_1|cliente_telefone_2|contrato_uuid_contrato|contrato_data_inicio|contrato_disponibilidade_acesso_valor|contrato_faturamento_minimo_valor|contrato_dia_vencimento|contrato_taxa_financeira|contrato_frequencia_pagamento|contrato_status|contrato_uuid_carteira|contrato_carteira_sigla|contrato_carteira_status|contrato_uuid_parceiro|contrato_parceiro_sigla|contrato_uuid_modelo_negocio|contrato_modelo_negocio|contrato_tipo_parceiro|celula|hierarquia_delend_level_01|hierarquia_delend_level_02|hierarquia_delend_level_03|hierarquia_ibge_section_01|hierarquia_ibge_division_02|hierarquia_ibge_group_03|hierarquia_ibge_class_04|hierarquia_ibge_subclass_05|base_ativa|base_ativa_percentual|parceiro_cnpj_cpf|\n",
      "+--------------------+-------------------+-------------------+-----------------+---------------------+---------------------------------+---------------------------+---------------+--------------------+--------------------+-----------------+-------------+----------------------+--------------------------------+-------------------------------+--------------------------------------+-------------------------+-----------------------------------+-------------------------+-------------------------------+-----------------------------------------+----------------------+---------------------+-----------------------+----------------------------+---------------------------------+---------------------+----------------+--------------------+--------------------+--------------------+--------------+-----------+--------------+------------+----------------------+--------------+------------------------+---------------------------------+--------------------+--------------------+------------------+------------------+----------------------+--------------------+-------------------------------------+---------------------------------+-----------------------+------------------------+-----------------------------+---------------+----------------------+-----------------------+------------------------+----------------------+-----------------------+----------------------------+-----------------------+----------------------+------+--------------------------+--------------------------+--------------------------+--------------------------+---------------------------+------------------------+------------------------+---------------------------+----------+---------------------+-----------------+\n",
      "|06b8f3a2-0162-420...|2025-01-20 10:27:11|   FATURA EM ABERTO|          PASSIVO|                false|                           104.06|           NÃO COMISSIONADO|         448216|c5b3142e-0e52-4d1...|  ROGERS R. VICENTIN|   22984699000104|           PJ|               4530703|            COMÉRCIO A VAREJO...|                              1|                                MATRIZ|                     2135|               EMPRESÁRIO (INDIV...|                     NULL|                             50|                               EMPRESÁRIO|                  NULL|        MICRO EMPRESA|                     02|                  2015-08-04|                            ATIVA|     signet_comercial|               R|        RUA MARGINAL|                NULL|      VIVAL DOS IPES|            MS|   79804970|          1635|          BR|                BRASIL|          NULL|                DOURADOS|                             NULL|    signet_comercial|assistencediesel@...|       67996498878|       67996591307|  b3bf8add-2d35-4e3...| 2020-11-05 00:00:00|                                49.67|                             8.01|                     18|                       5|                      MONTHLY|       FINISHED|  b6cc313d-d061-402...|                  MAXSM|                   ATIVO|  5881696e-0cd6-433...|                  MAXSM|        f5e41a90-9ea8-470...|   DIVISÃO DE PERCEN...|        CONCESSIONÁRIO| Gamma|                  COMÉRCIO|        COMÉRCIO VAREJISTA|                  VEÍCULOS|      COMÉRCIO; REPARAÇ...|       COMÉRCIO E REPARA...|    COMÉRCIO DE PEÇAS...|    COMÉRCIO DE PEÇAS...|       COMÉRCIO A VAREJO...|     14789|  6.76178240584218E-5|   16642961000130|\n",
      "|0f218217-f593-454...|2024-10-23 02:00:56|BLOQ. AUTO. 15 DIAS|          PASSIVO|                false|                            39.13|           NÃO COMISSIONADO|         471106|70a7f311-27bf-4fa...|R. F. DA CRUZ & C...|   12040878000130|           PJ|               4731800|            COMÉRCIO VAREJIST...|                              1|                                MATRIZ|                     2062|               SOCIEDADE EMPRESÁ...|                     NULL|                             49|                      SÓCIO-ADMINISTRADOR|                  NULL| EMPRESA PEQUENO P...|                     02|                  2010-04-15|                            ATIVA|     signet_comercial|               R| AV SETE DE SETEMBRO|   QUADRA113 LOTE 02|              CENTRO|            PA|   68543000|          2239|          BR|                BRASIL|          NULL|    FLORESTA DO ARAGUAIA|                             NULL|    signet_comercial|rivelinorivelino2...|        1134244883|       94981349979|  6fbea493-ffc8-4cf...| 2022-08-19 00:00:00|                                33.13|                              0.0|                     18|                       6|                      MONTHLY|         SIGNED|  e4a63db0-4024-4cc...|                  VENDX|                   ATIVO|  7e9aa525-6220-498...|                REDE OK|        a4a325a0-6025-4d9...|       COMISSÃO INTERNA|               REVENDA| Gamma|                  COMÉRCIO|        COMÉRCIO VAREJISTA|              COMBUSTÍVEIS|      COMÉRCIO; REPARAÇ...|         COMÉRCIO VAREJISTA|    COMÉRCIO VAREJIST...|    COMÉRCIO VAREJIST...|       COMÉRCIO VAREJIST...|     15230| 6.565988181221274E-5|   23236392000198|\n",
      "|1a86688b-17b4-4b1...|2025-01-22 08:11:49|  BLOQUEIO_REGRA_90|            ATIVO|                false|                           266.02|           NÃO COMISSIONADO|         468569|e1c1ec2a-0e65-41b...|ABIGAIL DA S. SOU...|   02585890000176|           PJ|               4712100|            COMÉRCIO VAREJIST...|                              1|                                MATRIZ|                     2062|               SOCIEDADE EMPRESÁ...|                     NULL|                             49|                      SÓCIO-ADMINISTRADOR|                  NULL|        MICRO EMPRESA|                     02|                  2005-11-03|                            ATIVA|     signet_comercial|               R|           RUA BELEM|QUADRA157 LOTE 01...|           PRIMAVERA|            PA|   68515000|           303|          BR|                BRASIL|          NULL|             PARAUAPEBAS|                             NULL|    signet_comercial|financeiro@superm...|       94999551237|       94981204855|  e58622ce-b266-4f7...| 2022-07-01 00:00:00|                                  0.0|                           208.19|                     18|                       6|                      MONTHLY|         SIGNED|  d9cdf59d-7a4a-472...|                  TDS09|                   ATIVO|  3f7f1361-5ab8-4ba...|                    TDS|        1e50f31e-7bf9-4c0...|                REVENDA|               REVENDA|  Beta|                  COMÉRCIO|        COMÉRCIO VAREJISTA|                  MERCADOS|      COMÉRCIO; REPARAÇ...|         COMÉRCIO VAREJISTA|    COMÉRCIO VAREJIST...|    COMÉRCIO VAREJIST...|       COMÉRCIO VAREJIST...|     14789|  6.76178240584218E-5|   50170151000166|\n",
      "|28a3913e-85d1-420...|2024-06-23 02:00:26|BLOQ. AUTO. 15 DIAS|          PASSIVO|                false|                           112.47|           NÃO COMISSIONADO|         465559|ffa8c65e-0fe2-4f5...|AUTOLATINA COMERC...|   22284886000185|           PJ|               4520002|            SERVIÇOS DE LANTE...|                              1|                                MATRIZ|                     2062|               SOCIEDADE EMPRESÁ...|                     NULL|                             49|                      SÓCIO-ADMINISTRADOR|                  NULL|        MICRO EMPRESA|                     02|                  2015-04-18|                            ATIVA|     signet_comercial|               Q|        VINTE E OITO|     LT 42 QUADRA 33|         NOVA MARABA|            PA|   68507270|             0|          BR|                BRASIL|          NULL|                  MARABA|                             NULL|    signet_comercial|autolatinamba@gma...|       94991632996|       94991835451|  d28aceb9-ef66-474...| 2021-12-08 00:00:00|                                99.61|                              0.0|                     18|                       6|                      MONTHLY|         SIGNED|  53de95ab-06b1-4b7...|                   FGC1|                   ATIVO|  5dfc7b26-eafe-4a4...|                    FGC|        1e50f31e-7bf9-4c0...|                REVENDA|               REVENDA| Gamma|                  SERVIÇOS|      REPARAÇÃO AUTOMÓVEIS|                          |      COMÉRCIO; REPARAÇ...|       COMÉRCIO E REPARA...|    MANUTENÇÃO E REPA...|    MANUTENÇÃO E REPA...|       SERVIÇOS DE LANTE...|     15843| 6.311935870731554E-5|   13884650000199|\n",
      "|31cb77a4-5226-420...|2024-05-02 02:00:06|BLOQ. AUTO. 15 DIAS|          PASSIVO|                false|                           128.14|           NÃO COMISSIONADO|         420656|d743c3ca-f934-47c...|CENTRO DE ESTUDOS...|   39209903000112|           PJ|               8513900|              ENSINO FUNDAMENTAL|                              1|                                MATRIZ|                     2240|               SOCIEDADE SIMPLES...|                     NULL|                             49|                      SÓCIO-ADMINISTRADOR|                  NULL|        MICRO EMPRESA|                     02|                  2005-11-03|                            ATIVA|     signet_comercial|               R|         DR CLODOWEU|                NULL|              CENTRO|            RJ|   27115140|           113|          BR|                BRASIL|          NULL|          BARRA DO PIRAI|                             NULL|    signet_comercial|financeiro@sistem...|        2424018698|       24988130304|  1dd4a82d-1c25-48c...| 2017-10-31 15:45:01|                                99.61|                              0.0|                     18|                       6|                      MONTHLY|         SIGNED|  ce732da8-ee32-403...|                  ANJOS|                   ATIVO|  bc4c39e8-0c53-452...|                  ANJOS|        1e50f31e-7bf9-4c0...|                REVENDA|               REVENDA|  Beta|                  SERVIÇOS|                  EDUCAÇÃO|                          |                  EDUCAÇÃO|                   EDUCAÇÃO|    EDUCAÇÃO INFANTIL...|      ENSINO FUNDAMENTAL|         ENSINO FUNDAMENTAL|     15952| 6.268806419257773E-5|   36665922000165|\n",
      "|3916857f-54a9-428...|2024-07-24 02:00:07|BLOQ. AUTO. 15 DIAS|          PASSIVO|                false|                           135.15|           NÃO COMISSIONADO|         255859|133deeca-38ec-470...|E.S. ESCOLA DE MO...|   06942438000175|           PJ|               8599699|            OUTRAS ATIVIDADES...|                              1|                                MATRIZ|                     2062|               SOCIEDADE EMPRESÁ...|                     NULL|                             49|                      SÓCIO-ADMINISTRADOR|                  NULL|        MICRO EMPRESA|                     02|                        NULL|                            ATIVA|     signet_comercial|              AV|     ANITA GARIBALDI|                NULL|              JUVEVE|            PR|   80540180|            61|          BR|                BRASIL|          NULL|                CURITIBA|                             NULL|    signet_comercial|financeiro.specia...|        4130796863|        4199091945|  88393180-548f-4cf...| 2010-09-30 00:00:00|                                  0.0|                            85.92|                     18|                       6|                      MONTHLY|         SIGNED|  63830c08-ac69-4db...|                  AVCHE|                   ATIVO|  4750db97-097d-427...|                  AVCHE|        1e50f31e-7bf9-4c0...|                REVENDA|               REVENDA| Gamma|                  SERVIÇOS|                  EDUCAÇÃO|                          |                  EDUCAÇÃO|                   EDUCAÇÃO|    OUTRAS ATIVIDADES...|    ATIVIDADES DE ENS...|       OUTRAS ATIVIDADES...|     15771| 6.340752013188764E-5|   07027392000121|\n",
      "|3ac9652b-4629-457...|2025-01-22 08:11:30|  BLOQUEIO_REGRA_90|            ATIVO|                false|                           142.56|           NÃO COMISSIONADO|         455174|68dc3f38-e94e-462...|GARRADEIRA COMERC...|   88505805000138|           PJ|               4530705|            COMÉRCIO A VAREJO...|                              1|                                MATRIZ|                     2062|               SOCIEDADE EMPRESÁ...|                     NULL|                             49|                      SÓCIO-ADMINISTRADOR|                  NULL| EMPRESA PEQUENO P...|                     02|                  2005-11-03|                            ATIVA|     signet_comercial|              AL|   RUA SANTOS DUMONT|                NULL|              CENTRO|            RS|   98900000|           275|          BR|                BRASIL|          NULL|              SANTA ROSA|                             NULL|    signet_comercial|jesus.deccon@gppn...|        5535126144|       55981354244|  76d2ad23-a14b-4a4...| 2007-04-24 00:00:00|                                63.53|                              0.0|                     10|                       0|                      MONTHLY|         SIGNED|  10a7bdc3-5c99-482...|                  VEND0|                   ATIVO|  7e9aa525-6220-498...|                REDE OK|        a4a325a0-6025-4d9...|       COMISSÃO INTERNA|               REVENDA|  Beta|                  COMÉRCIO|        COMÉRCIO VAREJISTA|                  VEÍCULOS|      COMÉRCIO; REPARAÇ...|       COMÉRCIO E REPARA...|    COMÉRCIO DE PEÇAS...|    COMÉRCIO DE PEÇAS...|       COMÉRCIO A VAREJO...|     14789|  6.76178240584218E-5|   23236392000198|\n",
      "|3cdfa870-4553-43c...|2024-12-19 16:58:23|           INADIMPL|          PASSIVO|                false|                            89.65|           NÃO COMISSIONADO|         433064|e48d0f69-1867-489...|PAULO HENRIQUE FE...|   23283709000147|           PJ|               2950600|            RECONDICIONAMENTO...|                              1|                                MATRIZ|                     2135|               EMPRESÁRIO (INDIV...|                     NULL|                             50|                               EMPRESÁRIO|                  NULL|        MICRO EMPRESA|                     02|                  2015-09-16|                            ATIVA|     signet_comercial|              AV|SEBASTIAO ERCULAN...|                NULL|    JARDIM RIO CLARO|            GO|   75802022|          3328|          BR|                BRASIL|          NULL|                   JATAI|                             NULL|    signet_comercial|retificamicron@gm...|        6436321222|       64996264903|  2c12721c-e340-448...| 2019-01-16 00:00:00|                                  0.0|                             74.9|                     15|                       5|                      MONTHLY|       FINISHED|  a3f362b0-e8fd-401...|                  LIBR5|                   ATIVO|  af6b790d-b0ef-48c...|                  LIBRE|        f5e41a90-9ea8-470...|   DIVISÃO DE PERCEN...|        CONCESSIONÁRIO| Gamma|                 INDÚSTRIA|      INDÚSTRIAS DE TRA...|               AUTOMOTORES|      INDÚSTRIAS DE TRA...|       FABRICAÇÃO DE VEÍ...|    RECONDICIONAMENTO...|    RECONDICIONAMENTO...|       RECONDICIONAMENTO...|     14947| 6.690305746972637E-5|   10768800000100|\n",
      "|48a3b06d-cd83-4fa...|2022-02-16 11:57:35|NAO ESTA UTILIZANDO|            ATIVO|                false|                            73.56|           NÃO COMISSIONADO|         322117|fc0803fe-364a-42f...|IVANIA MAINARDES ...|   12565478000148|           PJ|               4771701|            COMÉRCIO VAREJIST...|                              1|                                MATRIZ|                     2062|               SOCIEDADE EMPRESÁ...|                     NULL|                             49|                      SÓCIO-ADMINISTRADOR|                  NULL|        MICRO EMPRESA|                     02|                  2010-09-13|                            ATIVA|     signet_comercial|              AV|JULIO FERREIRA DE...|                NULL|           SAO PEDRO|            SP|   17162198|           186|          BR|                BRASIL|          NULL|                 AREALVA|                             NULL|    signet_comercial|farmaciasaopedro@...|        1432961158|       14981063570|  9f287dc3-f7d5-46e...| 2013-05-15 18:59:16|                                102.0|                              0.0|                     15|                       5|                      MONTHLY|       FINISHED|  37935ea8-d645-41f...|                  ACEMP|                   ATIVO|  49fbd43b-d35e-4a6...|                  ACEMP|        9a563dcc-0a27-4d6...|   DIVISÃO DE RESULT...|        CONCESSIONÁRIO|  Beta|                  COMÉRCIO|        COMÉRCIO VAREJISTA|             FARMACÊUTICOS|      COMÉRCIO; REPARAÇ...|         COMÉRCIO VAREJISTA|    COMÉRCIO VAREJIST...|    COMÉRCIO VAREJIST...|       COMÉRCIO VAREJIST...|     19213| 5.204809243741217E-5|   15914887000109|\n",
      "|4c690bab-fe0a-42c...|2024-06-23 02:00:22|BLOQ. AUTO. 15 DIAS|          PASSIVO|                false|                           140.95|           NÃO COMISSIONADO|         449814|d92caa0a-4e21-493...|RGR TERCEIRIZACAO...|   32324011000113|           PJ|               8111700|            SERVIÇOS COMBINAD...|                              1|                                MATRIZ|                     2062|               SOCIEDADE EMPRESÁ...|                     NULL|                             49|                      SÓCIO-ADMINISTRADOR|                  NULL| EMPRESA PEQUENO P...|                     02|                  2018-12-28|                            ATIVA|     signet_comercial|               R|            MARANHAO|                NULL|           VILA RICA|            MS|   79022560|           187|          BR|                BRASIL|          NULL|            CAMPO GRANDE|                             NULL|    signet_comercial|rafaelrech2102@gm...|        6732119162|       67999605805|  46280d26-6b52-462...| 2021-02-23 00:00:00|                                  0.0|                            87.42|                     18|                       6|                      MONTHLY|         SIGNED|  930d4be1-8970-4fa...|                  REDMT|                   ATIVO|  7e9aa525-6220-498...|                REDE OK|        a4a325a0-6025-4d9...|       COMISSÃO INTERNA|               REVENDA| Gamma|                  SERVIÇOS|      SERVIÇOS ADMINIST...|                PAISAGISMO|      ATIVIDADES ADMINI...|       SERVIÇOS PARA EDI...|    SERVIÇOS COMBINAD...|    SERVIÇOS COMBINAD...|       SERVIÇOS COMBINAD...|     15843| 6.311935870731554E-5|   23236392000198|\n",
      "|4e0475ab-1064-48f...|2025-01-21 10:41:53|           INADIMPL|          PASSIVO|                false|                           143.49|           NÃO COMISSIONADO|         448321|d17058f9-426a-4fa...|MARIA DA CONCEICA...|   25120886000138|           PJ|               4782201|            COMÉRCIO VAREJIST...|                              1|                                MATRIZ|                     2135|               EMPRESÁRIO (INDIV...|                     NULL|                             50|                               EMPRESÁRIO|                  NULL|        MICRO EMPRESA|                     02|                  2016-07-02|                            ATIVA|     signet_comercial|              AV|      GETULIO VARGAS|                NULL|              CENTRO|            MG|   35125000|           625|          BR|                BRASIL|          NULL|             TUMIRITINGA|                             NULL|    signet_comercial|lojastyllovip@hot...|        3332351523|        3388093518|  b79568a8-681d-4ed...| 2020-11-11 00:00:00|                                  0.0|                              0.0|                     15|                       5|                      MONTHLY|       FINISHED|  31db582f-008f-4b4...|                  GOVAX|                   ATIVO|  a059aa29-e2a3-4d3...|                  GOVAL|        9a563dcc-0a27-4d6...|   DIVISÃO DE RESULT...|        CONCESSIONÁRIO|  Beta|                  COMÉRCIO|        COMÉRCIO VAREJISTA|      VESTUÁRIO E ACESS...|      COMÉRCIO; REPARAÇ...|         COMÉRCIO VAREJISTA|    COMÉRCIO VAREJIST...|    COMÉRCIO VAREJIST...|       COMÉRCIO VAREJIST...|     14789|  6.76178240584218E-5|   31150421000122|\n",
      "|515c75d7-7bac-490...|2025-01-22 08:11:22|  BLOQUEIO_REGRA_90|            ATIVO|                false|                           158.22|           NÃO COMISSIONADO|         442290|a57a149a-f197-4bd...|      LDK MODAS LTDA|   13420101000163|           PJ|               4781400|            COMÉRCIO VAREJIST...|                              1|                                MATRIZ|                     2062|               SOCIEDADE EMPRESÁ...|                     NULL|                             49|                      SÓCIO-ADMINISTRADOR|                  NULL|        MICRO EMPRESA|                     02|                  2011-03-22|                            ATIVA|     signet_comercial|              AV|NILZA DE OLIVEIRA...|                NULL|              CENTRO|            PR|   85440000|          1579|          BR|                BRASIL|          NULL|                 UBIRATA|                             NULL|    signet_comercial| ldkmoda@hotmail.com|        4435432065|       44999849897|  d974795e-5814-41b...| 2020-02-07 00:00:00|                                  0.0|                            87.42|                     18|                       6|                      MONTHLY|         SIGNED|  f3672e1b-e620-4c7...|                  VEND1|                   ATIVO|  7e9aa525-6220-498...|                REDE OK|        a4a325a0-6025-4d9...|       COMISSÃO INTERNA|               REVENDA| Gamma|                  COMÉRCIO|        COMÉRCIO VAREJISTA|      VESTUÁRIO E ACESS...|      COMÉRCIO; REPARAÇ...|         COMÉRCIO VAREJISTA|    COMÉRCIO VAREJIST...|    COMÉRCIO VAREJIST...|       COMÉRCIO VAREJIST...|     14789|  6.76178240584218E-5|   23236392000198|\n",
      "|564987ff-c2c7-448...|2024-02-21 14:53:44|    SOLIC COMERCIAL|            ATIVO|                false|                           167.59|           NÃO COMISSIONADO|         442713|6ada4265-e515-4dd...|JEAN CARLOS GOMES...|   36330804000104|           PJ|               4753900|            COMÉRCIO VAREJIST...|                              1|                                MATRIZ|                     2135|               EMPRESÁRIO (INDIV...|                     NULL|                             50|                               EMPRESÁRIO|                  NULL|        MICRO EMPRESA|                     04|                  2022-11-29|                           INAPTA|     signet_comercial|               R|             AUGUSTA|                NULL|          CONSOLACAO|            SP|   01305901|           257|          BR|                BRASIL|          NULL|               SAO PAULO|                             NULL|    signet_comercial|fonsecafer@hotmai...|       18998064000|       18996584700|  bb33fd13-4155-4b2...| 2020-03-03 10:52:08|                                99.61|                              0.0|                     18|                       6|                      MONTHLY|         SIGNED|  bf548612-4858-49e...|                  JRREP|                   ATIVO|  1ef77b5e-9bb9-47e...|                  JRREP|        1e50f31e-7bf9-4c0...|                REVENDA|               REVENDA| Gamma|                  COMÉRCIO|        COMÉRCIO VAREJISTA|      INFORMÁTICA E COM...|      COMÉRCIO; REPARAÇ...|         COMÉRCIO VAREJISTA|    COMÉRCIO VAREJIST...|    COMÉRCIO VAREJIST...|       COMÉRCIO VAREJIST...|     16346| 6.117704637220115E-5|   26337606000100|\n",
      "|5d674ea2-a3cf-4f0...|2024-12-30 13:23:39|BLOQ. AUTO. 15 DIAS|          PASSIVO|                false|                            39.13|           NÃO COMISSIONADO|         467804|3d22dc7f-b754-45c...|A. LUIS DE S. SIL...|   18127730000113|           PJ|               4661300|            COMÉRCIO ATACADIS...|                              1|                                MATRIZ|                     2135|               EMPRESÁRIO (INDIV...|                     NULL|                             50|                               EMPRESÁRIO|                  NULL|        MICRO EMPRESA|                     02|                  2013-05-16|                            ATIVA|     signet_comercial|AVENIDA MARGINAL|   GUILHERME MACHADO|                NULL|NOVO POLO INDUSTRIAL|            SP|   15200000|          1235|          BR|                BRASIL|          NULL|          JOSE BONIFACIO|                             NULL|    signet_comercial|financeiro.grupos...|        1730421007|       17991870139|  4ebf70f7-c3d0-461...| 2022-05-05 00:00:00|                                38.13|                              0.0|                     18|                       6|                      MONTHLY|         SIGNED|  1a5d712d-1b34-47b...|                    SLS|                 INATIVO|  e0d40b98-3bd6-45d...|                    SLS|        1e50f31e-7bf9-4c0...|                REVENDA|               REVENDA| Gamma|                  COMÉRCIO|       COMÉRCIO ATACADISTA|      MÁQUINAS E EQUIPA...|      COMÉRCIO; REPARAÇ...|       COMÉRCIO POR ATAC...|    COMÉRCIO ATACADIS...|    COMÉRCIO ATACADIS...|       COMÉRCIO ATACADIS...|     14947| 6.690305746972637E-5|   28767466000136|\n",
      "|605480b3-b033-40f...|2025-01-22 08:11:50|  BLOQUEIO_REGRA_90|            ATIVO|                false|                           272.15|           NÃO COMISSIONADO|         468797|f3a0c7d1-d1b7-417...|FALCAO NUTRICAO A...|   36231841000157|           PJ|               4771704|            COMÉRCIO VAREJIST...|                              1|                                MATRIZ|                     2062|               SOCIEDADE EMPRESÁ...|                     NULL|                             49|                      SÓCIO-ADMINISTRADOR|                  NULL| EMPRESA PEQUENO P...|                     02|                  2020-02-03|                            ATIVA|     signet_comercial|              AV|       AV SERRA NOVA|                NULL|              CENTRO|            MT|   78665000|           913|          BR|                BRASIL|          NULL|          ALTO BOA VISTA|                             NULL|    signet_comercial|centraldocampo.ab...|       66984118745|        6635391395|  ad6569e8-1240-42e...| 2022-07-20 00:00:00|                                  0.0|                           204.62|                     18|                       6|                      MONTHLY|         SIGNED|  e4a63db0-4024-4cc...|                  VENDX|                   ATIVO|  7e9aa525-6220-498...|                REDE OK|        a4a325a0-6025-4d9...|       COMISSÃO INTERNA|               REVENDA|  Beta|                  COMÉRCIO|        COMÉRCIO VAREJISTA|             FARMACÊUTICOS|      COMÉRCIO; REPARAÇ...|         COMÉRCIO VAREJISTA|    COMÉRCIO VAREJIST...|    COMÉRCIO VAREJIST...|       COMÉRCIO VAREJIST...|     14789|  6.76178240584218E-5|   23236392000198|\n",
      "|61d8f04b-baa6-429...|2021-07-12 09:28:04|018 - NAO UTIL SERV|            ATIVO|                false|                           101.53|           NÃO COMISSIONADO|         443580|97c16275-ee44-499...|BORGTE & BORGTE LTDA|   24999836000100|           PJ|               8211300|            SERVIÇOS COMBINAD...|                              1|                                MATRIZ|                     2062|               SOCIEDADE EMPRESÁ...|                     NULL|                             49|                      SÓCIO-ADMINISTRADOR|                  NULL|        MICRO EMPRESA|                     02|                  2016-06-15|                            ATIVA|     signet_comercial|               R| R PRESIDENTE VARGAS|            TERREO01|              CENTRO|            RS|   96780046|           122|          BR|                BRASIL|          NULL|                 CAMAQUA|                             NULL|    signet_comercial|   rborgte@gmail.com|       51999542172|        5136718077|  566bfbfc-59a5-4de...| 2020-05-26 03:00:00|                                  5.0|                            50.86|                     18|                       6|                      MONTHLY|       FINISHED|  5c3f8a3c-c51c-4fe...|                  VEND3|                   ATIVO|  7e9aa525-6220-498...|                REDE OK|        a4a325a0-6025-4d9...|       COMISSÃO INTERNA|               REVENDA|  Beta|                  SERVIÇOS|      SERVIÇOS ADMINIST...|                ESCRITÓRIO|      ATIVIDADES ADMINI...|       SERVIÇOS DE ESCRI...|    SERVIÇOS DE ESCRI...|    SERVIÇOS COMBINAD...|       SERVIÇOS COMBINAD...|     20286| 4.929508035098097E-5|   23236392000198|\n",
      "|7b79c63d-8215-437...|2025-01-22 08:11:57|  BLOQUEIO_REGRA_90|            ATIVO|                false|                           105.79|           NÃO COMISSIONADO|         480690|7f2a6aa4-7184-4cd...|ALWAYS COMERCIAL ...|   47826266000232|           PJ|               8211300|            SERVIÇOS COMBINAD...|                              2|                                FILIAL|                     2062|               SOCIEDADE EMPRESÁ...|                     NULL|                             49|                      SÓCIO-ADMINISTRADOR|                  NULL| EMPRESA PEQUENO P...|                     02|                  2022-10-28|                            ATIVA|     signet_comercial|              AV|            ANGELICA|                NULL|          CONSOLACAO|            SP|   01227200|          2503|          BR|                BRASIL|          NULL|               SAO PAULO|                             NULL|    signet_comercial|financeiro@always...|        1132250043|       11940596887|  ea58cde9-bc10-470...| 2023-04-27 20:27:27|                                33.13|                              0.0|                     18|                       6|                      MONTHLY|         SIGNED|  98705dd1-f281-474...|                  VJUPI|                   ATIVO|  7e9aa525-6220-498...|                REDE OK|        a4a325a0-6025-4d9...|       COMISSÃO INTERNA|               REVENDA| Gamma|                  SERVIÇOS|      SERVIÇOS ADMINIST...|                ESCRITÓRIO|      ATIVIDADES ADMINI...|       SERVIÇOS DE ESCRI...|    SERVIÇOS DE ESCRI...|    SERVIÇOS COMBINAD...|       SERVIÇOS COMBINAD...|     14789|  6.76178240584218E-5|   23236392000198|\n",
      "|7fee0dee-db4c-446...|2025-01-22 08:12:06|  BLOQUEIO_REGRA_90|            ATIVO|                false|                           120.53|           NÃO COMISSIONADO|         483844|9fd6d7e3-2e7f-4ac...|SALVADOR QUADROS ...|   50380288000145|           PJ|               4673700|            COMÉRCIO ATACADIS...|                              1|                                MATRIZ|                     2062|               SOCIEDADE EMPRESÁ...|                     NULL|                             49|                      SÓCIO-ADMINISTRADOR|                  NULL|        MICRO EMPRESA|                     02|                  2023-04-19|                            ATIVA|     signet_comercial|               R|   BARAO DE COTEGIPE|                NULL|             CALCADA|            BA|   40445000|           190|          BR|                BRASIL|          NULL|                SALVADOR|                             NULL|    signet_comercial|salvadorquadrosel...|        7141010965|       71983185323|  b8d7036f-1516-448...| 2024-02-05 14:29:08|                                  0.0|                           104.15|                     18|                       6|                      MONTHLY|         SIGNED|  1b9c5d1c-d212-4d4...|                     AA|                   ATIVO|  17c9fc68-f215-42c...|                     AA|        1e50f31e-7bf9-4c0...|                REVENDA|               REVENDA| Gamma|                  COMÉRCIO|       COMÉRCIO ATACADISTA|       MATERIAIS ELÉTRICOS|      COMÉRCIO; REPARAÇ...|       COMÉRCIO POR ATAC...|    COMÉRCIO ATACADIS...|    COMÉRCIO ATACADIS...|       COMÉRCIO ATACADIS...|     14789|  6.76178240584218E-5|   04241613000171|\n",
      "|862ba013-5d39-4bc...|2025-01-22 08:11:48|  BLOQUEIO_REGRA_90|            ATIVO|                false|                           229.08|           NÃO COMISSIONADO|         468060|831cfadb-5327-4cc...|RDM MEDICAMENTOS ...|   17776769000107|           PJ|               4771701|            COMÉRCIO VAREJIST...|                              1|                                MATRIZ|                     2062|               SOCIEDADE EMPRESÁ...|                     NULL|                             49|                      SÓCIO-ADMINISTRADOR|                  NULL|        MICRO EMPRESA|                     02|                  2013-03-19|                            ATIVA|     signet_comercial|               R|                R JK|   QUADRA12 LOTE 14A|       SETOR CENTRAL|            GO|   73700000|             0|          BR|                BRASIL|          NULL|          PADRE BERNARDO|                             NULL|    signet_comercial|drogariasantaluzi...|       61984139500|        6136331366|  5bc7dbb6-72e2-40c...| 2022-05-24 00:00:00|                                  0.0|                           102.37|                     18|                       6|                      MONTHLY|         SIGNED|  87adf83f-baa9-43c...|                    NEI|                   ATIVO|  37cb20d0-289a-4d3...|                    NEI|        1e50f31e-7bf9-4c0...|                REVENDA|               REVENDA|  Beta|                  COMÉRCIO|        COMÉRCIO VAREJISTA|             FARMACÊUTICOS|      COMÉRCIO; REPARAÇ...|         COMÉRCIO VAREJISTA|    COMÉRCIO VAREJIST...|    COMÉRCIO VAREJIST...|       COMÉRCIO VAREJIST...|     14789|  6.76178240584218E-5|   12529544000124|\n",
      "|866dac47-6a73-4fa...|2025-01-22 08:11:15|  BLOQUEIO_REGRA_90|            ATIVO|                false|                           137.48|           NÃO COMISSIONADO|         431324|81f8ce10-48bc-489...|L.C.R.- AUTO PECA...|   18611670000100|           PJ|               4530703|            COMÉRCIO A VAREJO...|                              1|                                MATRIZ|                     2062|               SOCIEDADE EMPRESÁ...|                     NULL|                             49|                      SÓCIO-ADMINISTRADOR|                  NULL| EMPRESA PEQUENO P...|                     04|                  2021-03-10|                           INAPTA|     signet_comercial|               R|               PIAUI|                NULL|       PQ INDUSTRIAL|            SP|   15920000|            98|          BR|                BRASIL|          NULL|    VISTA ALEGRE DO ALTO|                             NULL|    signet_comercial|autopecaslmo@bol....|        1632871530|       16992600193|  c2ad3475-d7cc-4f4...| 2018-10-23 00:00:00|                                99.61|                              0.0|                     18|                       6|                      MONTHLY|         SIGNED|  3a284967-615d-422...|                    FGC|                   ATIVO|  5dfc7b26-eafe-4a4...|                    FGC|        1e50f31e-7bf9-4c0...|                REVENDA|               REVENDA| Gamma|                  COMÉRCIO|        COMÉRCIO VAREJISTA|                  VEÍCULOS|      COMÉRCIO; REPARAÇ...|       COMÉRCIO E REPARA...|    COMÉRCIO DE PEÇAS...|    COMÉRCIO DE PEÇAS...|       COMÉRCIO A VAREJO...|     14789|  6.76178240584218E-5|   13884650000199|\n",
      "+--------------------+-------------------+-------------------+-----------------+---------------------+---------------------------------+---------------------------+---------------+--------------------+--------------------+-----------------+-------------+----------------------+--------------------------------+-------------------------------+--------------------------------------+-------------------------+-----------------------------------+-------------------------+-------------------------------+-----------------------------------------+----------------------+---------------------+-----------------------+----------------------------+---------------------------------+---------------------+----------------+--------------------+--------------------+--------------------+--------------+-----------+--------------+------------+----------------------+--------------+------------------------+---------------------------------+--------------------+--------------------+------------------+------------------+----------------------+--------------------+-------------------------------------+---------------------------------+-----------------------+------------------------+-----------------------------+---------------+----------------------+-----------------------+------------------------+----------------------+-----------------------+----------------------------+-----------------------+----------------------+------+--------------------------+--------------------------+--------------------------+--------------------------+---------------------------+------------------------+------------------------+---------------------------+----------+---------------------+-----------------+\n",
      "only showing top 20 rows\n",
      "\n"
     ]
    },
    {
     "data": {
      "text/plain": [
       "28485"
      ]
     },
     "execution_count": 4,
     "metadata": {},
     "output_type": "execute_result"
    }
   ],
   "source": [
    "churn_sdf = spark.table(\"dev.dw_visualization.tb_vw_churn\")\n",
    "churn_sdf.show()\n",
    "churn_sdf.count()"
   ]
  },
  {
   "cell_type": "markdown",
   "metadata": {},
   "source": [
    "## Transformação em anos"
   ]
  },
  {
   "cell_type": "code",
   "execution_count": 5,
   "metadata": {},
   "outputs": [],
   "source": [
    "sdf_final = sdf_final.withColumn(\"faturas_anos\", col(\"faturas\") / 12)\n",
    "sdf_final = sdf_final.withColumn(\"meses_contrato_anos\", col(\"meses_contrato\") / 12)"
   ]
  },
  {
   "cell_type": "markdown",
   "metadata": {},
   "source": [
    "## Estatisicas da tabela nova"
   ]
  },
  {
   "cell_type": "code",
   "execution_count": 6,
   "metadata": {},
   "outputs": [
    {
     "name": "stdout",
     "output_type": "stream",
     "text": [
      "Quantidade de clientes : 134317\n",
      "Quantidade de clientes ativos: 13283\n",
      "Quantidade de clientes Finalizados: 121034\n",
      "Quantidade de clientes com 'meses_contrato_anos' negativo: 1168\n",
      "Quantidade de clientes com 'data_final' menor que 'data_inicio': 1177\n"
     ]
    }
   ],
   "source": [
    "from pyspark.sql.functions import col\n",
    "\n",
    "num_clientes = sdf_final.count()\n",
    "\n",
    "print(f\"Quantidade de clientes : {num_clientes}\")\n",
    "\n",
    "# Contar valores nulos\n",
    "num_nulos = sdf_final.filter(col(\"data_final\").isNull()).count()\n",
    "\n",
    "# Contar valores não nulos\n",
    "num_nao_nulos = sdf_final.filter(col(\"data_final\").isNotNull()).count()\n",
    "\n",
    "print(f\"Quantidade de clientes ativos: {num_nulos}\")\n",
    "print(f\"Quantidade de clientes Finalizados: {num_nao_nulos}\")\n",
    "\n",
    "# Filtrando os registros onde 'meses_contrato_anos' é negativo\n",
    "clientes_com_meses_negativos = sdf_final.filter(col(\"meses_contrato_anos\") < 0)\n",
    "\n",
    "# Contando a quantidade de clientes\n",
    "quantidade_clientes = clientes_com_meses_negativos.count()\n",
    "\n",
    "# Exibindo o resultado\n",
    "print(f\"Quantidade de clientes com 'meses_contrato_anos' negativo: {quantidade_clientes}\")\n",
    "\n",
    "\n",
    "# Contar quantos registros têm data_final menor que data_inicio\n",
    "quantidade_datas_invalidas = sdf_final.filter(col(\"data_final\") < col(\"data_inicio\")).count()\n",
    "\n",
    "print(f\"Quantidade de clientes com 'data_final' menor que 'data_inicio': {quantidade_datas_invalidas}\")\n",
    "\n"
   ]
  },
  {
   "cell_type": "markdown",
   "metadata": {},
   "source": [
    "## Clientes Ativos e Finalizados"
   ]
  },
  {
   "cell_type": "code",
   "execution_count": 7,
   "metadata": {},
   "outputs": [
    {
     "name": "stdout",
     "output_type": "stream",
     "text": [
      "Quantidade de clientes após remoção de 'meses_contrato_anos' menores ou iguais a zero: 133149\n"
     ]
    }
   ],
   "source": [
    "# Filtrar e manter apenas registros com 'meses_contrato_anos' maior que zero\n",
    "sdf_final_filtro = sdf_final.filter(col(\"meses_contrato_anos\") >= 0)\n",
    "\n",
    "# Contar a quantidade de clientes após o filtro\n",
    "num_clientes_filtrados = sdf_final_filtro.count()\n",
    "print(f\"Quantidade de clientes após remoção de 'meses_contrato_anos' menores ou iguais a zero: {num_clientes_filtrados}\")"
   ]
  },
  {
   "cell_type": "code",
   "execution_count": 8,
   "metadata": {},
   "outputs": [],
   "source": [
    "# Contar valores nulos\n",
    "sdf_ativos = sdf_final_filtro.filter(col(\"data_final\").isNull())\n",
    "\n",
    "# Contar valores não nulos\n",
    "sdf_cancelados = sdf_final_filtro.filter(col(\"data_final\").isNotNull())"
   ]
  },
  {
   "cell_type": "code",
   "execution_count": 9,
   "metadata": {},
   "outputs": [
    {
     "name": "stdout",
     "output_type": "stream",
     "text": [
      "+---------+--------------+--------------------+----------+------------------+-------+--------------+------------------+-------------------+\n",
      "|contratos|     documento|         data_inicio|data_final|data_ultimo_boleto|faturas|meses_contrato|      faturas_anos|meses_contrato_anos|\n",
      "+---------+--------------+--------------------+----------+------------------+-------+--------------+------------------+-------------------+\n",
      "|        1|67902890000106|2003-08-21 09:36:...|      NULL|              NULL|    231|         258.0|             19.25|               21.5|\n",
      "|        1|19710352000169|2020-03-16 12:17:...|      NULL|              NULL|     59|          59.0| 4.916666666666667|  4.916666666666667|\n",
      "|        1|08585965000103|2008-03-28 00:00:...|      NULL|              NULL|    139|         202.0|11.583333333333334| 16.833333333333332|\n",
      "|        1|07841484000140|2009-09-08 00:00:...|      NULL|              NULL|    179|         185.0|14.916666666666666| 15.416666666666666|\n",
      "|        1|09475838000106|2017-01-05 00:00:...|      NULL|              NULL|     97|          97.0| 8.083333333333334|  8.083333333333334|\n",
      "|        1|07586486000130|2013-08-12 16:16:...|      NULL|              NULL|    136|         138.0|11.333333333333334|               11.5|\n",
      "|        1|59630483000150|2011-05-19 00:00:...|      NULL|              NULL|    164|         165.0|13.666666666666666|              13.75|\n",
      "|        1|49729718000102|2003-08-07 00:00:...|      NULL|              NULL|    255|         258.0|             21.25|               21.5|\n",
      "|        1|26041613000160|2017-02-03 00:00:...|      NULL|              NULL|     81|          96.0|              6.75|                8.0|\n",
      "|        1|11663503000163|2016-09-16 00:00:...|      NULL|              NULL|     77|         101.0| 6.416666666666667|  8.416666666666666|\n",
      "|        1|08715778000199|2007-10-25 00:00:...|      NULL|              NULL|    208|         207.0|17.333333333333332|              17.25|\n",
      "|        1|12294111000137|2022-07-08 10:41:...|      NULL|              NULL|     31|          31.0|2.5833333333333335| 2.5833333333333335|\n",
      "|        1|68560564000112|2003-08-22 09:34:...|      NULL|              NULL|    255|         258.0|             21.25|               21.5|\n",
      "|        1|02822417000165|2007-06-22 12:50:...|      NULL|              NULL|    208|         211.0|17.333333333333332| 17.583333333333332|\n",
      "|        1|05806380000170|2014-02-26 15:00:...|      NULL|              NULL|    132|         131.0|              11.0| 10.916666666666666|\n",
      "|        1|03492842000104|2015-08-17 18:07:...|      NULL|              NULL|    114|         114.0|               9.5|                9.5|\n",
      "|        1|22094629000180|2022-06-24 15:44:...|      NULL|              NULL|     32|          31.0|2.6666666666666665| 2.5833333333333335|\n",
      "|        1|02546557000158|2014-08-06 13:08:...|      NULL|              NULL|    126|         126.0|              10.5|               10.5|\n",
      "|        1|03936626000100|2011-12-27 00:00:...|      NULL|              NULL|    157|         157.0|13.083333333333334| 13.083333333333334|\n",
      "|        1|07245146000146|2010-11-18 00:00:...|      NULL|              NULL|    162|         171.0|              13.5|              14.25|\n",
      "+---------+--------------+--------------------+----------+------------------+-------+--------------+------------------+-------------------+\n",
      "only showing top 20 rows\n",
      "\n"
     ]
    },
    {
     "data": {
      "text/plain": [
       "13308"
      ]
     },
     "execution_count": 9,
     "metadata": {},
     "output_type": "execute_result"
    }
   ],
   "source": [
    "sdf_ativos.show()\n",
    "sdf_ativos.count()"
   ]
  },
  {
   "cell_type": "code",
   "execution_count": 10,
   "metadata": {},
   "outputs": [
    {
     "name": "stdout",
     "output_type": "stream",
     "text": [
      "+---------+--------------+--------------------+--------------------+--------------------+-------+--------------+------------------+-------------------+\n",
      "|contratos|     documento|         data_inicio|          data_final|  data_ultimo_boleto|faturas|meses_contrato|      faturas_anos|meses_contrato_anos|\n",
      "+---------+--------------+--------------------+--------------------+--------------------+-------+--------------+------------------+-------------------+\n",
      "|        1|07047708000147|2014-01-13 00:00:...|2015-05-05 00:00:...|2015-06-06 00:00:...|     13|          16.0|1.0833333333333333| 1.3333333333333333|\n",
      "|        1|08327876000159|2011-03-31 00:00:...|2014-08-28 00:00:...| 2014-08-05 00:00:00|     38|          41.0|3.1666666666666665| 3.4166666666666665|\n",
      "|        1|00194945000191|2008-03-12 00:00:...|2024-08-23 16:24:...|2024-08-01 00:00:...|    193|         197.0|16.083333333333332| 16.416666666666668|\n",
      "|        1|01574674000162|2007-03-26 00:00:...|2008-12-02 00:00:...| 2008-11-01 00:00:00|     20|          20.0|1.6666666666666667| 1.6666666666666667|\n",
      "|        1|02944466000170|2012-10-30 00:00:...|2025-01-27 08:30:...|2025-02-01 00:00:...|    147|         147.0|             12.25|              12.25|\n",
      "|        1|08423496000118|2013-02-06 00:00:...|2019-03-19 00:00:...| 2019-03-01 00:00:00|     73|          73.0| 6.083333333333333|  6.083333333333333|\n",
      "|        2|85325777000189|2010-11-25 00:00:...|2012-12-18 00:00:...| 2012-12-01 00:00:00|     24|          25.0|               2.0| 2.0833333333333335|\n",
      "|        1|03223352000102|2008-11-19 00:00:...|2022-06-24 00:00:...|2022-08-01 00:00:...|    152|         163.0|12.666666666666666| 13.583333333333334|\n",
      "|        1|20649393000176|2014-08-01 00:00:...|2020-09-23 00:00:...| 2020-09-01 00:00:00|     38|          74.0|3.1666666666666665|  6.166666666666667|\n",
      "|        1|05198168000177|2012-05-17 00:00:...|2015-07-06 00:00:...| 2015-07-01 00:00:00|     37|          38.0|3.0833333333333335| 3.1666666666666665|\n",
      "|        1|02914028000160|2013-01-14 00:00:...|2014-10-27 14:53:...| 2014-10-01 00:00:00|     21|          21.0|              1.75|               1.75|\n",
      "|        1|47098728000161|2000-08-07 00:00:...|2017-07-24 00:00:...|2017-11-06 00:00:...|    140|         204.0|11.666666666666666|               17.0|\n",
      "|        1|18985549000148|2008-08-13 00:00:...|2014-08-11 00:00:...| 2014-09-01 00:00:00|     73|          72.0| 6.083333333333333|                6.0|\n",
      "|        1|08171617000181|2015-04-29 16:18:...|2024-07-17 20:02:...|2024-07-01 00:00:...|    111|         111.0|              9.25|               9.25|\n",
      "|        1|73625790000174|2009-12-16 00:00:...|2011-02-16 00:00:...| 2011-02-01 00:00:00|     12|          14.0|               1.0| 1.1666666666666667|\n",
      "|        1|31700419000180|2019-04-18 10:17:...|2020-02-26 00:00:...|2020-04-01 00:00:...|     12|          10.0|               1.0| 0.8333333333333334|\n",
      "|        1|04685834000139|2021-02-10 17:04:...|2023-10-03 14:52:...|2023-10-01 00:00:...|     32|          32.0|2.6666666666666665| 2.6666666666666665|\n",
      "|        1|07639038000158|2014-07-10 10:57:...|2018-10-01 18:02:...| 2018-09-01 00:00:00|     50|          51.0| 4.166666666666667|               4.25|\n",
      "|        1|00847857000141|2011-07-01 00:00:...|2024-11-25 02:00:...|2025-02-01 00:00:...|    163|         161.0|13.583333333333334| 13.416666666666666|\n",
      "|        1|09179381000192|2016-05-03 12:27:...|2019-09-19 00:00:...| 2019-09-01 00:00:00|     40|          40.0|3.3333333333333335| 3.3333333333333335|\n",
      "+---------+--------------+--------------------+--------------------+--------------------+-------+--------------+------------------+-------------------+\n",
      "only showing top 20 rows\n",
      "\n"
     ]
    },
    {
     "data": {
      "text/plain": [
       "119841"
      ]
     },
     "execution_count": 10,
     "metadata": {},
     "output_type": "execute_result"
    }
   ],
   "source": [
    "sdf_cancelados.show()\n",
    "sdf_cancelados.count()"
   ]
  },
  {
   "cell_type": "markdown",
   "metadata": {},
   "source": [
    "## Numero de Contratos por Cliente"
   ]
  },
  {
   "cell_type": "code",
   "execution_count": 11,
   "metadata": {},
   "outputs": [
    {
     "data": {
      "application/vnd.plotly.v1+json": {
       "config": {
        "plotlyServerURL": "https://plot.ly"
       },
       "data": [
        {
         "text": {
          "bdata": "AAAAABDq/0AAAAAAABSrQAAAAAAAwFpAAAAAAAAAJEAAAAAAAAAAQAAAAAAAAABAAAAAAAAA8D8AAAAAAADwPwAAAAAAAPA/AAAAAAAA8D8AAAAAAADwPwAAAAAAAPA/AAAAAAAA8D8AAAAAAADwPwAAAAAAAPA/",
          "dtype": "f8"
         },
         "textposition": "outside",
         "type": "bar",
         "x": {
          "bdata": "AQIDBAYHCVQQFA4SCxoF",
          "dtype": "i1"
         },
         "y": {
          "bdata": "of4BAIoNAABrAAAACgAAAAIAAAACAAAAAQAAAAEAAAABAAAAAQAAAAEAAAABAAAAAQAAAAEAAAABAAAA",
          "dtype": "i4"
         }
        }
       ],
       "layout": {
        "bargap": 0.2,
        "height": 600,
        "template": {
         "data": {
          "bar": [
           {
            "error_x": {
             "color": "#2a3f5f"
            },
            "error_y": {
             "color": "#2a3f5f"
            },
            "marker": {
             "line": {
              "color": "#E5ECF6",
              "width": 0.5
             },
             "pattern": {
              "fillmode": "overlay",
              "size": 10,
              "solidity": 0.2
             }
            },
            "type": "bar"
           }
          ],
          "barpolar": [
           {
            "marker": {
             "line": {
              "color": "#E5ECF6",
              "width": 0.5
             },
             "pattern": {
              "fillmode": "overlay",
              "size": 10,
              "solidity": 0.2
             }
            },
            "type": "barpolar"
           }
          ],
          "carpet": [
           {
            "aaxis": {
             "endlinecolor": "#2a3f5f",
             "gridcolor": "white",
             "linecolor": "white",
             "minorgridcolor": "white",
             "startlinecolor": "#2a3f5f"
            },
            "baxis": {
             "endlinecolor": "#2a3f5f",
             "gridcolor": "white",
             "linecolor": "white",
             "minorgridcolor": "white",
             "startlinecolor": "#2a3f5f"
            },
            "type": "carpet"
           }
          ],
          "choropleth": [
           {
            "colorbar": {
             "outlinewidth": 0,
             "ticks": ""
            },
            "type": "choropleth"
           }
          ],
          "contour": [
           {
            "colorbar": {
             "outlinewidth": 0,
             "ticks": ""
            },
            "colorscale": [
             [
              0,
              "#0d0887"
             ],
             [
              0.1111111111111111,
              "#46039f"
             ],
             [
              0.2222222222222222,
              "#7201a8"
             ],
             [
              0.3333333333333333,
              "#9c179e"
             ],
             [
              0.4444444444444444,
              "#bd3786"
             ],
             [
              0.5555555555555556,
              "#d8576b"
             ],
             [
              0.6666666666666666,
              "#ed7953"
             ],
             [
              0.7777777777777778,
              "#fb9f3a"
             ],
             [
              0.8888888888888888,
              "#fdca26"
             ],
             [
              1,
              "#f0f921"
             ]
            ],
            "type": "contour"
           }
          ],
          "contourcarpet": [
           {
            "colorbar": {
             "outlinewidth": 0,
             "ticks": ""
            },
            "type": "contourcarpet"
           }
          ],
          "heatmap": [
           {
            "colorbar": {
             "outlinewidth": 0,
             "ticks": ""
            },
            "colorscale": [
             [
              0,
              "#0d0887"
             ],
             [
              0.1111111111111111,
              "#46039f"
             ],
             [
              0.2222222222222222,
              "#7201a8"
             ],
             [
              0.3333333333333333,
              "#9c179e"
             ],
             [
              0.4444444444444444,
              "#bd3786"
             ],
             [
              0.5555555555555556,
              "#d8576b"
             ],
             [
              0.6666666666666666,
              "#ed7953"
             ],
             [
              0.7777777777777778,
              "#fb9f3a"
             ],
             [
              0.8888888888888888,
              "#fdca26"
             ],
             [
              1,
              "#f0f921"
             ]
            ],
            "type": "heatmap"
           }
          ],
          "histogram": [
           {
            "marker": {
             "pattern": {
              "fillmode": "overlay",
              "size": 10,
              "solidity": 0.2
             }
            },
            "type": "histogram"
           }
          ],
          "histogram2d": [
           {
            "colorbar": {
             "outlinewidth": 0,
             "ticks": ""
            },
            "colorscale": [
             [
              0,
              "#0d0887"
             ],
             [
              0.1111111111111111,
              "#46039f"
             ],
             [
              0.2222222222222222,
              "#7201a8"
             ],
             [
              0.3333333333333333,
              "#9c179e"
             ],
             [
              0.4444444444444444,
              "#bd3786"
             ],
             [
              0.5555555555555556,
              "#d8576b"
             ],
             [
              0.6666666666666666,
              "#ed7953"
             ],
             [
              0.7777777777777778,
              "#fb9f3a"
             ],
             [
              0.8888888888888888,
              "#fdca26"
             ],
             [
              1,
              "#f0f921"
             ]
            ],
            "type": "histogram2d"
           }
          ],
          "histogram2dcontour": [
           {
            "colorbar": {
             "outlinewidth": 0,
             "ticks": ""
            },
            "colorscale": [
             [
              0,
              "#0d0887"
             ],
             [
              0.1111111111111111,
              "#46039f"
             ],
             [
              0.2222222222222222,
              "#7201a8"
             ],
             [
              0.3333333333333333,
              "#9c179e"
             ],
             [
              0.4444444444444444,
              "#bd3786"
             ],
             [
              0.5555555555555556,
              "#d8576b"
             ],
             [
              0.6666666666666666,
              "#ed7953"
             ],
             [
              0.7777777777777778,
              "#fb9f3a"
             ],
             [
              0.8888888888888888,
              "#fdca26"
             ],
             [
              1,
              "#f0f921"
             ]
            ],
            "type": "histogram2dcontour"
           }
          ],
          "mesh3d": [
           {
            "colorbar": {
             "outlinewidth": 0,
             "ticks": ""
            },
            "type": "mesh3d"
           }
          ],
          "parcoords": [
           {
            "line": {
             "colorbar": {
              "outlinewidth": 0,
              "ticks": ""
             }
            },
            "type": "parcoords"
           }
          ],
          "pie": [
           {
            "automargin": true,
            "type": "pie"
           }
          ],
          "scatter": [
           {
            "fillpattern": {
             "fillmode": "overlay",
             "size": 10,
             "solidity": 0.2
            },
            "type": "scatter"
           }
          ],
          "scatter3d": [
           {
            "line": {
             "colorbar": {
              "outlinewidth": 0,
              "ticks": ""
             }
            },
            "marker": {
             "colorbar": {
              "outlinewidth": 0,
              "ticks": ""
             }
            },
            "type": "scatter3d"
           }
          ],
          "scattercarpet": [
           {
            "marker": {
             "colorbar": {
              "outlinewidth": 0,
              "ticks": ""
             }
            },
            "type": "scattercarpet"
           }
          ],
          "scattergeo": [
           {
            "marker": {
             "colorbar": {
              "outlinewidth": 0,
              "ticks": ""
             }
            },
            "type": "scattergeo"
           }
          ],
          "scattergl": [
           {
            "marker": {
             "colorbar": {
              "outlinewidth": 0,
              "ticks": ""
             }
            },
            "type": "scattergl"
           }
          ],
          "scattermap": [
           {
            "marker": {
             "colorbar": {
              "outlinewidth": 0,
              "ticks": ""
             }
            },
            "type": "scattermap"
           }
          ],
          "scattermapbox": [
           {
            "marker": {
             "colorbar": {
              "outlinewidth": 0,
              "ticks": ""
             }
            },
            "type": "scattermapbox"
           }
          ],
          "scatterpolar": [
           {
            "marker": {
             "colorbar": {
              "outlinewidth": 0,
              "ticks": ""
             }
            },
            "type": "scatterpolar"
           }
          ],
          "scatterpolargl": [
           {
            "marker": {
             "colorbar": {
              "outlinewidth": 0,
              "ticks": ""
             }
            },
            "type": "scatterpolargl"
           }
          ],
          "scatterternary": [
           {
            "marker": {
             "colorbar": {
              "outlinewidth": 0,
              "ticks": ""
             }
            },
            "type": "scatterternary"
           }
          ],
          "surface": [
           {
            "colorbar": {
             "outlinewidth": 0,
             "ticks": ""
            },
            "colorscale": [
             [
              0,
              "#0d0887"
             ],
             [
              0.1111111111111111,
              "#46039f"
             ],
             [
              0.2222222222222222,
              "#7201a8"
             ],
             [
              0.3333333333333333,
              "#9c179e"
             ],
             [
              0.4444444444444444,
              "#bd3786"
             ],
             [
              0.5555555555555556,
              "#d8576b"
             ],
             [
              0.6666666666666666,
              "#ed7953"
             ],
             [
              0.7777777777777778,
              "#fb9f3a"
             ],
             [
              0.8888888888888888,
              "#fdca26"
             ],
             [
              1,
              "#f0f921"
             ]
            ],
            "type": "surface"
           }
          ],
          "table": [
           {
            "cells": {
             "fill": {
              "color": "#EBF0F8"
             },
             "line": {
              "color": "white"
             }
            },
            "header": {
             "fill": {
              "color": "#C8D4E3"
             },
             "line": {
              "color": "white"
             }
            },
            "type": "table"
           }
          ]
         },
         "layout": {
          "annotationdefaults": {
           "arrowcolor": "#2a3f5f",
           "arrowhead": 0,
           "arrowwidth": 1
          },
          "autotypenumbers": "strict",
          "coloraxis": {
           "colorbar": {
            "outlinewidth": 0,
            "ticks": ""
           }
          },
          "colorscale": {
           "diverging": [
            [
             0,
             "#8e0152"
            ],
            [
             0.1,
             "#c51b7d"
            ],
            [
             0.2,
             "#de77ae"
            ],
            [
             0.3,
             "#f1b6da"
            ],
            [
             0.4,
             "#fde0ef"
            ],
            [
             0.5,
             "#f7f7f7"
            ],
            [
             0.6,
             "#e6f5d0"
            ],
            [
             0.7,
             "#b8e186"
            ],
            [
             0.8,
             "#7fbc41"
            ],
            [
             0.9,
             "#4d9221"
            ],
            [
             1,
             "#276419"
            ]
           ],
           "sequential": [
            [
             0,
             "#0d0887"
            ],
            [
             0.1111111111111111,
             "#46039f"
            ],
            [
             0.2222222222222222,
             "#7201a8"
            ],
            [
             0.3333333333333333,
             "#9c179e"
            ],
            [
             0.4444444444444444,
             "#bd3786"
            ],
            [
             0.5555555555555556,
             "#d8576b"
            ],
            [
             0.6666666666666666,
             "#ed7953"
            ],
            [
             0.7777777777777778,
             "#fb9f3a"
            ],
            [
             0.8888888888888888,
             "#fdca26"
            ],
            [
             1,
             "#f0f921"
            ]
           ],
           "sequentialminus": [
            [
             0,
             "#0d0887"
            ],
            [
             0.1111111111111111,
             "#46039f"
            ],
            [
             0.2222222222222222,
             "#7201a8"
            ],
            [
             0.3333333333333333,
             "#9c179e"
            ],
            [
             0.4444444444444444,
             "#bd3786"
            ],
            [
             0.5555555555555556,
             "#d8576b"
            ],
            [
             0.6666666666666666,
             "#ed7953"
            ],
            [
             0.7777777777777778,
             "#fb9f3a"
            ],
            [
             0.8888888888888888,
             "#fdca26"
            ],
            [
             1,
             "#f0f921"
            ]
           ]
          },
          "colorway": [
           "#636efa",
           "#EF553B",
           "#00cc96",
           "#ab63fa",
           "#FFA15A",
           "#19d3f3",
           "#FF6692",
           "#B6E880",
           "#FF97FF",
           "#FECB52"
          ],
          "font": {
           "color": "#2a3f5f"
          },
          "geo": {
           "bgcolor": "white",
           "lakecolor": "white",
           "landcolor": "#E5ECF6",
           "showlakes": true,
           "showland": true,
           "subunitcolor": "white"
          },
          "hoverlabel": {
           "align": "left"
          },
          "hovermode": "closest",
          "mapbox": {
           "style": "light"
          },
          "paper_bgcolor": "white",
          "plot_bgcolor": "#E5ECF6",
          "polar": {
           "angularaxis": {
            "gridcolor": "white",
            "linecolor": "white",
            "ticks": ""
           },
           "bgcolor": "#E5ECF6",
           "radialaxis": {
            "gridcolor": "white",
            "linecolor": "white",
            "ticks": ""
           }
          },
          "scene": {
           "xaxis": {
            "backgroundcolor": "#E5ECF6",
            "gridcolor": "white",
            "gridwidth": 2,
            "linecolor": "white",
            "showbackground": true,
            "ticks": "",
            "zerolinecolor": "white"
           },
           "yaxis": {
            "backgroundcolor": "#E5ECF6",
            "gridcolor": "white",
            "gridwidth": 2,
            "linecolor": "white",
            "showbackground": true,
            "ticks": "",
            "zerolinecolor": "white"
           },
           "zaxis": {
            "backgroundcolor": "#E5ECF6",
            "gridcolor": "white",
            "gridwidth": 2,
            "linecolor": "white",
            "showbackground": true,
            "ticks": "",
            "zerolinecolor": "white"
           }
          },
          "shapedefaults": {
           "line": {
            "color": "#2a3f5f"
           }
          },
          "ternary": {
           "aaxis": {
            "gridcolor": "white",
            "linecolor": "white",
            "ticks": ""
           },
           "baxis": {
            "gridcolor": "white",
            "linecolor": "white",
            "ticks": ""
           },
           "bgcolor": "#E5ECF6",
           "caxis": {
            "gridcolor": "white",
            "linecolor": "white",
            "ticks": ""
           }
          },
          "title": {
           "x": 0.05
          },
          "xaxis": {
           "automargin": true,
           "gridcolor": "white",
           "linecolor": "white",
           "ticks": "",
           "title": {
            "standoff": 15
           },
           "zerolinecolor": "white",
           "zerolinewidth": 2
          },
          "yaxis": {
           "automargin": true,
           "gridcolor": "white",
           "linecolor": "white",
           "ticks": "",
           "title": {
            "standoff": 15
           },
           "zerolinecolor": "white",
           "zerolinewidth": 2
          }
         }
        },
        "title": {
         "text": "Distribuição do Número de Contratos por Cliente"
        },
        "xaxis": {
         "title": {
          "text": "Número de Contratos por Cliente"
         }
        },
        "yaxis": {
         "title": {
          "text": "Frequência"
         },
         "type": "log"
        }
       }
      }
     },
     "metadata": {},
     "output_type": "display_data"
    }
   ],
   "source": [
    "import plotly.graph_objects as go\n",
    "\n",
    "# Converter sdf_final para Pandas\n",
    "contratos_pd = sdf_final.select(\"contratos\").toPandas()\n",
    "\n",
    "# Contar a frequência de cada número de contratos\n",
    "contratos_freq = contratos_pd[\"contratos\"].value_counts().reset_index()\n",
    "contratos_freq.columns = [\"num_contratos\", \"frequencia\"]\n",
    "\n",
    "# Criar gráfico de barras\n",
    "fig = go.Figure()\n",
    "\n",
    "fig.add_trace(go.Bar(\n",
    "    x=contratos_freq[\"num_contratos\"], \n",
    "    y=contratos_freq[\"frequencia\"],\n",
    "    text=contratos_freq[\"frequencia\"],  # Adiciona os valores acima das barras\n",
    "    textposition='outside'  # Posiciona os rótulos fora das barras\n",
    "))\n",
    "\n",
    "# Configurar layout para melhorar a visualização\n",
    "fig.update_layout(\n",
    "    title=\"Distribuição do Número de Contratos por Cliente\",\n",
    "    xaxis_title=\"Número de Contratos por Cliente\",\n",
    "    yaxis_title=\"Frequência\",\n",
    "    bargap=0.2,\n",
    "    height=600,  # Aumenta o tamanho do gráfico\n",
    "    yaxis_type=\"log\",  # Escala logarítmica para visualizar valores pequenos e grandes\n",
    ")\n",
    "\n",
    "# Exibir o gráfico\n",
    "fig.show()\n"
   ]
  },
  {
   "cell_type": "markdown",
   "metadata": {},
   "source": [
    "## Tempo de Permanencia - Filtrado - Faturas"
   ]
  },
  {
   "cell_type": "code",
   "execution_count": 12,
   "metadata": {},
   "outputs": [
    {
     "name": "stderr",
     "output_type": "stream",
     "text": [
      "C:\\Users\\gusta\\AppData\\Local\\Temp\\ipykernel_18740\\2882117830.py:31: FutureWarning:\n",
      "\n",
      "The default of observed=False is deprecated and will be changed to True in a future version of pandas. Pass observed=False to retain current behavior or observed=True to adopt the future default and silence this warning.\n",
      "\n"
     ]
    },
    {
     "data": {
      "application/vnd.plotly.v1+json": {
       "config": {
        "plotlyServerURL": "https://plot.ly"
       },
       "data": [
        {
         "name": "Ativo",
         "type": "bar",
         "x": [
          "0-1 ano",
          "1-2 anos",
          "2-3 anos",
          "3-4 anos",
          "4-5 anos",
          "5-6 anos",
          "6-7 anos",
          "7-8 anos",
          "8-9 anos",
          "9-10 anos",
          "10+ anos"
         ],
         "y": {
          "bdata": "IQdaBlgDbQPuAsoDZQLHBKUCjwKlDA==",
          "dtype": "i2"
         }
        },
        {
         "name": "Cancelado",
         "type": "bar",
         "x": [
          "0-1 ano",
          "1-2 anos",
          "2-3 anos",
          "3-4 anos",
          "4-5 anos",
          "5-6 anos",
          "6-7 anos",
          "7-8 anos",
          "8-9 anos",
          "9-10 anos",
          "10+ anos"
         ],
         "y": {
          "bdata": "rqwAAMRmAAD7NAAAECMAAEIZAACvEwAAGA8AALwLAAB1CAAAdgYAAPMRAAA=",
          "dtype": "i4"
         }
        }
       ],
       "layout": {
        "barmode": "group",
        "template": {
         "data": {
          "bar": [
           {
            "error_x": {
             "color": "#2a3f5f"
            },
            "error_y": {
             "color": "#2a3f5f"
            },
            "marker": {
             "line": {
              "color": "#E5ECF6",
              "width": 0.5
             },
             "pattern": {
              "fillmode": "overlay",
              "size": 10,
              "solidity": 0.2
             }
            },
            "type": "bar"
           }
          ],
          "barpolar": [
           {
            "marker": {
             "line": {
              "color": "#E5ECF6",
              "width": 0.5
             },
             "pattern": {
              "fillmode": "overlay",
              "size": 10,
              "solidity": 0.2
             }
            },
            "type": "barpolar"
           }
          ],
          "carpet": [
           {
            "aaxis": {
             "endlinecolor": "#2a3f5f",
             "gridcolor": "white",
             "linecolor": "white",
             "minorgridcolor": "white",
             "startlinecolor": "#2a3f5f"
            },
            "baxis": {
             "endlinecolor": "#2a3f5f",
             "gridcolor": "white",
             "linecolor": "white",
             "minorgridcolor": "white",
             "startlinecolor": "#2a3f5f"
            },
            "type": "carpet"
           }
          ],
          "choropleth": [
           {
            "colorbar": {
             "outlinewidth": 0,
             "ticks": ""
            },
            "type": "choropleth"
           }
          ],
          "contour": [
           {
            "colorbar": {
             "outlinewidth": 0,
             "ticks": ""
            },
            "colorscale": [
             [
              0,
              "#0d0887"
             ],
             [
              0.1111111111111111,
              "#46039f"
             ],
             [
              0.2222222222222222,
              "#7201a8"
             ],
             [
              0.3333333333333333,
              "#9c179e"
             ],
             [
              0.4444444444444444,
              "#bd3786"
             ],
             [
              0.5555555555555556,
              "#d8576b"
             ],
             [
              0.6666666666666666,
              "#ed7953"
             ],
             [
              0.7777777777777778,
              "#fb9f3a"
             ],
             [
              0.8888888888888888,
              "#fdca26"
             ],
             [
              1,
              "#f0f921"
             ]
            ],
            "type": "contour"
           }
          ],
          "contourcarpet": [
           {
            "colorbar": {
             "outlinewidth": 0,
             "ticks": ""
            },
            "type": "contourcarpet"
           }
          ],
          "heatmap": [
           {
            "colorbar": {
             "outlinewidth": 0,
             "ticks": ""
            },
            "colorscale": [
             [
              0,
              "#0d0887"
             ],
             [
              0.1111111111111111,
              "#46039f"
             ],
             [
              0.2222222222222222,
              "#7201a8"
             ],
             [
              0.3333333333333333,
              "#9c179e"
             ],
             [
              0.4444444444444444,
              "#bd3786"
             ],
             [
              0.5555555555555556,
              "#d8576b"
             ],
             [
              0.6666666666666666,
              "#ed7953"
             ],
             [
              0.7777777777777778,
              "#fb9f3a"
             ],
             [
              0.8888888888888888,
              "#fdca26"
             ],
             [
              1,
              "#f0f921"
             ]
            ],
            "type": "heatmap"
           }
          ],
          "histogram": [
           {
            "marker": {
             "pattern": {
              "fillmode": "overlay",
              "size": 10,
              "solidity": 0.2
             }
            },
            "type": "histogram"
           }
          ],
          "histogram2d": [
           {
            "colorbar": {
             "outlinewidth": 0,
             "ticks": ""
            },
            "colorscale": [
             [
              0,
              "#0d0887"
             ],
             [
              0.1111111111111111,
              "#46039f"
             ],
             [
              0.2222222222222222,
              "#7201a8"
             ],
             [
              0.3333333333333333,
              "#9c179e"
             ],
             [
              0.4444444444444444,
              "#bd3786"
             ],
             [
              0.5555555555555556,
              "#d8576b"
             ],
             [
              0.6666666666666666,
              "#ed7953"
             ],
             [
              0.7777777777777778,
              "#fb9f3a"
             ],
             [
              0.8888888888888888,
              "#fdca26"
             ],
             [
              1,
              "#f0f921"
             ]
            ],
            "type": "histogram2d"
           }
          ],
          "histogram2dcontour": [
           {
            "colorbar": {
             "outlinewidth": 0,
             "ticks": ""
            },
            "colorscale": [
             [
              0,
              "#0d0887"
             ],
             [
              0.1111111111111111,
              "#46039f"
             ],
             [
              0.2222222222222222,
              "#7201a8"
             ],
             [
              0.3333333333333333,
              "#9c179e"
             ],
             [
              0.4444444444444444,
              "#bd3786"
             ],
             [
              0.5555555555555556,
              "#d8576b"
             ],
             [
              0.6666666666666666,
              "#ed7953"
             ],
             [
              0.7777777777777778,
              "#fb9f3a"
             ],
             [
              0.8888888888888888,
              "#fdca26"
             ],
             [
              1,
              "#f0f921"
             ]
            ],
            "type": "histogram2dcontour"
           }
          ],
          "mesh3d": [
           {
            "colorbar": {
             "outlinewidth": 0,
             "ticks": ""
            },
            "type": "mesh3d"
           }
          ],
          "parcoords": [
           {
            "line": {
             "colorbar": {
              "outlinewidth": 0,
              "ticks": ""
             }
            },
            "type": "parcoords"
           }
          ],
          "pie": [
           {
            "automargin": true,
            "type": "pie"
           }
          ],
          "scatter": [
           {
            "fillpattern": {
             "fillmode": "overlay",
             "size": 10,
             "solidity": 0.2
            },
            "type": "scatter"
           }
          ],
          "scatter3d": [
           {
            "line": {
             "colorbar": {
              "outlinewidth": 0,
              "ticks": ""
             }
            },
            "marker": {
             "colorbar": {
              "outlinewidth": 0,
              "ticks": ""
             }
            },
            "type": "scatter3d"
           }
          ],
          "scattercarpet": [
           {
            "marker": {
             "colorbar": {
              "outlinewidth": 0,
              "ticks": ""
             }
            },
            "type": "scattercarpet"
           }
          ],
          "scattergeo": [
           {
            "marker": {
             "colorbar": {
              "outlinewidth": 0,
              "ticks": ""
             }
            },
            "type": "scattergeo"
           }
          ],
          "scattergl": [
           {
            "marker": {
             "colorbar": {
              "outlinewidth": 0,
              "ticks": ""
             }
            },
            "type": "scattergl"
           }
          ],
          "scattermap": [
           {
            "marker": {
             "colorbar": {
              "outlinewidth": 0,
              "ticks": ""
             }
            },
            "type": "scattermap"
           }
          ],
          "scattermapbox": [
           {
            "marker": {
             "colorbar": {
              "outlinewidth": 0,
              "ticks": ""
             }
            },
            "type": "scattermapbox"
           }
          ],
          "scatterpolar": [
           {
            "marker": {
             "colorbar": {
              "outlinewidth": 0,
              "ticks": ""
             }
            },
            "type": "scatterpolar"
           }
          ],
          "scatterpolargl": [
           {
            "marker": {
             "colorbar": {
              "outlinewidth": 0,
              "ticks": ""
             }
            },
            "type": "scatterpolargl"
           }
          ],
          "scatterternary": [
           {
            "marker": {
             "colorbar": {
              "outlinewidth": 0,
              "ticks": ""
             }
            },
            "type": "scatterternary"
           }
          ],
          "surface": [
           {
            "colorbar": {
             "outlinewidth": 0,
             "ticks": ""
            },
            "colorscale": [
             [
              0,
              "#0d0887"
             ],
             [
              0.1111111111111111,
              "#46039f"
             ],
             [
              0.2222222222222222,
              "#7201a8"
             ],
             [
              0.3333333333333333,
              "#9c179e"
             ],
             [
              0.4444444444444444,
              "#bd3786"
             ],
             [
              0.5555555555555556,
              "#d8576b"
             ],
             [
              0.6666666666666666,
              "#ed7953"
             ],
             [
              0.7777777777777778,
              "#fb9f3a"
             ],
             [
              0.8888888888888888,
              "#fdca26"
             ],
             [
              1,
              "#f0f921"
             ]
            ],
            "type": "surface"
           }
          ],
          "table": [
           {
            "cells": {
             "fill": {
              "color": "#EBF0F8"
             },
             "line": {
              "color": "white"
             }
            },
            "header": {
             "fill": {
              "color": "#C8D4E3"
             },
             "line": {
              "color": "white"
             }
            },
            "type": "table"
           }
          ]
         },
         "layout": {
          "annotationdefaults": {
           "arrowcolor": "#2a3f5f",
           "arrowhead": 0,
           "arrowwidth": 1
          },
          "autotypenumbers": "strict",
          "coloraxis": {
           "colorbar": {
            "outlinewidth": 0,
            "ticks": ""
           }
          },
          "colorscale": {
           "diverging": [
            [
             0,
             "#8e0152"
            ],
            [
             0.1,
             "#c51b7d"
            ],
            [
             0.2,
             "#de77ae"
            ],
            [
             0.3,
             "#f1b6da"
            ],
            [
             0.4,
             "#fde0ef"
            ],
            [
             0.5,
             "#f7f7f7"
            ],
            [
             0.6,
             "#e6f5d0"
            ],
            [
             0.7,
             "#b8e186"
            ],
            [
             0.8,
             "#7fbc41"
            ],
            [
             0.9,
             "#4d9221"
            ],
            [
             1,
             "#276419"
            ]
           ],
           "sequential": [
            [
             0,
             "#0d0887"
            ],
            [
             0.1111111111111111,
             "#46039f"
            ],
            [
             0.2222222222222222,
             "#7201a8"
            ],
            [
             0.3333333333333333,
             "#9c179e"
            ],
            [
             0.4444444444444444,
             "#bd3786"
            ],
            [
             0.5555555555555556,
             "#d8576b"
            ],
            [
             0.6666666666666666,
             "#ed7953"
            ],
            [
             0.7777777777777778,
             "#fb9f3a"
            ],
            [
             0.8888888888888888,
             "#fdca26"
            ],
            [
             1,
             "#f0f921"
            ]
           ],
           "sequentialminus": [
            [
             0,
             "#0d0887"
            ],
            [
             0.1111111111111111,
             "#46039f"
            ],
            [
             0.2222222222222222,
             "#7201a8"
            ],
            [
             0.3333333333333333,
             "#9c179e"
            ],
            [
             0.4444444444444444,
             "#bd3786"
            ],
            [
             0.5555555555555556,
             "#d8576b"
            ],
            [
             0.6666666666666666,
             "#ed7953"
            ],
            [
             0.7777777777777778,
             "#fb9f3a"
            ],
            [
             0.8888888888888888,
             "#fdca26"
            ],
            [
             1,
             "#f0f921"
            ]
           ]
          },
          "colorway": [
           "#636efa",
           "#EF553B",
           "#00cc96",
           "#ab63fa",
           "#FFA15A",
           "#19d3f3",
           "#FF6692",
           "#B6E880",
           "#FF97FF",
           "#FECB52"
          ],
          "font": {
           "color": "#2a3f5f"
          },
          "geo": {
           "bgcolor": "white",
           "lakecolor": "white",
           "landcolor": "#E5ECF6",
           "showlakes": true,
           "showland": true,
           "subunitcolor": "white"
          },
          "hoverlabel": {
           "align": "left"
          },
          "hovermode": "closest",
          "mapbox": {
           "style": "light"
          },
          "paper_bgcolor": "white",
          "plot_bgcolor": "#E5ECF6",
          "polar": {
           "angularaxis": {
            "gridcolor": "white",
            "linecolor": "white",
            "ticks": ""
           },
           "bgcolor": "#E5ECF6",
           "radialaxis": {
            "gridcolor": "white",
            "linecolor": "white",
            "ticks": ""
           }
          },
          "scene": {
           "xaxis": {
            "backgroundcolor": "#E5ECF6",
            "gridcolor": "white",
            "gridwidth": 2,
            "linecolor": "white",
            "showbackground": true,
            "ticks": "",
            "zerolinecolor": "white"
           },
           "yaxis": {
            "backgroundcolor": "#E5ECF6",
            "gridcolor": "white",
            "gridwidth": 2,
            "linecolor": "white",
            "showbackground": true,
            "ticks": "",
            "zerolinecolor": "white"
           },
           "zaxis": {
            "backgroundcolor": "#E5ECF6",
            "gridcolor": "white",
            "gridwidth": 2,
            "linecolor": "white",
            "showbackground": true,
            "ticks": "",
            "zerolinecolor": "white"
           }
          },
          "shapedefaults": {
           "line": {
            "color": "#2a3f5f"
           }
          },
          "ternary": {
           "aaxis": {
            "gridcolor": "white",
            "linecolor": "white",
            "ticks": ""
           },
           "baxis": {
            "gridcolor": "white",
            "linecolor": "white",
            "ticks": ""
           },
           "bgcolor": "#E5ECF6",
           "caxis": {
            "gridcolor": "white",
            "linecolor": "white",
            "ticks": ""
           }
          },
          "title": {
           "x": 0.05
          },
          "xaxis": {
           "automargin": true,
           "gridcolor": "white",
           "linecolor": "white",
           "ticks": "",
           "title": {
            "standoff": 15
           },
           "zerolinecolor": "white",
           "zerolinewidth": 2
          },
          "yaxis": {
           "automargin": true,
           "gridcolor": "white",
           "linecolor": "white",
           "ticks": "",
           "title": {
            "standoff": 15
           },
           "zerolinecolor": "white",
           "zerolinewidth": 2
          }
         }
        },
        "title": {
         "text": "Distribuição do Tempo de Permanência dos Clientes (Faturas)"
        },
        "xaxis": {
         "title": {
          "text": "Faixa de Tempo de Permanência (anos)"
         }
        },
        "yaxis": {
         "title": {
          "text": "Quantidade de Clientes (escala logarítmica)"
         },
         "type": "log"
        }
       }
      }
     },
     "metadata": {},
     "output_type": "display_data"
    },
    {
     "data": {
      "text/html": [
       "<div>\n",
       "<style scoped>\n",
       "    .dataframe tbody tr th:only-of-type {\n",
       "        vertical-align: middle;\n",
       "    }\n",
       "\n",
       "    .dataframe tbody tr th {\n",
       "        vertical-align: top;\n",
       "    }\n",
       "\n",
       "    .dataframe thead th {\n",
       "        text-align: right;\n",
       "    }\n",
       "</style>\n",
       "<table border=\"1\" class=\"dataframe\">\n",
       "  <thead>\n",
       "    <tr style=\"text-align: right;\">\n",
       "      <th>status_contrato</th>\n",
       "      <th>Ativo</th>\n",
       "      <th>Cancelado</th>\n",
       "    </tr>\n",
       "    <tr>\n",
       "      <th>faixa_permanencia</th>\n",
       "      <th></th>\n",
       "      <th></th>\n",
       "    </tr>\n",
       "  </thead>\n",
       "  <tbody>\n",
       "    <tr>\n",
       "      <th>0-1 ano</th>\n",
       "      <td>1825</td>\n",
       "      <td>44206</td>\n",
       "    </tr>\n",
       "    <tr>\n",
       "      <th>1-2 anos</th>\n",
       "      <td>1626</td>\n",
       "      <td>26308</td>\n",
       "    </tr>\n",
       "    <tr>\n",
       "      <th>2-3 anos</th>\n",
       "      <td>856</td>\n",
       "      <td>13563</td>\n",
       "    </tr>\n",
       "    <tr>\n",
       "      <th>3-4 anos</th>\n",
       "      <td>877</td>\n",
       "      <td>8976</td>\n",
       "    </tr>\n",
       "    <tr>\n",
       "      <th>4-5 anos</th>\n",
       "      <td>750</td>\n",
       "      <td>6466</td>\n",
       "    </tr>\n",
       "    <tr>\n",
       "      <th>5-6 anos</th>\n",
       "      <td>970</td>\n",
       "      <td>5039</td>\n",
       "    </tr>\n",
       "    <tr>\n",
       "      <th>6-7 anos</th>\n",
       "      <td>613</td>\n",
       "      <td>3864</td>\n",
       "    </tr>\n",
       "    <tr>\n",
       "      <th>7-8 anos</th>\n",
       "      <td>1223</td>\n",
       "      <td>3004</td>\n",
       "    </tr>\n",
       "    <tr>\n",
       "      <th>8-9 anos</th>\n",
       "      <td>677</td>\n",
       "      <td>2165</td>\n",
       "    </tr>\n",
       "    <tr>\n",
       "      <th>9-10 anos</th>\n",
       "      <td>655</td>\n",
       "      <td>1654</td>\n",
       "    </tr>\n",
       "    <tr>\n",
       "      <th>10+ anos</th>\n",
       "      <td>3237</td>\n",
       "      <td>4595</td>\n",
       "    </tr>\n",
       "  </tbody>\n",
       "</table>\n",
       "</div>"
      ],
      "text/plain": [
       "status_contrato    Ativo  Cancelado\n",
       "faixa_permanencia                  \n",
       "0-1 ano             1825      44206\n",
       "1-2 anos            1626      26308\n",
       "2-3 anos             856      13563\n",
       "3-4 anos             877       8976\n",
       "4-5 anos             750       6466\n",
       "5-6 anos             970       5039\n",
       "6-7 anos             613       3864\n",
       "7-8 anos            1223       3004\n",
       "8-9 anos             677       2165\n",
       "9-10 anos            655       1654\n",
       "10+ anos            3237       4595"
      ]
     },
     "metadata": {},
     "output_type": "display_data"
    },
    {
     "data": {
      "text/html": [
       "<div>\n",
       "<style scoped>\n",
       "    .dataframe tbody tr th:only-of-type {\n",
       "        vertical-align: middle;\n",
       "    }\n",
       "\n",
       "    .dataframe tbody tr th {\n",
       "        vertical-align: top;\n",
       "    }\n",
       "\n",
       "    .dataframe thead th {\n",
       "        text-align: right;\n",
       "    }\n",
       "</style>\n",
       "<table border=\"1\" class=\"dataframe\">\n",
       "  <thead>\n",
       "    <tr style=\"text-align: right;\">\n",
       "      <th>status_contrato</th>\n",
       "      <th>Ativo</th>\n",
       "      <th>Cancelado</th>\n",
       "    </tr>\n",
       "    <tr>\n",
       "      <th>faixa_permanencia</th>\n",
       "      <th></th>\n",
       "      <th></th>\n",
       "    </tr>\n",
       "  </thead>\n",
       "  <tbody>\n",
       "    <tr>\n",
       "      <th>0-1 ano</th>\n",
       "      <td>3.96%</td>\n",
       "      <td>96.04%</td>\n",
       "    </tr>\n",
       "    <tr>\n",
       "      <th>1-2 anos</th>\n",
       "      <td>5.82%</td>\n",
       "      <td>94.18%</td>\n",
       "    </tr>\n",
       "    <tr>\n",
       "      <th>2-3 anos</th>\n",
       "      <td>5.94%</td>\n",
       "      <td>94.06%</td>\n",
       "    </tr>\n",
       "    <tr>\n",
       "      <th>3-4 anos</th>\n",
       "      <td>8.9%</td>\n",
       "      <td>91.1%</td>\n",
       "    </tr>\n",
       "    <tr>\n",
       "      <th>4-5 anos</th>\n",
       "      <td>10.39%</td>\n",
       "      <td>89.61%</td>\n",
       "    </tr>\n",
       "    <tr>\n",
       "      <th>5-6 anos</th>\n",
       "      <td>16.14%</td>\n",
       "      <td>83.86%</td>\n",
       "    </tr>\n",
       "    <tr>\n",
       "      <th>6-7 anos</th>\n",
       "      <td>13.69%</td>\n",
       "      <td>86.31%</td>\n",
       "    </tr>\n",
       "    <tr>\n",
       "      <th>7-8 anos</th>\n",
       "      <td>28.93%</td>\n",
       "      <td>71.07%</td>\n",
       "    </tr>\n",
       "    <tr>\n",
       "      <th>8-9 anos</th>\n",
       "      <td>23.82%</td>\n",
       "      <td>76.18%</td>\n",
       "    </tr>\n",
       "    <tr>\n",
       "      <th>9-10 anos</th>\n",
       "      <td>28.37%</td>\n",
       "      <td>71.63%</td>\n",
       "    </tr>\n",
       "    <tr>\n",
       "      <th>10+ anos</th>\n",
       "      <td>41.33%</td>\n",
       "      <td>58.67%</td>\n",
       "    </tr>\n",
       "  </tbody>\n",
       "</table>\n",
       "</div>"
      ],
      "text/plain": [
       "status_contrato     Ativo Cancelado\n",
       "faixa_permanencia                  \n",
       "0-1 ano             3.96%    96.04%\n",
       "1-2 anos            5.82%    94.18%\n",
       "2-3 anos            5.94%    94.06%\n",
       "3-4 anos             8.9%     91.1%\n",
       "4-5 anos           10.39%    89.61%\n",
       "5-6 anos           16.14%    83.86%\n",
       "6-7 anos           13.69%    86.31%\n",
       "7-8 anos           28.93%    71.07%\n",
       "8-9 anos           23.82%    76.18%\n",
       "9-10 anos          28.37%    71.63%\n",
       "10+ anos           41.33%    58.67%"
      ]
     },
     "metadata": {},
     "output_type": "display_data"
    }
   ],
   "source": [
    "import plotly.graph_objects as go\n",
    "import pandas as pd\n",
    "\n",
    "# Converter para Pandas para visualização\n",
    "df_permanencia = sdf_final_filtro.select(\"faturas_anos\", \"data_final\").toPandas()\n",
    "\n",
    "# Garantir que há valores para definir o bin máximo\n",
    "max_anos = df_permanencia[\"faturas_anos\"].max()\n",
    "bins = [0, 1, 2, 3, 4, 5, 6, 7, 8, 9, 10, max_anos + 1]  # Adiciona um espaço extra para o último bin\n",
    "labels = [\n",
    "    \"0-1 ano\",\n",
    "    \"1-2 anos\",\n",
    "    \"2-3 anos\",\n",
    "    \"3-4 anos\",\n",
    "    \"4-5 anos\",\n",
    "    \"5-6 anos\",\n",
    "    \"6-7 anos\",\n",
    "    \"7-8 anos\",\n",
    "    \"8-9 anos\",\n",
    "    \"9-10 anos\",\n",
    "    \"10+ anos\"\n",
    "]\n",
    "\n",
    "# Criar coluna categórica com os intervalos corrigidos\n",
    "df_permanencia[\"faixa_permanencia\"] = pd.cut(df_permanencia[\"faturas_anos\"], bins=bins, labels=labels, right=False)\n",
    "\n",
    "# Classificar contratos como Ativo (nulo) ou Cancelado (não nulo)\n",
    "df_permanencia[\"status_contrato\"] = df_permanencia[\"data_final\"].apply(lambda x: \"Ativo\" if pd.isna(x) else \"Cancelado\")\n",
    "\n",
    "# Contar a quantidade de contratos ativos e cancelados por faixa de permanência\n",
    "df_faixas_status = df_permanencia.groupby([\"faixa_permanencia\", \"status_contrato\"]).size().unstack(fill_value=0)\n",
    "\n",
    "# Criar gráfico de barras agrupadas (um do lado do outro)\n",
    "fig = go.Figure()\n",
    "\n",
    "# Adicionar barras para Ativo e Cancelado\n",
    "for status in [\"Ativo\", \"Cancelado\"]:\n",
    "    fig.add_trace(go.Bar(\n",
    "        x=df_faixas_status.index.astype(str),\n",
    "        y=df_faixas_status[status],\n",
    "        name=status\n",
    "    ))\n",
    "\n",
    "# Configurar layout do gráfico\n",
    "fig.update_layout(\n",
    "    title=\"Distribuição do Tempo de Permanência dos Clientes (Faturas)\",\n",
    "    xaxis_title=\"Faixa de Tempo de Permanência (anos)\",\n",
    "    yaxis_title=\"Quantidade de Clientes (escala logarítmica)\",\n",
    "    barmode=\"group\",  # Barras lado a lado\n",
    "    yaxis=dict(type=\"log\")  # Aplicar escala logarítmica\n",
    ")\n",
    "\n",
    "# Exibir gráfico\n",
    "fig.show()\n",
    "\n",
    "# Calcular a porcentagem de cada status dentro de cada faixa de permanência\n",
    "df_faixas_status_percent = df_faixas_status.div(df_faixas_status.sum(axis=1), axis=0) * 100\n",
    "\n",
    "df_faixas_status_percent = df_faixas_status_percent.round(2).astype(str) + '%'\n",
    "# Exibir a tabela de faixas de permanência com status\n",
    "display(df_faixas_status)\n",
    "display(df_faixas_status_percent)\n",
    "\n"
   ]
  },
  {
   "cell_type": "markdown",
   "metadata": {},
   "source": [
    "## Tempo de Permanencia - Filtrado - meses_contratos_anos "
   ]
  },
  {
   "cell_type": "code",
   "execution_count": 13,
   "metadata": {},
   "outputs": [
    {
     "name": "stderr",
     "output_type": "stream",
     "text": [
      "C:\\Users\\gusta\\AppData\\Local\\Temp\\ipykernel_18740\\3237793005.py:31: FutureWarning:\n",
      "\n",
      "The default of observed=False is deprecated and will be changed to True in a future version of pandas. Pass observed=False to retain current behavior or observed=True to adopt the future default and silence this warning.\n",
      "\n"
     ]
    },
    {
     "data": {
      "application/vnd.plotly.v1+json": {
       "config": {
        "plotlyServerURL": "https://plot.ly"
       },
       "data": [
        {
         "name": "Ativo",
         "type": "bar",
         "x": [
          "0-1 ano",
          "1-2 anos",
          "2-3 anos",
          "3-4 anos",
          "4-5 anos",
          "5-6 anos",
          "6-7 anos",
          "7-8 anos",
          "8-9 anos",
          "9-10 anos",
          "10+ anos"
         ],
         "y": {
          "bdata": "dAT6AyEDZwPTAgkEbAIzAkIDcQPZEg==",
          "dtype": "i2"
         }
        },
        {
         "name": "Cancelado",
         "type": "bar",
         "x": [
          "0-1 ano",
          "1-2 anos",
          "2-3 anos",
          "3-4 anos",
          "4-5 anos",
          "5-6 anos",
          "6-7 anos",
          "7-8 anos",
          "8-9 anos",
          "9-10 anos",
          "10+ anos"
         ],
         "y": {
          "bdata": "CmZVYUM6hSpDI+4b7xXsEJkOaQzrJg==",
          "dtype": "i2"
         }
        }
       ],
       "layout": {
        "barmode": "group",
        "template": {
         "data": {
          "bar": [
           {
            "error_x": {
             "color": "#2a3f5f"
            },
            "error_y": {
             "color": "#2a3f5f"
            },
            "marker": {
             "line": {
              "color": "#E5ECF6",
              "width": 0.5
             },
             "pattern": {
              "fillmode": "overlay",
              "size": 10,
              "solidity": 0.2
             }
            },
            "type": "bar"
           }
          ],
          "barpolar": [
           {
            "marker": {
             "line": {
              "color": "#E5ECF6",
              "width": 0.5
             },
             "pattern": {
              "fillmode": "overlay",
              "size": 10,
              "solidity": 0.2
             }
            },
            "type": "barpolar"
           }
          ],
          "carpet": [
           {
            "aaxis": {
             "endlinecolor": "#2a3f5f",
             "gridcolor": "white",
             "linecolor": "white",
             "minorgridcolor": "white",
             "startlinecolor": "#2a3f5f"
            },
            "baxis": {
             "endlinecolor": "#2a3f5f",
             "gridcolor": "white",
             "linecolor": "white",
             "minorgridcolor": "white",
             "startlinecolor": "#2a3f5f"
            },
            "type": "carpet"
           }
          ],
          "choropleth": [
           {
            "colorbar": {
             "outlinewidth": 0,
             "ticks": ""
            },
            "type": "choropleth"
           }
          ],
          "contour": [
           {
            "colorbar": {
             "outlinewidth": 0,
             "ticks": ""
            },
            "colorscale": [
             [
              0,
              "#0d0887"
             ],
             [
              0.1111111111111111,
              "#46039f"
             ],
             [
              0.2222222222222222,
              "#7201a8"
             ],
             [
              0.3333333333333333,
              "#9c179e"
             ],
             [
              0.4444444444444444,
              "#bd3786"
             ],
             [
              0.5555555555555556,
              "#d8576b"
             ],
             [
              0.6666666666666666,
              "#ed7953"
             ],
             [
              0.7777777777777778,
              "#fb9f3a"
             ],
             [
              0.8888888888888888,
              "#fdca26"
             ],
             [
              1,
              "#f0f921"
             ]
            ],
            "type": "contour"
           }
          ],
          "contourcarpet": [
           {
            "colorbar": {
             "outlinewidth": 0,
             "ticks": ""
            },
            "type": "contourcarpet"
           }
          ],
          "heatmap": [
           {
            "colorbar": {
             "outlinewidth": 0,
             "ticks": ""
            },
            "colorscale": [
             [
              0,
              "#0d0887"
             ],
             [
              0.1111111111111111,
              "#46039f"
             ],
             [
              0.2222222222222222,
              "#7201a8"
             ],
             [
              0.3333333333333333,
              "#9c179e"
             ],
             [
              0.4444444444444444,
              "#bd3786"
             ],
             [
              0.5555555555555556,
              "#d8576b"
             ],
             [
              0.6666666666666666,
              "#ed7953"
             ],
             [
              0.7777777777777778,
              "#fb9f3a"
             ],
             [
              0.8888888888888888,
              "#fdca26"
             ],
             [
              1,
              "#f0f921"
             ]
            ],
            "type": "heatmap"
           }
          ],
          "histogram": [
           {
            "marker": {
             "pattern": {
              "fillmode": "overlay",
              "size": 10,
              "solidity": 0.2
             }
            },
            "type": "histogram"
           }
          ],
          "histogram2d": [
           {
            "colorbar": {
             "outlinewidth": 0,
             "ticks": ""
            },
            "colorscale": [
             [
              0,
              "#0d0887"
             ],
             [
              0.1111111111111111,
              "#46039f"
             ],
             [
              0.2222222222222222,
              "#7201a8"
             ],
             [
              0.3333333333333333,
              "#9c179e"
             ],
             [
              0.4444444444444444,
              "#bd3786"
             ],
             [
              0.5555555555555556,
              "#d8576b"
             ],
             [
              0.6666666666666666,
              "#ed7953"
             ],
             [
              0.7777777777777778,
              "#fb9f3a"
             ],
             [
              0.8888888888888888,
              "#fdca26"
             ],
             [
              1,
              "#f0f921"
             ]
            ],
            "type": "histogram2d"
           }
          ],
          "histogram2dcontour": [
           {
            "colorbar": {
             "outlinewidth": 0,
             "ticks": ""
            },
            "colorscale": [
             [
              0,
              "#0d0887"
             ],
             [
              0.1111111111111111,
              "#46039f"
             ],
             [
              0.2222222222222222,
              "#7201a8"
             ],
             [
              0.3333333333333333,
              "#9c179e"
             ],
             [
              0.4444444444444444,
              "#bd3786"
             ],
             [
              0.5555555555555556,
              "#d8576b"
             ],
             [
              0.6666666666666666,
              "#ed7953"
             ],
             [
              0.7777777777777778,
              "#fb9f3a"
             ],
             [
              0.8888888888888888,
              "#fdca26"
             ],
             [
              1,
              "#f0f921"
             ]
            ],
            "type": "histogram2dcontour"
           }
          ],
          "mesh3d": [
           {
            "colorbar": {
             "outlinewidth": 0,
             "ticks": ""
            },
            "type": "mesh3d"
           }
          ],
          "parcoords": [
           {
            "line": {
             "colorbar": {
              "outlinewidth": 0,
              "ticks": ""
             }
            },
            "type": "parcoords"
           }
          ],
          "pie": [
           {
            "automargin": true,
            "type": "pie"
           }
          ],
          "scatter": [
           {
            "fillpattern": {
             "fillmode": "overlay",
             "size": 10,
             "solidity": 0.2
            },
            "type": "scatter"
           }
          ],
          "scatter3d": [
           {
            "line": {
             "colorbar": {
              "outlinewidth": 0,
              "ticks": ""
             }
            },
            "marker": {
             "colorbar": {
              "outlinewidth": 0,
              "ticks": ""
             }
            },
            "type": "scatter3d"
           }
          ],
          "scattercarpet": [
           {
            "marker": {
             "colorbar": {
              "outlinewidth": 0,
              "ticks": ""
             }
            },
            "type": "scattercarpet"
           }
          ],
          "scattergeo": [
           {
            "marker": {
             "colorbar": {
              "outlinewidth": 0,
              "ticks": ""
             }
            },
            "type": "scattergeo"
           }
          ],
          "scattergl": [
           {
            "marker": {
             "colorbar": {
              "outlinewidth": 0,
              "ticks": ""
             }
            },
            "type": "scattergl"
           }
          ],
          "scattermap": [
           {
            "marker": {
             "colorbar": {
              "outlinewidth": 0,
              "ticks": ""
             }
            },
            "type": "scattermap"
           }
          ],
          "scattermapbox": [
           {
            "marker": {
             "colorbar": {
              "outlinewidth": 0,
              "ticks": ""
             }
            },
            "type": "scattermapbox"
           }
          ],
          "scatterpolar": [
           {
            "marker": {
             "colorbar": {
              "outlinewidth": 0,
              "ticks": ""
             }
            },
            "type": "scatterpolar"
           }
          ],
          "scatterpolargl": [
           {
            "marker": {
             "colorbar": {
              "outlinewidth": 0,
              "ticks": ""
             }
            },
            "type": "scatterpolargl"
           }
          ],
          "scatterternary": [
           {
            "marker": {
             "colorbar": {
              "outlinewidth": 0,
              "ticks": ""
             }
            },
            "type": "scatterternary"
           }
          ],
          "surface": [
           {
            "colorbar": {
             "outlinewidth": 0,
             "ticks": ""
            },
            "colorscale": [
             [
              0,
              "#0d0887"
             ],
             [
              0.1111111111111111,
              "#46039f"
             ],
             [
              0.2222222222222222,
              "#7201a8"
             ],
             [
              0.3333333333333333,
              "#9c179e"
             ],
             [
              0.4444444444444444,
              "#bd3786"
             ],
             [
              0.5555555555555556,
              "#d8576b"
             ],
             [
              0.6666666666666666,
              "#ed7953"
             ],
             [
              0.7777777777777778,
              "#fb9f3a"
             ],
             [
              0.8888888888888888,
              "#fdca26"
             ],
             [
              1,
              "#f0f921"
             ]
            ],
            "type": "surface"
           }
          ],
          "table": [
           {
            "cells": {
             "fill": {
              "color": "#EBF0F8"
             },
             "line": {
              "color": "white"
             }
            },
            "header": {
             "fill": {
              "color": "#C8D4E3"
             },
             "line": {
              "color": "white"
             }
            },
            "type": "table"
           }
          ]
         },
         "layout": {
          "annotationdefaults": {
           "arrowcolor": "#2a3f5f",
           "arrowhead": 0,
           "arrowwidth": 1
          },
          "autotypenumbers": "strict",
          "coloraxis": {
           "colorbar": {
            "outlinewidth": 0,
            "ticks": ""
           }
          },
          "colorscale": {
           "diverging": [
            [
             0,
             "#8e0152"
            ],
            [
             0.1,
             "#c51b7d"
            ],
            [
             0.2,
             "#de77ae"
            ],
            [
             0.3,
             "#f1b6da"
            ],
            [
             0.4,
             "#fde0ef"
            ],
            [
             0.5,
             "#f7f7f7"
            ],
            [
             0.6,
             "#e6f5d0"
            ],
            [
             0.7,
             "#b8e186"
            ],
            [
             0.8,
             "#7fbc41"
            ],
            [
             0.9,
             "#4d9221"
            ],
            [
             1,
             "#276419"
            ]
           ],
           "sequential": [
            [
             0,
             "#0d0887"
            ],
            [
             0.1111111111111111,
             "#46039f"
            ],
            [
             0.2222222222222222,
             "#7201a8"
            ],
            [
             0.3333333333333333,
             "#9c179e"
            ],
            [
             0.4444444444444444,
             "#bd3786"
            ],
            [
             0.5555555555555556,
             "#d8576b"
            ],
            [
             0.6666666666666666,
             "#ed7953"
            ],
            [
             0.7777777777777778,
             "#fb9f3a"
            ],
            [
             0.8888888888888888,
             "#fdca26"
            ],
            [
             1,
             "#f0f921"
            ]
           ],
           "sequentialminus": [
            [
             0,
             "#0d0887"
            ],
            [
             0.1111111111111111,
             "#46039f"
            ],
            [
             0.2222222222222222,
             "#7201a8"
            ],
            [
             0.3333333333333333,
             "#9c179e"
            ],
            [
             0.4444444444444444,
             "#bd3786"
            ],
            [
             0.5555555555555556,
             "#d8576b"
            ],
            [
             0.6666666666666666,
             "#ed7953"
            ],
            [
             0.7777777777777778,
             "#fb9f3a"
            ],
            [
             0.8888888888888888,
             "#fdca26"
            ],
            [
             1,
             "#f0f921"
            ]
           ]
          },
          "colorway": [
           "#636efa",
           "#EF553B",
           "#00cc96",
           "#ab63fa",
           "#FFA15A",
           "#19d3f3",
           "#FF6692",
           "#B6E880",
           "#FF97FF",
           "#FECB52"
          ],
          "font": {
           "color": "#2a3f5f"
          },
          "geo": {
           "bgcolor": "white",
           "lakecolor": "white",
           "landcolor": "#E5ECF6",
           "showlakes": true,
           "showland": true,
           "subunitcolor": "white"
          },
          "hoverlabel": {
           "align": "left"
          },
          "hovermode": "closest",
          "mapbox": {
           "style": "light"
          },
          "paper_bgcolor": "white",
          "plot_bgcolor": "#E5ECF6",
          "polar": {
           "angularaxis": {
            "gridcolor": "white",
            "linecolor": "white",
            "ticks": ""
           },
           "bgcolor": "#E5ECF6",
           "radialaxis": {
            "gridcolor": "white",
            "linecolor": "white",
            "ticks": ""
           }
          },
          "scene": {
           "xaxis": {
            "backgroundcolor": "#E5ECF6",
            "gridcolor": "white",
            "gridwidth": 2,
            "linecolor": "white",
            "showbackground": true,
            "ticks": "",
            "zerolinecolor": "white"
           },
           "yaxis": {
            "backgroundcolor": "#E5ECF6",
            "gridcolor": "white",
            "gridwidth": 2,
            "linecolor": "white",
            "showbackground": true,
            "ticks": "",
            "zerolinecolor": "white"
           },
           "zaxis": {
            "backgroundcolor": "#E5ECF6",
            "gridcolor": "white",
            "gridwidth": 2,
            "linecolor": "white",
            "showbackground": true,
            "ticks": "",
            "zerolinecolor": "white"
           }
          },
          "shapedefaults": {
           "line": {
            "color": "#2a3f5f"
           }
          },
          "ternary": {
           "aaxis": {
            "gridcolor": "white",
            "linecolor": "white",
            "ticks": ""
           },
           "baxis": {
            "gridcolor": "white",
            "linecolor": "white",
            "ticks": ""
           },
           "bgcolor": "#E5ECF6",
           "caxis": {
            "gridcolor": "white",
            "linecolor": "white",
            "ticks": ""
           }
          },
          "title": {
           "x": 0.05
          },
          "xaxis": {
           "automargin": true,
           "gridcolor": "white",
           "linecolor": "white",
           "ticks": "",
           "title": {
            "standoff": 15
           },
           "zerolinecolor": "white",
           "zerolinewidth": 2
          },
          "yaxis": {
           "automargin": true,
           "gridcolor": "white",
           "linecolor": "white",
           "ticks": "",
           "title": {
            "standoff": 15
           },
           "zerolinecolor": "white",
           "zerolinewidth": 2
          }
         }
        },
        "title": {
         "text": "Distribuição do Tempo de Permanência dos Clientes (Diferença Datas)"
        },
        "xaxis": {
         "title": {
          "text": "Faixa de Tempo de Permanência (anos)"
         }
        },
        "yaxis": {
         "title": {
          "text": "Quantidade de Clientes (escala logarítmica)"
         },
         "type": "log"
        }
       }
      }
     },
     "metadata": {},
     "output_type": "display_data"
    },
    {
     "data": {
      "text/html": [
       "<div>\n",
       "<style scoped>\n",
       "    .dataframe tbody tr th:only-of-type {\n",
       "        vertical-align: middle;\n",
       "    }\n",
       "\n",
       "    .dataframe tbody tr th {\n",
       "        vertical-align: top;\n",
       "    }\n",
       "\n",
       "    .dataframe thead th {\n",
       "        text-align: right;\n",
       "    }\n",
       "</style>\n",
       "<table border=\"1\" class=\"dataframe\">\n",
       "  <thead>\n",
       "    <tr style=\"text-align: right;\">\n",
       "      <th>status_contrato</th>\n",
       "      <th>Ativo</th>\n",
       "      <th>Cancelado</th>\n",
       "    </tr>\n",
       "    <tr>\n",
       "      <th>faixa_permanencia</th>\n",
       "      <th></th>\n",
       "      <th></th>\n",
       "    </tr>\n",
       "  </thead>\n",
       "  <tbody>\n",
       "    <tr>\n",
       "      <th>0-1 ano</th>\n",
       "      <td>1140</td>\n",
       "      <td>26122</td>\n",
       "    </tr>\n",
       "    <tr>\n",
       "      <th>1-2 anos</th>\n",
       "      <td>1018</td>\n",
       "      <td>24917</td>\n",
       "    </tr>\n",
       "    <tr>\n",
       "      <th>2-3 anos</th>\n",
       "      <td>801</td>\n",
       "      <td>14915</td>\n",
       "    </tr>\n",
       "    <tr>\n",
       "      <th>3-4 anos</th>\n",
       "      <td>871</td>\n",
       "      <td>10885</td>\n",
       "    </tr>\n",
       "    <tr>\n",
       "      <th>4-5 anos</th>\n",
       "      <td>723</td>\n",
       "      <td>9027</td>\n",
       "    </tr>\n",
       "    <tr>\n",
       "      <th>5-6 anos</th>\n",
       "      <td>1033</td>\n",
       "      <td>7150</td>\n",
       "    </tr>\n",
       "    <tr>\n",
       "      <th>6-7 anos</th>\n",
       "      <td>620</td>\n",
       "      <td>5615</td>\n",
       "    </tr>\n",
       "    <tr>\n",
       "      <th>7-8 anos</th>\n",
       "      <td>563</td>\n",
       "      <td>4332</td>\n",
       "    </tr>\n",
       "    <tr>\n",
       "      <th>8-9 anos</th>\n",
       "      <td>834</td>\n",
       "      <td>3737</td>\n",
       "    </tr>\n",
       "    <tr>\n",
       "      <th>9-10 anos</th>\n",
       "      <td>881</td>\n",
       "      <td>3177</td>\n",
       "    </tr>\n",
       "    <tr>\n",
       "      <th>10+ anos</th>\n",
       "      <td>4825</td>\n",
       "      <td>9963</td>\n",
       "    </tr>\n",
       "  </tbody>\n",
       "</table>\n",
       "</div>"
      ],
      "text/plain": [
       "status_contrato    Ativo  Cancelado\n",
       "faixa_permanencia                  \n",
       "0-1 ano             1140      26122\n",
       "1-2 anos            1018      24917\n",
       "2-3 anos             801      14915\n",
       "3-4 anos             871      10885\n",
       "4-5 anos             723       9027\n",
       "5-6 anos            1033       7150\n",
       "6-7 anos             620       5615\n",
       "7-8 anos             563       4332\n",
       "8-9 anos             834       3737\n",
       "9-10 anos            881       3177\n",
       "10+ anos            4825       9963"
      ]
     },
     "metadata": {},
     "output_type": "display_data"
    },
    {
     "data": {
      "text/html": [
       "<div>\n",
       "<style scoped>\n",
       "    .dataframe tbody tr th:only-of-type {\n",
       "        vertical-align: middle;\n",
       "    }\n",
       "\n",
       "    .dataframe tbody tr th {\n",
       "        vertical-align: top;\n",
       "    }\n",
       "\n",
       "    .dataframe thead th {\n",
       "        text-align: right;\n",
       "    }\n",
       "</style>\n",
       "<table border=\"1\" class=\"dataframe\">\n",
       "  <thead>\n",
       "    <tr style=\"text-align: right;\">\n",
       "      <th>status_contrato</th>\n",
       "      <th>Ativo</th>\n",
       "      <th>Cancelado</th>\n",
       "    </tr>\n",
       "    <tr>\n",
       "      <th>faixa_permanencia</th>\n",
       "      <th></th>\n",
       "      <th></th>\n",
       "    </tr>\n",
       "  </thead>\n",
       "  <tbody>\n",
       "    <tr>\n",
       "      <th>0-1 ano</th>\n",
       "      <td>4.18%</td>\n",
       "      <td>95.82%</td>\n",
       "    </tr>\n",
       "    <tr>\n",
       "      <th>1-2 anos</th>\n",
       "      <td>3.93%</td>\n",
       "      <td>96.07%</td>\n",
       "    </tr>\n",
       "    <tr>\n",
       "      <th>2-3 anos</th>\n",
       "      <td>5.1%</td>\n",
       "      <td>94.9%</td>\n",
       "    </tr>\n",
       "    <tr>\n",
       "      <th>3-4 anos</th>\n",
       "      <td>7.41%</td>\n",
       "      <td>92.59%</td>\n",
       "    </tr>\n",
       "    <tr>\n",
       "      <th>4-5 anos</th>\n",
       "      <td>7.42%</td>\n",
       "      <td>92.58%</td>\n",
       "    </tr>\n",
       "    <tr>\n",
       "      <th>5-6 anos</th>\n",
       "      <td>12.62%</td>\n",
       "      <td>87.38%</td>\n",
       "    </tr>\n",
       "    <tr>\n",
       "      <th>6-7 anos</th>\n",
       "      <td>9.94%</td>\n",
       "      <td>90.06%</td>\n",
       "    </tr>\n",
       "    <tr>\n",
       "      <th>7-8 anos</th>\n",
       "      <td>11.5%</td>\n",
       "      <td>88.5%</td>\n",
       "    </tr>\n",
       "    <tr>\n",
       "      <th>8-9 anos</th>\n",
       "      <td>18.25%</td>\n",
       "      <td>81.75%</td>\n",
       "    </tr>\n",
       "    <tr>\n",
       "      <th>9-10 anos</th>\n",
       "      <td>21.71%</td>\n",
       "      <td>78.29%</td>\n",
       "    </tr>\n",
       "    <tr>\n",
       "      <th>10+ anos</th>\n",
       "      <td>32.63%</td>\n",
       "      <td>67.37%</td>\n",
       "    </tr>\n",
       "  </tbody>\n",
       "</table>\n",
       "</div>"
      ],
      "text/plain": [
       "status_contrato     Ativo Cancelado\n",
       "faixa_permanencia                  \n",
       "0-1 ano             4.18%    95.82%\n",
       "1-2 anos            3.93%    96.07%\n",
       "2-3 anos             5.1%     94.9%\n",
       "3-4 anos            7.41%    92.59%\n",
       "4-5 anos            7.42%    92.58%\n",
       "5-6 anos           12.62%    87.38%\n",
       "6-7 anos            9.94%    90.06%\n",
       "7-8 anos            11.5%     88.5%\n",
       "8-9 anos           18.25%    81.75%\n",
       "9-10 anos          21.71%    78.29%\n",
       "10+ anos           32.63%    67.37%"
      ]
     },
     "metadata": {},
     "output_type": "display_data"
    }
   ],
   "source": [
    "import plotly.graph_objects as go\n",
    "import pandas as pd\n",
    "\n",
    "# Converter para Pandas para visualização\n",
    "df_permanencia = sdf_final_filtro.select(\"meses_contrato_anos\", \"data_final\").toPandas()\n",
    "\n",
    "# Garantir que há valores para definir o bin máximo\n",
    "max_anos = df_permanencia[\"meses_contrato_anos\"].max()\n",
    "bins = [0, 1, 2, 3, 4, 5, 6, 7, 8, 9, 10, max_anos + 1]  # Adiciona um espaço extra para o último bin\n",
    "labels = [\n",
    "    \"0-1 ano\",\n",
    "    \"1-2 anos\",\n",
    "    \"2-3 anos\",\n",
    "    \"3-4 anos\",\n",
    "    \"4-5 anos\",\n",
    "    \"5-6 anos\",\n",
    "    \"6-7 anos\",\n",
    "    \"7-8 anos\",\n",
    "    \"8-9 anos\",\n",
    "    \"9-10 anos\",\n",
    "    \"10+ anos\"\n",
    "]\n",
    "\n",
    "# Criar coluna categórica com os intervalos corrigidos\n",
    "df_permanencia[\"faixa_permanencia\"] = pd.cut(df_permanencia[\"meses_contrato_anos\"], bins=bins, labels=labels, right=False)\n",
    "\n",
    "# Classificar contratos como Ativo (nulo) ou Cancelado (não nulo)\n",
    "df_permanencia[\"status_contrato\"] = df_permanencia[\"data_final\"].apply(lambda x: \"Ativo\" if pd.isna(x) else \"Cancelado\")\n",
    "\n",
    "# Contar a quantidade de contratos ativos e cancelados por faixa de permanência\n",
    "df_faixas_status = df_permanencia.groupby([\"faixa_permanencia\", \"status_contrato\"]).size().unstack(fill_value=0)\n",
    "\n",
    "# Criar gráfico de barras agrupadas (um do lado do outro)\n",
    "fig = go.Figure()\n",
    "\n",
    "# Adicionar barras para Ativo e Cancelado\n",
    "for status in [\"Ativo\", \"Cancelado\"]:\n",
    "    fig.add_trace(go.Bar(\n",
    "        x=df_faixas_status.index.astype(str),\n",
    "        y=df_faixas_status[status],\n",
    "        name=status\n",
    "    ))\n",
    "\n",
    "# Configurar layout do gráfico\n",
    "fig.update_layout(\n",
    "    title=\"Distribuição do Tempo de Permanência dos Clientes (Diferença Datas)\",\n",
    "    xaxis_title=\"Faixa de Tempo de Permanência (anos)\",\n",
    "    yaxis_title=\"Quantidade de Clientes (escala logarítmica)\",\n",
    "    barmode=\"group\",  # Barras lado a lado\n",
    "    yaxis=dict(type=\"log\")  # Aplicar escala logarítmica\n",
    ")\n",
    "\n",
    "# Exibir gráfico\n",
    "fig.show()\n",
    "\n",
    "\n",
    "# Calcular a porcentagem de cada status dentro de cada faixa de permanência\n",
    "df_faixas_status_percent = df_faixas_status.div(df_faixas_status.sum(axis=1), axis=0) * 100\n",
    "\n",
    "df_faixas_status_percent = df_faixas_status_percent.round(2).astype(str) + '%'\n",
    "# Exibir a tabela de faixas de permanência com status\n",
    "display(df_faixas_status)\n",
    "display(df_faixas_status_percent)\n"
   ]
  },
  {
   "cell_type": "markdown",
   "metadata": {},
   "source": [
    "## Tempo de Permanencia/Inicio de Contrato - Filtrado - Faturas"
   ]
  },
  {
   "cell_type": "code",
   "execution_count": 14,
   "metadata": {},
   "outputs": [
    {
     "data": {
      "application/vnd.plotly.v1+json": {
       "config": {
        "plotlyServerURL": "https://plot.ly"
       },
       "data": [
        {
         "line": {
          "color": "blue"
         },
         "mode": "lines+markers",
         "name": "Mediana do Tempo de Permanência",
         "type": "scatter",
         "x": {
          "bdata": "ywcAAMwHAADNBwAAzgcAAM8HAADQBwAA0QcAANIHAADTBwAA1AcAANUHAADWBwAA1wcAANgHAADZBwAA2gcAANsHAADcBwAA3QcAAN4HAADfBwAA4AcAAOEHAADiBwAA4wcAAOQHAADlBwAA5gcAAOcHAADoBwAA6QcAAA==",
          "dtype": "i4"
         },
         "y": {
          "bdata": "q6qqqqqqBkCrqqqqqqoMQAAAAAAAABJAAAAAAAAABkAAAAAAAAACQKuqqqqqqgBAVVVVVVVV/T+rqqqqqqr6P1VVVVVVVf0/AAAAAAAA+D8AAAAAAAD0PwAAAAAAAPA/qqqqqqqq9D+rqqqqqqr6PwAAAAAAAPw/AAAAAAAAAEBVVVVVVVX9P6uqqqqqqvo/AAAAAAAA+D8AAAAAAAD4PwAAAAAAAPQ/q6qqqqqq8j+rqqqqqqryP1VVVVVVVfE/VVVVVVVV8T9VVVVVVVXxP1VVVVVVVfE/VVVVVVVV8T9VVVVVVVXtP1VVVVVVVdU/VVVVVVVVtT8=",
          "dtype": "f8"
         }
        },
        {
         "line": {
          "color": "green"
         },
         "mode": "lines+markers",
         "name": "Média do Tempo de Permanência",
         "type": "scatter",
         "x": {
          "bdata": "ywcAAMwHAADNBwAAzgcAAM8HAADQBwAA0QcAANIHAADTBwAA1AcAANUHAADWBwAA1wcAANgHAADZBwAA2gcAANsHAADcBwAA3QcAAN4HAADfBwAA4AcAAOEHAADiBwAA4wcAAOQHAADlBwAA5gcAAOcHAADoBwAA6QcAAA==",
          "dtype": "i4"
         },
         "y": {
          "bdata": "qqqqqqrqEUBKn/RJn/QSQBVQARVQARlAgbhQcxIIEUCNEj+jxM8EQM/zPM/zPAtAHyTO8gX3B0A2udxixfQHQAv3q1JjNBBAmJyFur2DCUAl9TZZwncEQBLHJ5LtngNA0Bf0BX29BkBJFGPFVhMKQNEqm0UXeglAVpswHXeTCkDwwRFrtaQIQJ4psTkvLgZAD+FysLMEBEA38FpPxrgCQLGwvrps8gBAxCZ84pq9/z8K1v22B+7/Pxgah6FxGP0/k7qt9ZVH+z+miR81VsL4P9djXHswq/Y/wdfP1L9t8z+ttdZaay3uP6pldFwjYN0/VVVVVVVVtT8=",
          "dtype": "f8"
         }
        },
        {
         "line": {
          "color": "red",
          "dash": "dash"
         },
         "mode": "lines",
         "name": "Tempo Máximo Possível",
         "type": "scatter",
         "x": {
          "bdata": "ywcAAMwHAADNBwAAzgcAAM8HAADQBwAA0QcAANIHAADTBwAA1AcAANUHAADWBwAA1wcAANgHAADZBwAA2gcAANsHAADcBwAA3QcAAN4HAADfBwAA4AcAAOEHAADiBwAA4wcAAOQHAADlBwAA5gcAAOcHAADoBwAA6QcAAA==",
          "dtype": "i4"
         },
         "y": {
          "bdata": "HgAAAB0AAAAcAAAAGwAAABoAAAAZAAAAGAAAABcAAAAWAAAAFQAAABQAAAATAAAAEgAAABEAAAAQAAAADwAAAA4AAAANAAAADAAAAAsAAAAKAAAACQAAAAgAAAAHAAAABgAAAAUAAAAEAAAAAwAAAAIAAAABAAAAAAAAAA==",
          "dtype": "i4"
         }
        }
       ],
       "layout": {
        "showlegend": true,
        "template": {
         "data": {
          "bar": [
           {
            "error_x": {
             "color": "#2a3f5f"
            },
            "error_y": {
             "color": "#2a3f5f"
            },
            "marker": {
             "line": {
              "color": "#E5ECF6",
              "width": 0.5
             },
             "pattern": {
              "fillmode": "overlay",
              "size": 10,
              "solidity": 0.2
             }
            },
            "type": "bar"
           }
          ],
          "barpolar": [
           {
            "marker": {
             "line": {
              "color": "#E5ECF6",
              "width": 0.5
             },
             "pattern": {
              "fillmode": "overlay",
              "size": 10,
              "solidity": 0.2
             }
            },
            "type": "barpolar"
           }
          ],
          "carpet": [
           {
            "aaxis": {
             "endlinecolor": "#2a3f5f",
             "gridcolor": "white",
             "linecolor": "white",
             "minorgridcolor": "white",
             "startlinecolor": "#2a3f5f"
            },
            "baxis": {
             "endlinecolor": "#2a3f5f",
             "gridcolor": "white",
             "linecolor": "white",
             "minorgridcolor": "white",
             "startlinecolor": "#2a3f5f"
            },
            "type": "carpet"
           }
          ],
          "choropleth": [
           {
            "colorbar": {
             "outlinewidth": 0,
             "ticks": ""
            },
            "type": "choropleth"
           }
          ],
          "contour": [
           {
            "colorbar": {
             "outlinewidth": 0,
             "ticks": ""
            },
            "colorscale": [
             [
              0,
              "#0d0887"
             ],
             [
              0.1111111111111111,
              "#46039f"
             ],
             [
              0.2222222222222222,
              "#7201a8"
             ],
             [
              0.3333333333333333,
              "#9c179e"
             ],
             [
              0.4444444444444444,
              "#bd3786"
             ],
             [
              0.5555555555555556,
              "#d8576b"
             ],
             [
              0.6666666666666666,
              "#ed7953"
             ],
             [
              0.7777777777777778,
              "#fb9f3a"
             ],
             [
              0.8888888888888888,
              "#fdca26"
             ],
             [
              1,
              "#f0f921"
             ]
            ],
            "type": "contour"
           }
          ],
          "contourcarpet": [
           {
            "colorbar": {
             "outlinewidth": 0,
             "ticks": ""
            },
            "type": "contourcarpet"
           }
          ],
          "heatmap": [
           {
            "colorbar": {
             "outlinewidth": 0,
             "ticks": ""
            },
            "colorscale": [
             [
              0,
              "#0d0887"
             ],
             [
              0.1111111111111111,
              "#46039f"
             ],
             [
              0.2222222222222222,
              "#7201a8"
             ],
             [
              0.3333333333333333,
              "#9c179e"
             ],
             [
              0.4444444444444444,
              "#bd3786"
             ],
             [
              0.5555555555555556,
              "#d8576b"
             ],
             [
              0.6666666666666666,
              "#ed7953"
             ],
             [
              0.7777777777777778,
              "#fb9f3a"
             ],
             [
              0.8888888888888888,
              "#fdca26"
             ],
             [
              1,
              "#f0f921"
             ]
            ],
            "type": "heatmap"
           }
          ],
          "histogram": [
           {
            "marker": {
             "pattern": {
              "fillmode": "overlay",
              "size": 10,
              "solidity": 0.2
             }
            },
            "type": "histogram"
           }
          ],
          "histogram2d": [
           {
            "colorbar": {
             "outlinewidth": 0,
             "ticks": ""
            },
            "colorscale": [
             [
              0,
              "#0d0887"
             ],
             [
              0.1111111111111111,
              "#46039f"
             ],
             [
              0.2222222222222222,
              "#7201a8"
             ],
             [
              0.3333333333333333,
              "#9c179e"
             ],
             [
              0.4444444444444444,
              "#bd3786"
             ],
             [
              0.5555555555555556,
              "#d8576b"
             ],
             [
              0.6666666666666666,
              "#ed7953"
             ],
             [
              0.7777777777777778,
              "#fb9f3a"
             ],
             [
              0.8888888888888888,
              "#fdca26"
             ],
             [
              1,
              "#f0f921"
             ]
            ],
            "type": "histogram2d"
           }
          ],
          "histogram2dcontour": [
           {
            "colorbar": {
             "outlinewidth": 0,
             "ticks": ""
            },
            "colorscale": [
             [
              0,
              "#0d0887"
             ],
             [
              0.1111111111111111,
              "#46039f"
             ],
             [
              0.2222222222222222,
              "#7201a8"
             ],
             [
              0.3333333333333333,
              "#9c179e"
             ],
             [
              0.4444444444444444,
              "#bd3786"
             ],
             [
              0.5555555555555556,
              "#d8576b"
             ],
             [
              0.6666666666666666,
              "#ed7953"
             ],
             [
              0.7777777777777778,
              "#fb9f3a"
             ],
             [
              0.8888888888888888,
              "#fdca26"
             ],
             [
              1,
              "#f0f921"
             ]
            ],
            "type": "histogram2dcontour"
           }
          ],
          "mesh3d": [
           {
            "colorbar": {
             "outlinewidth": 0,
             "ticks": ""
            },
            "type": "mesh3d"
           }
          ],
          "parcoords": [
           {
            "line": {
             "colorbar": {
              "outlinewidth": 0,
              "ticks": ""
             }
            },
            "type": "parcoords"
           }
          ],
          "pie": [
           {
            "automargin": true,
            "type": "pie"
           }
          ],
          "scatter": [
           {
            "fillpattern": {
             "fillmode": "overlay",
             "size": 10,
             "solidity": 0.2
            },
            "type": "scatter"
           }
          ],
          "scatter3d": [
           {
            "line": {
             "colorbar": {
              "outlinewidth": 0,
              "ticks": ""
             }
            },
            "marker": {
             "colorbar": {
              "outlinewidth": 0,
              "ticks": ""
             }
            },
            "type": "scatter3d"
           }
          ],
          "scattercarpet": [
           {
            "marker": {
             "colorbar": {
              "outlinewidth": 0,
              "ticks": ""
             }
            },
            "type": "scattercarpet"
           }
          ],
          "scattergeo": [
           {
            "marker": {
             "colorbar": {
              "outlinewidth": 0,
              "ticks": ""
             }
            },
            "type": "scattergeo"
           }
          ],
          "scattergl": [
           {
            "marker": {
             "colorbar": {
              "outlinewidth": 0,
              "ticks": ""
             }
            },
            "type": "scattergl"
           }
          ],
          "scattermap": [
           {
            "marker": {
             "colorbar": {
              "outlinewidth": 0,
              "ticks": ""
             }
            },
            "type": "scattermap"
           }
          ],
          "scattermapbox": [
           {
            "marker": {
             "colorbar": {
              "outlinewidth": 0,
              "ticks": ""
             }
            },
            "type": "scattermapbox"
           }
          ],
          "scatterpolar": [
           {
            "marker": {
             "colorbar": {
              "outlinewidth": 0,
              "ticks": ""
             }
            },
            "type": "scatterpolar"
           }
          ],
          "scatterpolargl": [
           {
            "marker": {
             "colorbar": {
              "outlinewidth": 0,
              "ticks": ""
             }
            },
            "type": "scatterpolargl"
           }
          ],
          "scatterternary": [
           {
            "marker": {
             "colorbar": {
              "outlinewidth": 0,
              "ticks": ""
             }
            },
            "type": "scatterternary"
           }
          ],
          "surface": [
           {
            "colorbar": {
             "outlinewidth": 0,
             "ticks": ""
            },
            "colorscale": [
             [
              0,
              "#0d0887"
             ],
             [
              0.1111111111111111,
              "#46039f"
             ],
             [
              0.2222222222222222,
              "#7201a8"
             ],
             [
              0.3333333333333333,
              "#9c179e"
             ],
             [
              0.4444444444444444,
              "#bd3786"
             ],
             [
              0.5555555555555556,
              "#d8576b"
             ],
             [
              0.6666666666666666,
              "#ed7953"
             ],
             [
              0.7777777777777778,
              "#fb9f3a"
             ],
             [
              0.8888888888888888,
              "#fdca26"
             ],
             [
              1,
              "#f0f921"
             ]
            ],
            "type": "surface"
           }
          ],
          "table": [
           {
            "cells": {
             "fill": {
              "color": "#EBF0F8"
             },
             "line": {
              "color": "white"
             }
            },
            "header": {
             "fill": {
              "color": "#C8D4E3"
             },
             "line": {
              "color": "white"
             }
            },
            "type": "table"
           }
          ]
         },
         "layout": {
          "annotationdefaults": {
           "arrowcolor": "#2a3f5f",
           "arrowhead": 0,
           "arrowwidth": 1
          },
          "autotypenumbers": "strict",
          "coloraxis": {
           "colorbar": {
            "outlinewidth": 0,
            "ticks": ""
           }
          },
          "colorscale": {
           "diverging": [
            [
             0,
             "#8e0152"
            ],
            [
             0.1,
             "#c51b7d"
            ],
            [
             0.2,
             "#de77ae"
            ],
            [
             0.3,
             "#f1b6da"
            ],
            [
             0.4,
             "#fde0ef"
            ],
            [
             0.5,
             "#f7f7f7"
            ],
            [
             0.6,
             "#e6f5d0"
            ],
            [
             0.7,
             "#b8e186"
            ],
            [
             0.8,
             "#7fbc41"
            ],
            [
             0.9,
             "#4d9221"
            ],
            [
             1,
             "#276419"
            ]
           ],
           "sequential": [
            [
             0,
             "#0d0887"
            ],
            [
             0.1111111111111111,
             "#46039f"
            ],
            [
             0.2222222222222222,
             "#7201a8"
            ],
            [
             0.3333333333333333,
             "#9c179e"
            ],
            [
             0.4444444444444444,
             "#bd3786"
            ],
            [
             0.5555555555555556,
             "#d8576b"
            ],
            [
             0.6666666666666666,
             "#ed7953"
            ],
            [
             0.7777777777777778,
             "#fb9f3a"
            ],
            [
             0.8888888888888888,
             "#fdca26"
            ],
            [
             1,
             "#f0f921"
            ]
           ],
           "sequentialminus": [
            [
             0,
             "#0d0887"
            ],
            [
             0.1111111111111111,
             "#46039f"
            ],
            [
             0.2222222222222222,
             "#7201a8"
            ],
            [
             0.3333333333333333,
             "#9c179e"
            ],
            [
             0.4444444444444444,
             "#bd3786"
            ],
            [
             0.5555555555555556,
             "#d8576b"
            ],
            [
             0.6666666666666666,
             "#ed7953"
            ],
            [
             0.7777777777777778,
             "#fb9f3a"
            ],
            [
             0.8888888888888888,
             "#fdca26"
            ],
            [
             1,
             "#f0f921"
            ]
           ]
          },
          "colorway": [
           "#636efa",
           "#EF553B",
           "#00cc96",
           "#ab63fa",
           "#FFA15A",
           "#19d3f3",
           "#FF6692",
           "#B6E880",
           "#FF97FF",
           "#FECB52"
          ],
          "font": {
           "color": "#2a3f5f"
          },
          "geo": {
           "bgcolor": "white",
           "lakecolor": "white",
           "landcolor": "#E5ECF6",
           "showlakes": true,
           "showland": true,
           "subunitcolor": "white"
          },
          "hoverlabel": {
           "align": "left"
          },
          "hovermode": "closest",
          "mapbox": {
           "style": "light"
          },
          "paper_bgcolor": "white",
          "plot_bgcolor": "#E5ECF6",
          "polar": {
           "angularaxis": {
            "gridcolor": "white",
            "linecolor": "white",
            "ticks": ""
           },
           "bgcolor": "#E5ECF6",
           "radialaxis": {
            "gridcolor": "white",
            "linecolor": "white",
            "ticks": ""
           }
          },
          "scene": {
           "xaxis": {
            "backgroundcolor": "#E5ECF6",
            "gridcolor": "white",
            "gridwidth": 2,
            "linecolor": "white",
            "showbackground": true,
            "ticks": "",
            "zerolinecolor": "white"
           },
           "yaxis": {
            "backgroundcolor": "#E5ECF6",
            "gridcolor": "white",
            "gridwidth": 2,
            "linecolor": "white",
            "showbackground": true,
            "ticks": "",
            "zerolinecolor": "white"
           },
           "zaxis": {
            "backgroundcolor": "#E5ECF6",
            "gridcolor": "white",
            "gridwidth": 2,
            "linecolor": "white",
            "showbackground": true,
            "ticks": "",
            "zerolinecolor": "white"
           }
          },
          "shapedefaults": {
           "line": {
            "color": "#2a3f5f"
           }
          },
          "ternary": {
           "aaxis": {
            "gridcolor": "white",
            "linecolor": "white",
            "ticks": ""
           },
           "baxis": {
            "gridcolor": "white",
            "linecolor": "white",
            "ticks": ""
           },
           "bgcolor": "#E5ECF6",
           "caxis": {
            "gridcolor": "white",
            "linecolor": "white",
            "ticks": ""
           }
          },
          "title": {
           "x": 0.05
          },
          "xaxis": {
           "automargin": true,
           "gridcolor": "white",
           "linecolor": "white",
           "ticks": "",
           "title": {
            "standoff": 15
           },
           "zerolinecolor": "white",
           "zerolinewidth": 2
          },
          "yaxis": {
           "automargin": true,
           "gridcolor": "white",
           "linecolor": "white",
           "ticks": "",
           "title": {
            "standoff": 15
           },
           "zerolinecolor": "white",
           "zerolinewidth": 2
          }
         }
        },
        "title": {
         "text": "Detecção do Viés no Tempo de Permanência"
        },
        "xaxis": {
         "title": {
          "text": "Ano de Início do Cliente"
         }
        },
        "yaxis": {
         "title": {
          "text": "Tempo de Permanência (anos)"
         }
        }
       }
      }
     },
     "metadata": {},
     "output_type": "display_data"
    }
   ],
   "source": [
    "import plotly.graph_objects as go\n",
    "import pandas as pd\n",
    "from datetime import datetime\n",
    "\n",
    "# Converter para Pandas\n",
    "df_permanencia = sdf_cancelados.select(\"data_inicio\", \"faturas_anos\").toPandas()\n",
    "\n",
    "# Converter start_date para datetime\n",
    "df_permanencia[\"data_inicio\"] = pd.to_datetime(df_permanencia[\"data_inicio\"])\n",
    "\n",
    "# Criar coluna com o ano do contrato\n",
    "df_permanencia[\"ano_inicio\"] = df_permanencia[\"data_inicio\"].dt.year\n",
    "\n",
    "# Obter o ano atual\n",
    "ano_atual = datetime.today().year\n",
    "\n",
    "# Calcular estatísticas por ano\n",
    "estatisticas_por_ano = df_permanencia.groupby(\"ano_inicio\")[\"faturas_anos\"].agg([\"median\", \"mean\"]).reset_index()\n",
    "\n",
    "# Calcular o tempo máximo possível para cada ano (tempo entre ano de início e hoje)\n",
    "estatisticas_por_ano[\"tempo_maximo_possivel\"] = ano_atual - estatisticas_por_ano[\"ano_inicio\"]\n",
    "\n",
    "# Calcular a diferença entre o tempo máximo e a mediana\n",
    "estatisticas_por_ano[\"diferenca\"] = estatisticas_por_ano[\"tempo_maximo_possivel\"] - estatisticas_por_ano[\"median\"]\n",
    "\n",
    "# Identificar o primeiro ano onde a diferença for menor que um limite (exemplo: 2 anos)\n",
    "#ano_limite_vies = estatisticas_por_ano.loc[estatisticas_por_ano[\"diferenca\"] < 2, \"ano_inicio\"].min()\n",
    "\n",
    "# Criar gráfico interativo\n",
    "fig = go.Figure()\n",
    "\n",
    "# Linha da mediana do tempo de permanência por ano\n",
    "fig.add_trace(go.Scatter(\n",
    "    x=estatisticas_por_ano[\"ano_inicio\"],\n",
    "    y=estatisticas_por_ano[\"median\"],\n",
    "    mode=\"lines+markers\",\n",
    "    name=\"Mediana do Tempo de Permanência\",\n",
    "    line=dict(color=\"blue\")\n",
    "))\n",
    "\n",
    "# Linha da média do tempo de permanência por ano\n",
    "fig.add_trace(go.Scatter(\n",
    "    x=estatisticas_por_ano[\"ano_inicio\"],\n",
    "    y=estatisticas_por_ano[\"mean\"],\n",
    "    mode=\"lines+markers\",\n",
    "    name=\"Média do Tempo de Permanência\",\n",
    "    line=dict(color=\"green\")\n",
    "))\n",
    "\n",
    "# Linha do tempo máximo possível\n",
    "fig.add_trace(go.Scatter(\n",
    "    x=estatisticas_por_ano[\"ano_inicio\"],\n",
    "    y=estatisticas_por_ano[\"tempo_maximo_possivel\"],\n",
    "    mode=\"lines\",\n",
    "    name=\"Tempo Máximo Possível\",\n",
    "    line=dict(color=\"red\", dash=\"dash\")\n",
    "))\n",
    "\n",
    "\n",
    "\n",
    "# Layout do gráfico\n",
    "fig.update_layout(\n",
    "    title=\"Detecção do Viés no Tempo de Permanência\",\n",
    "    xaxis_title=\"Ano de Início do Cliente\",\n",
    "    yaxis_title=\"Tempo de Permanência (anos)\",\n",
    "    showlegend=True\n",
    ")\n",
    "\n",
    "# Exibir gráfico\n",
    "fig.show()\n",
    "\n",
    "\n"
   ]
  },
  {
   "cell_type": "code",
   "execution_count": null,
   "metadata": {},
   "outputs": [],
   "source": [
    "import plotly.express as px\n",
    "import plotly.graph_objects as go\n",
    "import pandas as pd\n",
    "from datetime import datetime\n",
    "\n",
    "# Converter para Pandas\n",
    "df_permanencia = sdf_cancelados.select(\"data_inicio\", \"faturas_anos\").toPandas()\n",
    "\n",
    "# Converter start_date para datetime\n",
    "df_permanencia[\"data_inicio\"] = pd.to_datetime(df_permanencia[\"data_inicio\"])\n",
    "\n",
    "# Criar coluna com o ano do contrato\n",
    "df_permanencia[\"ano_inicio\"] = df_permanencia[\"data_inicio\"].dt.year\n",
    "\n",
    "# Obter o ano atual\n",
    "ano_atual = datetime.today().year\n",
    "\n",
    "# Calcular o tempo máximo possível para cada ano\n",
    "df_permanencia[\"tempo_maximo_possivel\"] = ano_atual - df_permanencia[\"ano_inicio\"]\n",
    "\n",
    "# Criar Boxplot\n",
    "fig = px.box(\n",
    "    df_permanencia,\n",
    "    x=\"data_inicio\",  # Ano do início do contrato no eixo X\n",
    "    y=\"faturas_anos\",  # Tempo de permanência no eixo Y\n",
    "    points=\"all\",  # Mostra todos os pontos para visualizar outliers\n",
    "    title=\"Boxplot da Distribuição do Tempo de Permanência por Ano de Início do Contrato\",\n",
    "    labels={\"data_inicio\": \"Ano de Início do Contrato\", \"faturas_anos\": \"Tempo de Permanência (anos)\"},\n",
    "    color=\"data_inicio\"  # Diferencia os anos por cor\n",
    ")\n",
    "\n",
    "# Adicionar linha guia do tempo máximo possível\n",
    "fig.add_trace(\n",
    "    go.Scatter(\n",
    "        x=df_permanencia[\"data_inicio\"].unique(),\n",
    "        y=(ano_atual - df_permanencia[\"data_inicio\"].dt.year.unique()),  # Correção\n",
    "        mode=\"lines\",\n",
    "        name=\"Tempo Máximo Possível\",\n",
    "        line=dict(color=\"red\", dash=\"dash\")\n",
    "    )\n",
    ")\n",
    "\n",
    "# Exibir gráfico\n",
    "fig.show()\n"
   ]
  },
  {
   "cell_type": "markdown",
   "metadata": {},
   "source": [
    "## Tempo de Permanencia - Filtrado - meses_contratos_anos "
   ]
  },
  {
   "cell_type": "code",
   "execution_count": null,
   "metadata": {},
   "outputs": [
    {
     "data": {
      "application/vnd.plotly.v1+json": {
       "config": {
        "plotlyServerURL": "https://plot.ly"
       },
       "data": [
        {
         "line": {
          "color": "blue"
         },
         "mode": "lines+markers",
         "name": "Mediana do Tempo de Permanência",
         "type": "scatter",
         "x": {
          "bdata": "ywcAAMwHAADNBwAAzgcAAM8HAADQBwAA0QcAANIHAADTBwAA1AcAANUHAADWBwAA1wcAANgHAADZBwAA2gcAANsHAADcBwAA3QcAAN4HAADfBwAA4AcAAOEHAADiBwAA4wcAAOQHAADlBwAA5gcAAOcHAADoBwAA6QcAAA==",
          "dtype": "i4"
         },
         "y": {
          "bdata": "qqqqqqoqLUBVVVVVVdUsQFVVVVVVVStAVlVVVVXVJkCrqqqqqiolQKuqqqqqKiNAq6qqqqoqIEBWVVVVVdUcQFVVVVVVVRtAVVVVVVVVFkCrqqqqqqoRQKuqqqqqqghAq6qqqqqqBECrqqqqqqoCQKuqqqqqqgRAq6qqqqqqEEAAAAAAAAAKQFVVVVVVVQNAAAAAAAAAAEBVVVVVVVX9P6uqqqqqqvo/VVVVVVVV+T8AAAAAAAD4P6uqqqqqqvo/q6qqqqqq+j+rqqqqqqr2P1VVVVVVVfU/q6qqqqqq8j+rqqqqqqryP6uqqqqqqto/AAAAAAAAAAA=",
          "dtype": "f8"
         }
        },
        {
         "line": {
          "color": "green"
         },
         "mode": "lines+markers",
         "name": "Média do Tempo de Permanência",
         "type": "scatter",
         "x": {
          "bdata": "ywcAAMwHAADNBwAAzgcAAM8HAADQBwAA0QcAANIHAADTBwAA1AcAANUHAADWBwAA1wcAANgHAADZBwAA2gcAANsHAADcBwAA3QcAAN4HAADfBwAA4AcAAOEHAADiBwAA4wcAAOQHAADlBwAA5gcAAOcHAADoBwAA6QcAAA==",
          "dtype": "i4"
         },
         "y": {
          "bdata": "q6qqqqoaMEBbsAVbsIUuQIEKqIAKKC5Au8EU+axbKkB605ve9CYoQHPAPcsH2SdAQrv3GDLhI0Alw5njaf0hQN7xWzE32yFAnQeT71ZZHkCGZQWQEyoYQIcGHZzf3BNASaDYRD2eEkBlTJz03KcQQCmwP04/WBBAeLv+HbhWEkDcBVW9PTUQQNMgfIKRYwtATsjN56LwB0C3HlGrZ1oGQEX8Z03SOQRA6N6SiT10A0BYJgrdlPQCQC/wrxr3ggJAZDuu+RerAEAIHsDqdrb8P8LBqEg/u/k/Lexgb4aU9T/a/GSdRkLxPyFaJoiWCd4/AAAAAAAAAAA=",
          "dtype": "f8"
         }
        },
        {
         "line": {
          "color": "red",
          "dash": "dash"
         },
         "mode": "lines",
         "name": "Tempo Máximo Possível",
         "type": "scatter",
         "x": {
          "bdata": "ywcAAMwHAADNBwAAzgcAAM8HAADQBwAA0QcAANIHAADTBwAA1AcAANUHAADWBwAA1wcAANgHAADZBwAA2gcAANsHAADcBwAA3QcAAN4HAADfBwAA4AcAAOEHAADiBwAA4wcAAOQHAADlBwAA5gcAAOcHAADoBwAA6QcAAA==",
          "dtype": "i4"
         },
         "y": {
          "bdata": "HgAAAB0AAAAcAAAAGwAAABoAAAAZAAAAGAAAABcAAAAWAAAAFQAAABQAAAATAAAAEgAAABEAAAAQAAAADwAAAA4AAAANAAAADAAAAAsAAAAKAAAACQAAAAgAAAAHAAAABgAAAAUAAAAEAAAAAwAAAAIAAAABAAAAAAAAAA==",
          "dtype": "i4"
         }
        }
       ],
       "layout": {
        "showlegend": true,
        "template": {
         "data": {
          "bar": [
           {
            "error_x": {
             "color": "#2a3f5f"
            },
            "error_y": {
             "color": "#2a3f5f"
            },
            "marker": {
             "line": {
              "color": "#E5ECF6",
              "width": 0.5
             },
             "pattern": {
              "fillmode": "overlay",
              "size": 10,
              "solidity": 0.2
             }
            },
            "type": "bar"
           }
          ],
          "barpolar": [
           {
            "marker": {
             "line": {
              "color": "#E5ECF6",
              "width": 0.5
             },
             "pattern": {
              "fillmode": "overlay",
              "size": 10,
              "solidity": 0.2
             }
            },
            "type": "barpolar"
           }
          ],
          "carpet": [
           {
            "aaxis": {
             "endlinecolor": "#2a3f5f",
             "gridcolor": "white",
             "linecolor": "white",
             "minorgridcolor": "white",
             "startlinecolor": "#2a3f5f"
            },
            "baxis": {
             "endlinecolor": "#2a3f5f",
             "gridcolor": "white",
             "linecolor": "white",
             "minorgridcolor": "white",
             "startlinecolor": "#2a3f5f"
            },
            "type": "carpet"
           }
          ],
          "choropleth": [
           {
            "colorbar": {
             "outlinewidth": 0,
             "ticks": ""
            },
            "type": "choropleth"
           }
          ],
          "contour": [
           {
            "colorbar": {
             "outlinewidth": 0,
             "ticks": ""
            },
            "colorscale": [
             [
              0,
              "#0d0887"
             ],
             [
              0.1111111111111111,
              "#46039f"
             ],
             [
              0.2222222222222222,
              "#7201a8"
             ],
             [
              0.3333333333333333,
              "#9c179e"
             ],
             [
              0.4444444444444444,
              "#bd3786"
             ],
             [
              0.5555555555555556,
              "#d8576b"
             ],
             [
              0.6666666666666666,
              "#ed7953"
             ],
             [
              0.7777777777777778,
              "#fb9f3a"
             ],
             [
              0.8888888888888888,
              "#fdca26"
             ],
             [
              1,
              "#f0f921"
             ]
            ],
            "type": "contour"
           }
          ],
          "contourcarpet": [
           {
            "colorbar": {
             "outlinewidth": 0,
             "ticks": ""
            },
            "type": "contourcarpet"
           }
          ],
          "heatmap": [
           {
            "colorbar": {
             "outlinewidth": 0,
             "ticks": ""
            },
            "colorscale": [
             [
              0,
              "#0d0887"
             ],
             [
              0.1111111111111111,
              "#46039f"
             ],
             [
              0.2222222222222222,
              "#7201a8"
             ],
             [
              0.3333333333333333,
              "#9c179e"
             ],
             [
              0.4444444444444444,
              "#bd3786"
             ],
             [
              0.5555555555555556,
              "#d8576b"
             ],
             [
              0.6666666666666666,
              "#ed7953"
             ],
             [
              0.7777777777777778,
              "#fb9f3a"
             ],
             [
              0.8888888888888888,
              "#fdca26"
             ],
             [
              1,
              "#f0f921"
             ]
            ],
            "type": "heatmap"
           }
          ],
          "histogram": [
           {
            "marker": {
             "pattern": {
              "fillmode": "overlay",
              "size": 10,
              "solidity": 0.2
             }
            },
            "type": "histogram"
           }
          ],
          "histogram2d": [
           {
            "colorbar": {
             "outlinewidth": 0,
             "ticks": ""
            },
            "colorscale": [
             [
              0,
              "#0d0887"
             ],
             [
              0.1111111111111111,
              "#46039f"
             ],
             [
              0.2222222222222222,
              "#7201a8"
             ],
             [
              0.3333333333333333,
              "#9c179e"
             ],
             [
              0.4444444444444444,
              "#bd3786"
             ],
             [
              0.5555555555555556,
              "#d8576b"
             ],
             [
              0.6666666666666666,
              "#ed7953"
             ],
             [
              0.7777777777777778,
              "#fb9f3a"
             ],
             [
              0.8888888888888888,
              "#fdca26"
             ],
             [
              1,
              "#f0f921"
             ]
            ],
            "type": "histogram2d"
           }
          ],
          "histogram2dcontour": [
           {
            "colorbar": {
             "outlinewidth": 0,
             "ticks": ""
            },
            "colorscale": [
             [
              0,
              "#0d0887"
             ],
             [
              0.1111111111111111,
              "#46039f"
             ],
             [
              0.2222222222222222,
              "#7201a8"
             ],
             [
              0.3333333333333333,
              "#9c179e"
             ],
             [
              0.4444444444444444,
              "#bd3786"
             ],
             [
              0.5555555555555556,
              "#d8576b"
             ],
             [
              0.6666666666666666,
              "#ed7953"
             ],
             [
              0.7777777777777778,
              "#fb9f3a"
             ],
             [
              0.8888888888888888,
              "#fdca26"
             ],
             [
              1,
              "#f0f921"
             ]
            ],
            "type": "histogram2dcontour"
           }
          ],
          "mesh3d": [
           {
            "colorbar": {
             "outlinewidth": 0,
             "ticks": ""
            },
            "type": "mesh3d"
           }
          ],
          "parcoords": [
           {
            "line": {
             "colorbar": {
              "outlinewidth": 0,
              "ticks": ""
             }
            },
            "type": "parcoords"
           }
          ],
          "pie": [
           {
            "automargin": true,
            "type": "pie"
           }
          ],
          "scatter": [
           {
            "fillpattern": {
             "fillmode": "overlay",
             "size": 10,
             "solidity": 0.2
            },
            "type": "scatter"
           }
          ],
          "scatter3d": [
           {
            "line": {
             "colorbar": {
              "outlinewidth": 0,
              "ticks": ""
             }
            },
            "marker": {
             "colorbar": {
              "outlinewidth": 0,
              "ticks": ""
             }
            },
            "type": "scatter3d"
           }
          ],
          "scattercarpet": [
           {
            "marker": {
             "colorbar": {
              "outlinewidth": 0,
              "ticks": ""
             }
            },
            "type": "scattercarpet"
           }
          ],
          "scattergeo": [
           {
            "marker": {
             "colorbar": {
              "outlinewidth": 0,
              "ticks": ""
             }
            },
            "type": "scattergeo"
           }
          ],
          "scattergl": [
           {
            "marker": {
             "colorbar": {
              "outlinewidth": 0,
              "ticks": ""
             }
            },
            "type": "scattergl"
           }
          ],
          "scattermap": [
           {
            "marker": {
             "colorbar": {
              "outlinewidth": 0,
              "ticks": ""
             }
            },
            "type": "scattermap"
           }
          ],
          "scattermapbox": [
           {
            "marker": {
             "colorbar": {
              "outlinewidth": 0,
              "ticks": ""
             }
            },
            "type": "scattermapbox"
           }
          ],
          "scatterpolar": [
           {
            "marker": {
             "colorbar": {
              "outlinewidth": 0,
              "ticks": ""
             }
            },
            "type": "scatterpolar"
           }
          ],
          "scatterpolargl": [
           {
            "marker": {
             "colorbar": {
              "outlinewidth": 0,
              "ticks": ""
             }
            },
            "type": "scatterpolargl"
           }
          ],
          "scatterternary": [
           {
            "marker": {
             "colorbar": {
              "outlinewidth": 0,
              "ticks": ""
             }
            },
            "type": "scatterternary"
           }
          ],
          "surface": [
           {
            "colorbar": {
             "outlinewidth": 0,
             "ticks": ""
            },
            "colorscale": [
             [
              0,
              "#0d0887"
             ],
             [
              0.1111111111111111,
              "#46039f"
             ],
             [
              0.2222222222222222,
              "#7201a8"
             ],
             [
              0.3333333333333333,
              "#9c179e"
             ],
             [
              0.4444444444444444,
              "#bd3786"
             ],
             [
              0.5555555555555556,
              "#d8576b"
             ],
             [
              0.6666666666666666,
              "#ed7953"
             ],
             [
              0.7777777777777778,
              "#fb9f3a"
             ],
             [
              0.8888888888888888,
              "#fdca26"
             ],
             [
              1,
              "#f0f921"
             ]
            ],
            "type": "surface"
           }
          ],
          "table": [
           {
            "cells": {
             "fill": {
              "color": "#EBF0F8"
             },
             "line": {
              "color": "white"
             }
            },
            "header": {
             "fill": {
              "color": "#C8D4E3"
             },
             "line": {
              "color": "white"
             }
            },
            "type": "table"
           }
          ]
         },
         "layout": {
          "annotationdefaults": {
           "arrowcolor": "#2a3f5f",
           "arrowhead": 0,
           "arrowwidth": 1
          },
          "autotypenumbers": "strict",
          "coloraxis": {
           "colorbar": {
            "outlinewidth": 0,
            "ticks": ""
           }
          },
          "colorscale": {
           "diverging": [
            [
             0,
             "#8e0152"
            ],
            [
             0.1,
             "#c51b7d"
            ],
            [
             0.2,
             "#de77ae"
            ],
            [
             0.3,
             "#f1b6da"
            ],
            [
             0.4,
             "#fde0ef"
            ],
            [
             0.5,
             "#f7f7f7"
            ],
            [
             0.6,
             "#e6f5d0"
            ],
            [
             0.7,
             "#b8e186"
            ],
            [
             0.8,
             "#7fbc41"
            ],
            [
             0.9,
             "#4d9221"
            ],
            [
             1,
             "#276419"
            ]
           ],
           "sequential": [
            [
             0,
             "#0d0887"
            ],
            [
             0.1111111111111111,
             "#46039f"
            ],
            [
             0.2222222222222222,
             "#7201a8"
            ],
            [
             0.3333333333333333,
             "#9c179e"
            ],
            [
             0.4444444444444444,
             "#bd3786"
            ],
            [
             0.5555555555555556,
             "#d8576b"
            ],
            [
             0.6666666666666666,
             "#ed7953"
            ],
            [
             0.7777777777777778,
             "#fb9f3a"
            ],
            [
             0.8888888888888888,
             "#fdca26"
            ],
            [
             1,
             "#f0f921"
            ]
           ],
           "sequentialminus": [
            [
             0,
             "#0d0887"
            ],
            [
             0.1111111111111111,
             "#46039f"
            ],
            [
             0.2222222222222222,
             "#7201a8"
            ],
            [
             0.3333333333333333,
             "#9c179e"
            ],
            [
             0.4444444444444444,
             "#bd3786"
            ],
            [
             0.5555555555555556,
             "#d8576b"
            ],
            [
             0.6666666666666666,
             "#ed7953"
            ],
            [
             0.7777777777777778,
             "#fb9f3a"
            ],
            [
             0.8888888888888888,
             "#fdca26"
            ],
            [
             1,
             "#f0f921"
            ]
           ]
          },
          "colorway": [
           "#636efa",
           "#EF553B",
           "#00cc96",
           "#ab63fa",
           "#FFA15A",
           "#19d3f3",
           "#FF6692",
           "#B6E880",
           "#FF97FF",
           "#FECB52"
          ],
          "font": {
           "color": "#2a3f5f"
          },
          "geo": {
           "bgcolor": "white",
           "lakecolor": "white",
           "landcolor": "#E5ECF6",
           "showlakes": true,
           "showland": true,
           "subunitcolor": "white"
          },
          "hoverlabel": {
           "align": "left"
          },
          "hovermode": "closest",
          "mapbox": {
           "style": "light"
          },
          "paper_bgcolor": "white",
          "plot_bgcolor": "#E5ECF6",
          "polar": {
           "angularaxis": {
            "gridcolor": "white",
            "linecolor": "white",
            "ticks": ""
           },
           "bgcolor": "#E5ECF6",
           "radialaxis": {
            "gridcolor": "white",
            "linecolor": "white",
            "ticks": ""
           }
          },
          "scene": {
           "xaxis": {
            "backgroundcolor": "#E5ECF6",
            "gridcolor": "white",
            "gridwidth": 2,
            "linecolor": "white",
            "showbackground": true,
            "ticks": "",
            "zerolinecolor": "white"
           },
           "yaxis": {
            "backgroundcolor": "#E5ECF6",
            "gridcolor": "white",
            "gridwidth": 2,
            "linecolor": "white",
            "showbackground": true,
            "ticks": "",
            "zerolinecolor": "white"
           },
           "zaxis": {
            "backgroundcolor": "#E5ECF6",
            "gridcolor": "white",
            "gridwidth": 2,
            "linecolor": "white",
            "showbackground": true,
            "ticks": "",
            "zerolinecolor": "white"
           }
          },
          "shapedefaults": {
           "line": {
            "color": "#2a3f5f"
           }
          },
          "ternary": {
           "aaxis": {
            "gridcolor": "white",
            "linecolor": "white",
            "ticks": ""
           },
           "baxis": {
            "gridcolor": "white",
            "linecolor": "white",
            "ticks": ""
           },
           "bgcolor": "#E5ECF6",
           "caxis": {
            "gridcolor": "white",
            "linecolor": "white",
            "ticks": ""
           }
          },
          "title": {
           "x": 0.05
          },
          "xaxis": {
           "automargin": true,
           "gridcolor": "white",
           "linecolor": "white",
           "ticks": "",
           "title": {
            "standoff": 15
           },
           "zerolinecolor": "white",
           "zerolinewidth": 2
          },
          "yaxis": {
           "automargin": true,
           "gridcolor": "white",
           "linecolor": "white",
           "ticks": "",
           "title": {
            "standoff": 15
           },
           "zerolinecolor": "white",
           "zerolinewidth": 2
          }
         }
        },
        "title": {
         "text": "Detecção do Viés no Tempo de Permanência"
        },
        "xaxis": {
         "title": {
          "text": "Ano de Início do Cliente"
         }
        },
        "yaxis": {
         "title": {
          "text": "Tempo de Permanência (anos)"
         }
        }
       }
      }
     },
     "metadata": {},
     "output_type": "display_data"
    }
   ],
   "source": [
    "import plotly.graph_objects as go\n",
    "import pandas as pd\n",
    "from datetime import datetime\n",
    "\n",
    "# Converter para Pandas\n",
    "df_permanencia = sdf_cancelados.select(\"data_inicio\", \"meses_contrato_anos\").toPandas()\n",
    "\n",
    "# Converter start_date para datetime\n",
    "df_permanencia[\"data_inicio\"] = pd.to_datetime(df_permanencia[\"data_inicio\"])\n",
    "\n",
    "# Criar coluna com o ano do contrato\n",
    "df_permanencia[\"ano_inicio\"] = df_permanencia[\"data_inicio\"].dt.year\n",
    "\n",
    "# Obter o ano atual\n",
    "ano_atual = datetime.today().year\n",
    "\n",
    "# Calcular estatísticas por ano\n",
    "estatisticas_por_ano = df_permanencia.groupby(\"ano_inicio\")[\"meses_contrato_anos\"].agg([\"median\", \"mean\"]).reset_index()\n",
    "\n",
    "# Calcular o tempo máximo possível para cada ano (tempo entre ano de início e hoje)\n",
    "estatisticas_por_ano[\"tempo_maximo_possivel\"] = ano_atual - estatisticas_por_ano[\"ano_inicio\"]\n",
    "\n",
    "# Calcular a diferença entre o tempo máximo e a mediana\n",
    "estatisticas_por_ano[\"diferenca\"] = estatisticas_por_ano[\"tempo_maximo_possivel\"] - estatisticas_por_ano[\"median\"]\n",
    "\n",
    "# Identificar o primeiro ano onde a diferença for menor que um limite (exemplo: 2 anos)\n",
    "#ano_limite_vies = estatisticas_por_ano.loc[estatisticas_por_ano[\"diferenca\"] < 2, \"ano_inicio\"].min()\n",
    "\n",
    "# Criar gráfico interativo\n",
    "fig = go.Figure()\n",
    "\n",
    "# Linha da mediana do tempo de permanência por ano\n",
    "fig.add_trace(go.Scatter(\n",
    "    x=estatisticas_por_ano[\"ano_inicio\"],\n",
    "    y=estatisticas_por_ano[\"median\"],\n",
    "    mode=\"lines+markers\",\n",
    "    name=\"Mediana do Tempo de Permanência\",\n",
    "    line=dict(color=\"blue\")\n",
    "))\n",
    "\n",
    "# Linha da média do tempo de permanência por ano\n",
    "fig.add_trace(go.Scatter(\n",
    "    x=estatisticas_por_ano[\"ano_inicio\"],\n",
    "    y=estatisticas_por_ano[\"mean\"],\n",
    "    mode=\"lines+markers\",\n",
    "    name=\"Média do Tempo de Permanência\",\n",
    "    line=dict(color=\"green\")\n",
    "))\n",
    "\n",
    "# Linha do tempo máximo possível\n",
    "fig.add_trace(go.Scatter(\n",
    "    x=estatisticas_por_ano[\"ano_inicio\"],\n",
    "    y=estatisticas_por_ano[\"tempo_maximo_possivel\"],\n",
    "    mode=\"lines\",\n",
    "    name=\"Tempo Máximo Possível\",\n",
    "    line=dict(color=\"red\", dash=\"dash\")\n",
    "))\n",
    "\n",
    "\n",
    "\n",
    "# Layout do gráfico\n",
    "fig.update_layout(\n",
    "    title=\"Detecção do Viés no Tempo de Permanência\",\n",
    "    xaxis_title=\"Ano de Início do Cliente\",\n",
    "    yaxis_title=\"Tempo de Permanência (anos)\",\n",
    "    showlegend=True\n",
    ")\n",
    "\n",
    "# Exibir gráfico\n",
    "fig.show()\n",
    "\n",
    "\n"
   ]
  },
  {
   "cell_type": "markdown",
   "metadata": {},
   "source": [
    "## Churn"
   ]
  },
  {
   "cell_type": "code",
   "execution_count": null,
   "metadata": {},
   "outputs": [],
   "source": [
    "# Contagem total de contratos\n",
    "total_clientes = sdf_final_filtro.count()\n",
    "\n",
    "# Contagem de churn (contratos cancelados)\n",
    "churn_count = sdf_final_filtro.filter(F.col(\"data_ultimo_boleto\").isNotNull()).count()\n",
    "# Contagem de churn (contratos cancelados)\n",
    "churn_count_ativos = sdf_final_filtro.filter(F.col(\"data_ultimo_boleto\").isNull()).count()\n",
    "\n",
    "# Cálculo do churn rate\n",
    "churn_rate = (churn_count / total_clientes) * 100\n",
    "\n",
    "# Exibir resultado\n",
    "print(f\"Total de clientes: {total_clientes}\")\n",
    "print(f\"Clientes cancelados: {churn_count}\")\n",
    "print(f\"Clientes Ativos: {churn_count_ativos}\")\n",
    "print(f\"Taxa de Churn: {churn_rate:.2f}%\")"
   ]
  },
  {
   "cell_type": "code",
   "execution_count": null,
   "metadata": {},
   "outputs": [],
   "source": []
  }
 ],
 "metadata": {
  "kernelspec": {
   "display_name": "ltv-novo-aF9Dy8BA-py3.10",
   "language": "python",
   "name": "python3"
  },
  "language_info": {
   "codemirror_mode": {
    "name": "ipython",
    "version": 3
   },
   "file_extension": ".py",
   "mimetype": "text/x-python",
   "name": "python",
   "nbconvert_exporter": "python",
   "pygments_lexer": "ipython3",
   "version": "3.10.5"
  }
 },
 "nbformat": 4,
 "nbformat_minor": 2
}
