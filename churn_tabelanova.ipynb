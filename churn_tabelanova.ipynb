{
 "cells": [
  {
   "cell_type": "code",
   "execution_count": 1,
   "metadata": {},
   "outputs": [
    {
     "name": "stderr",
     "output_type": "stream",
     "text": [
      "c:\\Users\\gusta\\AppData\\Local\\pypoetry\\Cache\\virtualenvs\\ltv-novo-aF9Dy8BA-py3.10\\lib\\site-packages\\pydantic\\_internal\\_fields.py:192: UserWarning: Field name \"json\" in \"MonitoringDatasetFormat\" shadows an attribute in parent \"Base\"\n",
      "  warnings.warn(\n"
     ]
    },
    {
     "data": {
      "text/html": [
       "<pre style=\"white-space:pre;overflow-x:auto;line-height:normal;font-family:Menlo,'DejaVu Sans Mono',consolas,'Courier New',monospace\"><span style=\"color: #7fbfbf; text-decoration-color: #7fbfbf\">[02/10/25 17:26:41] </span><span style=\"color: #0069ff; text-decoration-color: #0069ff; font-weight: bold\">INFO    </span> Found credentials in shared credentials file: ~<span style=\"color: #e100e1; text-decoration-color: #e100e1\">/.aws/credentials</span>   <a href=\"file://c:\\Users\\gusta\\AppData\\Local\\pypoetry\\Cache\\virtualenvs\\ltv-novo-aF9Dy8BA-py3.10\\lib\\site-packages\\botocore\\credentials.py\" target=\"_blank\"><span style=\"color: #7f7f7f; text-decoration-color: #7f7f7f\">credentials.py</span></a><span style=\"color: #7f7f7f; text-decoration-color: #7f7f7f\">:</span><a href=\"file://c:\\Users\\gusta\\AppData\\Local\\pypoetry\\Cache\\virtualenvs\\ltv-novo-aF9Dy8BA-py3.10\\lib\\site-packages\\botocore\\credentials.py#1278\" target=\"_blank\"><span style=\"color: #7f7f7f; text-decoration-color: #7f7f7f\">1278</span></a>\n",
       "</pre>\n"
      ],
      "text/plain": [
       "\u001b[2;36m[02/10/25 17:26:41]\u001b[0m\u001b[2;36m \u001b[0m\u001b[1;38;2;0;105;255mINFO    \u001b[0m Found credentials in shared credentials file: ~\u001b[38;2;225;0;225m/.aws/\u001b[0m\u001b[38;2;225;0;225mcredentials\u001b[0m   \u001b]8;id=380770;file://c:\\Users\\gusta\\AppData\\Local\\pypoetry\\Cache\\virtualenvs\\ltv-novo-aF9Dy8BA-py3.10\\lib\\site-packages\\botocore\\credentials.py\u001b\\\u001b[2mcredentials.py\u001b[0m\u001b]8;;\u001b\\\u001b[2m:\u001b[0m\u001b]8;id=650656;file://c:\\Users\\gusta\\AppData\\Local\\pypoetry\\Cache\\virtualenvs\\ltv-novo-aF9Dy8BA-py3.10\\lib\\site-packages\\botocore\\credentials.py#1278\u001b\\\u001b[2m1278\u001b[0m\u001b]8;;\u001b\\\n"
      ]
     },
     "metadata": {},
     "output_type": "display_data"
    },
    {
     "name": "stdout",
     "output_type": "stream",
     "text": [
      "sagemaker.config INFO - Not applying SDK defaults from location: C:\\ProgramData\\sagemaker\\sagemaker\\config.yaml\n",
      "sagemaker.config INFO - Not applying SDK defaults from location: C:\\Users\\gusta\\AppData\\Local\\sagemaker\\sagemaker\\config.yaml\n"
     ]
    }
   ],
   "source": [
    "import pandas as pd\n",
    "import plotly.express as px\n",
    "from statsmodels.tsa.seasonal import seasonal_decompose\n",
    "import logging\n",
    "import datetime\n",
    "import time\n",
    "\n",
    "import dash\n",
    "from dash import dcc, html\n",
    "from dash.dependencies import Input, Output\n",
    "\n",
    "import calendar\n",
    "import pandas as pd\n",
    "import plotly.express as px\n",
    "from pyspark.sql import SparkSession\n",
    "from pyspark.sql.functions import concat, col\n",
    "import matplotlib.pyplot as plt\n",
    "import seaborn as sns\n",
    "from statsmodels.tsa.seasonal import seasonal_decompose\n",
    "from ipywidgets import interact, widgets\n",
    "from matplotlib.dates import MonthLocator, DateFormatter\n",
    "import geopandas as gpd\n",
    "from shapely.geometry import Point\n",
    "from sklearn.preprocessing import StandardScaler\n",
    "from statsmodels.tsa.holtwinters import ExponentialSmoothing\n",
    "import geopandas as gpd\n",
    "from mpl_toolkits.axes_grid1 import make_axes_locatable\n",
    "#from fbprophet import Prophet\n",
    "from sklearn.metrics import mean_squared_error\n",
    "import numpy as np\n",
    "import plotly.graph_objects as go\n",
    "from pyspark.sql import functions as F\n",
    "from pyspark.sql.functions import year, month\n",
    "from sklearn.metrics.pairwise import euclidean_distances\n",
    "from pyspark.sql.functions import year, month, sum as sum_\n",
    "from scipy.spatial.distance import euclidean\n",
    "from prophet import Prophet\n",
    "from pyspark.sql.functions import col, countDistinct , desc , count , length\n",
    "from pyspark.sql.functions import split, col, when\n",
    "from pyspark.sql import SparkSession\n",
    "from pyspark.sql.functions import col, udf, dayofmonth, last_day ,to_date, lit, isnull\n",
    "from pyspark.sql.types import IntegerType\n",
    "import numpy as np\n",
    "from sklearn.metrics import r2_score, mean_squared_error\n",
    "from dateutil.relativedelta import relativedelta\n",
    "from pyspark.sql.functions import date_format\n",
    "\n",
    "import schedule\n",
    "from pyspark.sql.functions import col, to_timestamp, date_format\n",
    "\n",
    "import pyspark\n",
    "import pandas as pd\n",
    "import boto3\n",
    "import sagemaker\n",
    "import sagemaker.feature_store.feature_store as fs\n",
    "import databricks.connect\n",
    "from dateutil.relativedelta import relativedelta\n",
    "\n",
    "import pandas as pd\n",
    "import numpy as np\n",
    "import plotly.graph_objects as go\n",
    "from sklearn.metrics import mean_squared_error, mean_absolute_percentage_error, mean_absolute_error\n",
    "from sklearn.metrics import mean_squared_error, root_mean_squared_error\n",
    "\n",
    "import pandas as pd\n",
    "import numpy as np\n",
    "from prophet import Prophet\n",
    "from sklearn.metrics import mean_absolute_percentage_error, mean_squared_error\n",
    "import plotly.graph_objects as go\n",
    "from itertools import product\n",
    "import random\n",
    "import statsmodels.api as sm\n",
    "import os\n",
    "\n",
    "import logging\n",
    "\n",
    "logging.basicConfig(level=logging.INFO, format='%(asctime)s - %(levelname)s - %(message)s')\n",
    "from databricks.connect import DatabricksSession\n",
    "\n",
    "# Get spark\n",
    "spark = databricks.connect.DatabricksSession.builder.getOrCreate()"
   ]
  },
  {
   "cell_type": "code",
   "execution_count": 2,
   "metadata": {},
   "outputs": [
    {
     "name": "stdout",
     "output_type": "stream",
     "text": [
      "+------+--------------------+---------+--------------------+--------------------+--------------------+----+-----------+--------------+---------------+--------------------+----+--------+-------+--------------------+------+-----+-------+--------------------+--------------------+---------+--------------+-----------+--------+-------------+-------+----------+-------+----------+------------+--------------------+--------+---------+----------+----------+-----------+------------+-----------+----------+--------------+-----------+------------+--------------------+---------+-------+---------+--------+----------+---------------+--------+---------+-----------+-------+--------------------+---------------+----------------+----------------+-------------+-------------+-------------+----------------+--------------------+--------------+---------------------+----------------------+------+--------+---------------------+--------------------+---------------------------+--------------------+-------------+--------------+-------------------+--------+----+\n",
      "|codigo|            data_cad|fis_jurid|                nome|          raz_social|          nascimento|  rg|        cpf|         cgcmf|      inscricao|          observacao|tipo|vendedor|  senha|          data_senha|matriz|falsa|diavenc|            bloqueio|        mot_bloqueio|atividade|max_simultaneo|max_conexao|cod_alfa|gerarcobranca|extrato|localidade|receita|bloq_autom|canal_renpac|            data_alt|username|vlrfatmin|qtd_cheque|qtd_concen|incr_vencto|distribuidor|vlrcobranca|cod_antigo|vlr_dispacesso|przvigencia|username_inc|            data_inc|nfentrada|nfsaida|nfrevenda|nfconsig|periferico|tipo_periferico|segmento|cod_plano|sit_cliente|corresp|     dta_ult_verific|usr_ult_verific|ind_cli_indicado|ind_fac_original|tip_documento|num_documento|sta_ctrl_oper|sit_termo_adesao| nom_razsoc_completa|cd_orgaoclasse|ds_orgaoclasse_numero|dt_orgaoclasse_emissao|st_nfe|vl_dscob|ds_orgaoclasse_outros| dt_validacao_adesao|nm_usuario_validacao_adesao| ds_termo_observacao|cd_tributacao|date_partition|            dta_log| num_seq|rnum|\n",
      "+------+--------------------+---------+--------------------+--------------------+--------------------+----+-----------+--------------+---------------+--------------------+----+--------+-------+--------------------+------+-----+-------+--------------------+--------------------+---------+--------------+-----------+--------+-------------+-------+----------+-------+----------+------------+--------------------+--------+---------+----------+----------+-----------+------------+-----------+----------+--------------+-----------+------------+--------------------+---------+-------+---------+--------+----------+---------------+--------+---------+-----------+-------+--------------------+---------------+----------------+----------------+-------------+-------------+-------------+----------------+--------------------+--------------+---------------------+----------------------+------+--------+---------------------+--------------------+---------------------------+--------------------+-------------+--------------+-------------------+--------+----+\n",
      "|297991|2014-06-20 00:00:...|        J|LOCANORTE        ...|LOCANORTE LOCACAO...|1957-06-01 00:00:...|NULL|70857261568|07489900000193|0100086926     |INTERNET - LOGON ...|NULL|   LIBR5|#######|                NULL|297991|    N|     15|2024-12-11 16:49:...|INADIMPL            |      524|             1|         -1|97242442|            S|      S|         0|     58|         5|           N|2020-06-24 15:36:...|LIBR5 F |        0|      NULL|      NULL|       NULL|      396578|          S|      NULL|             0|       NULL|    ADMIN   |2012-03-14 15:55:...|     NULL|   NULL|     NULL|    NULL|         0|              0|    NULL|        1|          N|      N|2021-08-20 13:09:...|       LIBR5   |               N|            NULL|         NULL|         NULL|            1|            NULL|                NULL|          NULL|                 NULL|                  NULL|     S|       0|                 NULL|                NULL|                       NULL|                NULL|            1|    2024-12-11|2024-12-11 16:49:11|35383315|NULL|\n",
      "|349795|2012-03-14 00:00:...|        J|LOCANORTE        ...|LOCACAO DE CACAMB...|1957-06-01 00:00:...|NULL|44444444444|07489900000193|0100086926     |INTERNET - LOGON ...|NULL|   LIBR5|#######|                NULL|297991|    N|     15|2024-12-11 16:49:...|INADIMPL            |      524|             1|         -1|40845603|            S|      S|         0|     58|         5|           N|2016-08-05 15:53:...|LIBR5 F |     NULL|      NULL|      NULL|       NULL|      396578|          S|      NULL|          NULL|       NULL|    ADMIN   |2012-03-14 15:55:...|     NULL|   NULL|     NULL|    NULL|         0|              0|    NULL|        1|          A|      N|2014-06-20 09:43:...|       LIBRE FI|               N|            NULL|         NULL|         NULL|            1|            NULL|                NULL|          NULL|                 NULL|                  NULL|     S|    NULL|                 NULL|                NULL|                       NULL|                NULL|            1|    2024-12-11|2024-12-11 16:49:11|35383316|NULL|\n",
      "|451146|2014-06-20 00:00:...|        J|LOCANORTE        ...|LOCANORTE LOCACAO...|1957-06-01 00:00:...|NULL|70857261568|07489900000193|0100086926     |INTERNET - LOGON ...|NULL|   LIBR5|#######|                NULL|297991|    N|     15|2024-12-11 16:49:...|INADIMPL            |      524|             1|         -1|20574885|            S|      S|         0|     58|         5|           N|2020-06-24 15:36:...|LIBR5 F |     NULL|      NULL|      NULL|       NULL|      396578|          S|      NULL|          NULL|       NULL|    ADMIN   |2012-03-14 15:55:...|     NULL|   NULL|     NULL|    NULL|         0|              0|    NULL|        1|          A|      N|2019-07-08 09:33:...|       LIBR5   |               N|            NULL|         NULL|         NULL|            0|            NULL|                NULL|          NULL|                 NULL|                  NULL|     S|    NULL|                 NULL|                NULL|                       NULL|                NULL|         NULL|    2024-12-11|2024-12-11 16:49:11|35383314|NULL|\n",
      "|486984|2014-08-19 00:00:...|        J|CAFE JURERE      ...|JURERE CAFFE COME...|1989-03-28 00:00:...|NULL|       NULL|00214257000146|0100086926     |INTERNET - LOGON ...|NULL|   ABN7 |#######|                NULL|354174|    N|     15|                NULL|                NULL|     NULL|             1|          1|27077609|            S|      S|         0|     58|         5|           N|2022-01-20 13:04:...|ABN7 FI |     NULL|      NULL|      NULL|       NULL|      392851|          S|      NULL|          NULL|       NULL|    ABN5    |2014-08-19 14:45:...|     NULL|   NULL|     NULL|    NULL|         0|              0|    NULL|        1|          F|      S|2022-01-19 10:41:...|       ABN7 FIN|               N|            NULL|         NULL|         NULL|            0|            NULL|                NULL|          NULL|                 NULL|                  NULL|     S|    NULL|                 NULL|                NULL|                       NULL|                NULL|         NULL|    2024-12-11|2024-12-11 15:06:40|35383305|NULL|\n",
      "|486982|2014-08-19 00:00:...|        J|CAFE JURERE      ...|JURERE CAFFE COME...|1989-03-28 00:00:...|NULL|       NULL|00214257000146|0100086926     |INTERNET - LOGON ...|NULL|   ABN7 |#######|                NULL|354174|    N|     15|                NULL|                NULL|     NULL|             1|          1|13690836|            S|      S|         0|     58|         5|           N|2022-01-20 13:04:...|ABN7 FI |     NULL|      NULL|      NULL|       NULL|      392851|          S|      NULL|          NULL|       NULL|    ABN5    |2014-08-19 14:45:...|     NULL|   NULL|     NULL|    NULL|         0|              0|    NULL|        1|          F|      S|2022-01-19 10:41:...|       ABN7 FIN|               N|            NULL|         NULL|         NULL|            0|            NULL|                NULL|          NULL|                 NULL|                  NULL|     S|    NULL|                 NULL|                NULL|                       NULL|                NULL|         NULL|    2024-12-11|2024-12-11 15:03:31|35383303|NULL|\n",
      "|484611|2024-04-02 10:35:...|        J|POSTO PANDOLFI   ...|POSTO DE COMBUSTI...|1974-03-13 00:00:...|NULL|90489004920|45139554000102|ISENTO         |INTERNET - LOGON ...|NULL|   LD   |#######|                NULL|484611|    N|     15|2024-12-11 14:46:...|ENC ATIV            |      474|             1|          0|  484611|            S|      S|         0|     58|         5|           N|2024-04-19 02:50:...|LIDER D |        0|      NULL|      NULL|       NULL|      482703|          S|      NULL|             0|       NULL|    LIDER DI|2024-04-02 10:35:...|     NULL|   NULL|     NULL|    NULL|         0|              0|    NULL|        1|          D|      S|                NULL|           NULL|            NULL|            NULL|         NULL|         NULL|            0|            NULL|                NULL|          NULL|                 NULL|                  NULL|     S|    NULL|                 NULL|                NULL|                       NULL|                NULL|         NULL|    2024-12-11|2024-12-11 14:46:29|35383301|NULL|\n",
      "|484717|2024-04-08 15:46:...|        J|POSTO PANDOLFI   ...|POSTO DE COMBUSTI...|1974-03-13 00:00:...|NULL|90489004920|45139554000102|ISENTO         |INTERNET - LOGON ...|NULL|   LD   |#######|                NULL|484611|    N|     15|2024-12-11 14:46:...|ENC ATIV            |      474|             1|          0|  484717|            S|      S|         0|     58|         5|           N|                NULL|LIDER D |        0|      NULL|      NULL|       NULL|      482703|          S|      NULL|             0|       NULL|    LIDER DI|2024-04-02 10:35:...|     NULL|   NULL|     NULL|    NULL|         0|              0|    NULL|        1|          D|      S|                NULL|           NULL|            NULL|            NULL|         NULL|         NULL|            0|            NULL|                NULL|          NULL|                 NULL|                  NULL|     S|    NULL|                 NULL|                NULL|                       NULL|                NULL|         NULL|    2024-12-11|2024-12-11 14:46:29|35383300|NULL|\n",
      "|481150|2023-06-06 08:34:...|        J|MULT PRODUTOS ODO...|MULT PRODUTOS ODO...|1981-09-16 00:00:...|NULL|29806660846|41209718000170|536155490118   |INTERNET-        ...|NULL|   SVPRM|#######|0024-12-01 00:00:...|481150|    N|      9|2024-12-11 11:06:...|ALT POLIT VENDAS    |     NULL|             1|         -1|  481150|            S|      2|         0|     10|         5|           N|2024-11-26 11:05:...|Ygor Mou|        0|      NULL|      NULL|       NULL|      466082|          S|      NULL|             0|         12|    466081  |2023-06-06 08:34:...|     NULL|   NULL|     NULL|    NULL|         0|              0|    NULL|        1|          N|      S|                NULL|           NULL|               N|            NULL|         NULL|         NULL|            0|            NULL|MULT PRODUTOS ODO...|          NULL|                 NULL|                  NULL|     S|       0|                 NULL|                NULL|                       NULL|                NULL|         NULL|    2024-12-11|2024-12-11 11:08:45|35383263|NULL|\n",
      "|243699|2009-11-27 00:00:...|        J|ASTRO COMERCIAL  ...|ASTRO COMERCIAL D...|                NULL|NULL|       NULL|52603156000160|159003949118   |INTERNET FAB V4  ...|NULL|   FENIX|#######|0021-03-26 00:00:...|243699|    N|     18|2024-12-11 00:00:...|ALT POLIT VENDAS    |      524|             1|         -1|  243699|            S|      2|         0|      9|         5|           N|2024-11-22 14:27:...|daniela |    50.86|      NULL|      NULL|       NULL|      292576|          S|  10047606|             5|          0|    FLERP   |2009-11-27 13:24:...|     NULL|   NULL|     NULL|    NULL|         0|              0|    NULL|        1|          N|      S|2009-11-27 13:24:...|       flerp   |               N|            NULL|         NULL|         NULL|            0|               1|                NULL|          NULL|                 NULL|                  NULL|     S|       0|                 NULL|2018-02-08 14:10:...|                   POS VEND|                NULL|            1|    2024-12-11|2024-12-11 09:20:21|35383230|NULL|\n",
      "|400298|2016-10-10 15:56:...|        J|A AGNELLO IMOVEIS...|A AGNELLO IMOVEIS...|1975-05-20 00:00:...|NULL|15785941899|05348746000104|0100086926     |INTERNET - LOGON ...|NULL|   JSF  |#######|                NULL|383294|    N|     15|2024-12-11 09:32:...|                NULL|      474|             1|          0|  400298|            S|      S|         0|     58|         5|           N|2024-12-11 09:32:...|9000736 |        0|      NULL|      NULL|       NULL|      431102|          S|      NULL|         34.77|       NULL|    JSF FINA|2015-11-16 14:03:...|     NULL|   NULL|     NULL|    NULL|         0|              0|    NULL|        1|          N|      S|2016-12-13 08:36:...|       JSF FINA|            NULL|            NULL|         NULL|         NULL|            0|               1|                NULL|          NULL|                 NULL|                  NULL|     S|    NULL|                 NULL|2015-11-27 11:50:...|                   JANAINA |                NULL|            0|    2024-12-11|2024-12-11 09:32:04|35383233|NULL|\n",
      "|424673|2018-03-13 17:36:...|        J|SAPATARIA TANIA  ...|MARCIA TANIA DIAS...|1986-04-05 00:00:...|NULL|13084493642|21880299000196|0100086926     |INTERNET - LOGON ...|NULL|   LIBRE|#######|                NULL|424673|    N|     15|                NULL|                NULL|      474|             1|          1|  424673|            S|      S|         0|     58|         5|           N|2024-04-19 02:50:...|LIBRE F |        0|      NULL|      NULL|       NULL|           0|          S|      NULL|             0|       NULL|    LIBR2   |2018-03-13 17:36:...|     NULL|   NULL|     NULL|    NULL|         0|              0|    NULL|        1|          N|      S|2024-11-25 16:40:...|       LIBRE FI|            NULL|            NULL|         NULL|         NULL|            0|            NULL|                NULL|          NULL|                 NULL|                  NULL|     S|    NULL|                 NULL|                NULL|                       NULL|                NULL|            0|    2024-12-11|2024-12-11 08:33:55|35383211|NULL|\n",
      "|435019|2019-04-09 01:38:...|        J|BIG PNEUS        ...|V. A. CENTRO COME...|1948-05-18 00:00:...|NULL|05719780378|13715504000130|065679652      |INTERNET-FAC COB ...|NULL|   LNEAR|#######|2025-12-10 00:00:...|458548|    N|     18|                NULL|                NULL|     NULL|             1|          1|  435019|            S|      2|         0|      9|         5|           N|2024-12-10 15:09:...|CADASTR |        0|      NULL|      NULL|       NULL|      424361|          S|      NULL|          45.9|         12|    424359  |2019-04-09 01:38:...|     NULL|   NULL|     NULL|    NULL|         0|              0|    NULL|        1|          N|      S|                NULL|           NULL|               N|            NULL|         NULL|         NULL|            1|            NULL|V. A. CENTRO COME...|          NULL|                 NULL|                  NULL|     S|       0|                 NULL|                NULL|                       NULL|Ã a 6Âª vez que ...|            0|    2024-12-11|2024-12-10 15:12:12|35383169|NULL|\n",
      "|455413|2004-08-20 00:00:...|        J|MERCURY MARINE DO...|MERCURY MARINE DO...|                NULL|NULL|       NULL|01434800000264|85751750       |                NULL|NULL|   EXSOL|#######|2004-08-20 00:00:...|455413|    N|     10|2024-12-11 00:00:...|ALT POLIT VENDAS    |        0|             1|         -1|   69947|            S|      S|      NULL|     10|         5|           N|2024-11-22 14:27:...|OKPARC  |        0|      NULL|      NULL|       NULL|        NULL|          S|      NULL|         63.53|       NULL|    cristia2|2004-08-20 00:00:...|     NULL|   NULL|     NULL|    NULL|         0|           NULL|    NULL|        1|          N|   NULL|                NULL|           NULL|               N|               S|         NULL|         NULL|            1|            NULL|                NULL|          NULL|                 NULL|                  NULL|     S|       0|                 NULL|                NULL|                       NULL|                NULL|         NULL|    2024-12-11|2024-12-11 09:16:05|35383229|NULL|\n",
      "|461730|2018-07-04 00:00:...|        J|ROSSI & LIMA     ...|MARCILIO VIEIRA D...|                NULL|NULL|00000000000|26414574000108|1              |                NULL|NULL|   NPN  |#######|2018-07-04 00:00:...|461730|    N|     10|2018-11-29 00:00:...|MIG BLOQ. EXPRESS   |     NULL|             1|          0|  162488|            S|      S|      NULL|     10|         5|           N|2024-12-10 15:27:...|JULIO SA|     74.9|      NULL|      NULL|       NULL|        NULL|          S|      NULL|             6|       NULL|    cristia2|2018-07-04 00:00:...|     NULL|   NULL|     NULL|    NULL|         0|           NULL|    NULL|        1|          N|   NULL|                NULL|           NULL|               N|               S|         NULL|         NULL|            1|            NULL|MARCILIO VIEIRA D...|          NULL|                 NULL|                  NULL|     S|       0|                 NULL|                NULL|                       NULL|                NULL|            0|    2024-12-11|2024-12-10 15:27:24|35383174|NULL|\n",
      "|467621|2022-04-22 11:29:...|        J|NORTECAR AUTO PEC...|JMA AUTO PECAS E ...|1982-12-12 00:00:...|NULL|05754072635|42847757000165|ISENTO         |INTERNET-        ...|NULL|   CUTIV|#######|                NULL|467621|    N|     18|2024-12-10 17:00:...|NAO ESTA UTILIZANDO |     NULL|             1|         -1|  467621|            S|      2|         0|      9|         5|           N|2024-12-10 17:01:...|CUTIV   |        0|      NULL|      NULL|       NULL|      450696|          S|      NULL|             0|          0|    450694  |2022-04-22 11:29:...|     NULL|   NULL|     NULL|    NULL|         0|              0|    NULL|        1|          N|      S|                NULL|           NULL|               N|            NULL|         NULL|         NULL|            0|            NULL|JMA AUTO PECAS E ...|          NULL|                 NULL|                  NULL|     S|       0|                 NULL|                NULL|                       NULL|                NULL|            0|    2024-12-11|2024-12-10 17:01:02|35383186|NULL|\n",
      "|481598|2023-07-14 18:50:...|        J|WERICAR AUTO CENT...|48164730 MARIA JU...|1979-07-25 00:00:...|NULL|87832941120|48164730000154|375156311119   |INTERNET-FAB PRIM...|NULL|   FGC1 |#######|2024-07-14 18:50:...|481598|    N|     18|2024-12-10 16:47:...|ALT POLIT VENDAS    |     NULL|             1|         -1|  481598|            S|      2|         0|      9|         5|           N|2024-11-22 14:27:...|daniela |        0|      NULL|      NULL|       NULL|      464233|          S|      NULL|         101.1|         12|    464232  |2023-07-14 18:50:...|     NULL|   NULL|     NULL|    NULL|         0|              0|    NULL|        1|          N|      S|                NULL|           NULL|               N|            NULL|         NULL|         NULL|            0|               0|48164730 MARIA JU...|          NULL|                 NULL|                  NULL|     S|       0|                 NULL|                NULL|                       NULL|                NULL|         NULL|    2024-12-11|2024-12-10 16:47:58|35383181|NULL|\n",
      "|485851|2024-07-26 08:46:...|        J|EDIVALDO DOS SANT...|EDIVALDO DOS SANT...|1976-04-01 00:00:...|NULL|95406883453|47796471000111|ISENTO         |INTERNET - LOGON ...|NULL|   SCP  |#######|                NULL|485851|    N|     15|2024-12-11 09:59:...|PRECOS              |      474|             1|         -1|  485851|            S|      S|         0|     58|         5|           N|2024-11-13 16:15:...|SCP     |        0|      NULL|      NULL|       NULL|           0|          S|      NULL|             0|       NULL|    SCP     |2024-07-26 08:46:...|     NULL|   NULL|     NULL|    NULL|         0|              0|    NULL|        1|          D|      S|2024-12-09 09:18:...|       SCP     |            NULL|            NULL|         NULL|         NULL|            0|            NULL|                NULL|          NULL|                 NULL|                  NULL|     S|    NULL|                 NULL|                NULL|                       NULL|                NULL|            1|    2024-12-11|2024-12-11 09:59:51|35383249|NULL|\n",
      "|486271|2024-09-16 15:06:...|        J|37275570 JOELSON ...|37275570 JOELSON ...|1965-07-19 00:00:...|NULL|92349145700|37275570000102|ISENTO         |INTERNET - LOGON ...|NULL|   SCP  |#######|                NULL|486271|    N|     15|2024-12-11 09:54:...|PRECOS              |      474|             1|         -1|  486271|            S|      S|         0|     58|         5|           N|2024-10-30 18:11:...|SCP     |        0|      NULL|      NULL|       NULL|           0|          S|      NULL|             0|       NULL|    SCP     |2024-09-16 15:06:...|     NULL|   NULL|     NULL|    NULL|         0|              0|    NULL|        1|          D|      S|2024-12-09 08:41:...|       SCP     |            NULL|            NULL|         NULL|         NULL|            0|            NULL|                NULL|          NULL|                 NULL|                  NULL|     S|    NULL|                 NULL|                NULL|                       NULL|                NULL|            1|    2024-12-11|2024-12-11 09:54:31|35383244|NULL|\n",
      "|486970|2024-12-10 15:06:...|        J|EQUIPAR LOCACAO D...|EQUIPAR LOCACAO D...|1991-12-06 00:00:...|NULL|06566445676|57309078000100|ISENTO         |INTERNET - LOGON ...|NULL|   ECHEQ|#######|                NULL|486970|    N|     15|                NULL|                NULL|     NULL|             1|          1|  486970|            S|      S|         0|     58|         5|           N|2024-12-10 15:37:...|OPERACIO|        0|      NULL|      NULL|       NULL|      311744|          S|      NULL|             0|       NULL|    ECHEQ   |2024-12-10 15:06:...|     NULL|   NULL|     NULL|    NULL|         0|              0|    NULL|        1|          D|      S|                NULL|           NULL|            NULL|            NULL|         NULL|         NULL|            0|            NULL|EQUIPAR LOCACAO D...|          NULL|                 NULL|                  NULL|     S|    NULL|                 NULL|                NULL|                       NULL|                NULL|            0|    2024-12-11|2024-12-10 15:37:25|35383178|NULL|\n",
      "|486975|2024-12-05 09:36:...|        J|FABRICA 75       ...|FABRICA 75 COMERC...|1978-03-21 00:00:...|NULL|25393915837|24271441000196|140566948114   |INTERNET - LOGON ...|NULL|   GJR  |#######|                NULL|486935|    N|     15|                NULL|                NULL|      474|             1|          1|25919738|            S|      S|         0|     58|         5|           N|                NULL|VALORIZA|     NULL|      NULL|      NULL|       NULL|      485456|          S|      NULL|          NULL|       NULL|    VALORIZA|2024-12-05 09:36:...|     NULL|   NULL|     NULL|    NULL|         0|              0|    NULL|        1|          A|      S|                NULL|           NULL|            NULL|            NULL|         NULL|         NULL|            0|            NULL|                NULL|          NULL|                 NULL|                  NULL|     S|    NULL|                 NULL|                NULL|                       NULL|                NULL|         NULL|    2024-12-11|2024-12-11 09:35:13|35383236|NULL|\n",
      "+------+--------------------+---------+--------------------+--------------------+--------------------+----+-----------+--------------+---------------+--------------------+----+--------+-------+--------------------+------+-----+-------+--------------------+--------------------+---------+--------------+-----------+--------+-------------+-------+----------+-------+----------+------------+--------------------+--------+---------+----------+----------+-----------+------------+-----------+----------+--------------+-----------+------------+--------------------+---------+-------+---------+--------+----------+---------------+--------+---------+-----------+-------+--------------------+---------------+----------------+----------------+-------------+-------------+-------------+----------------+--------------------+--------------+---------------------+----------------------+------+--------+---------------------+--------------------+---------------------------+--------------------+-------------+--------------+-------------------+--------+----+\n",
      "only showing top 20 rows\n",
      "\n"
     ]
    }
   ],
   "source": [
    "cliente = spark.table(\"prd.dl_redeok_checkok.tb_cliente\")\n",
    "cliente.show()\n"
   ]
  },
  {
   "cell_type": "code",
   "execution_count": null,
   "metadata": {},
   "outputs": [],
   "source": [
    "df_filtrado = cliente.filter(cliente[\"cgcmf\"] == \"24632614000154\")\n",
    "df_filtrado.show(1000000)"
   ]
  },
  {
   "cell_type": "code",
   "execution_count": null,
   "metadata": {},
   "outputs": [],
   "source": []
  },
  {
   "cell_type": "code",
   "execution_count": 3,
   "metadata": {},
   "outputs": [
    {
     "name": "stdout",
     "output_type": "stream",
     "text": [
      "+------+---------+-------+--------------------+----------+------------+---------------+-----------+--------------+--------+-------------+---------+--------+--------+--------------+\n",
      "|CODIGO|DESCRICAO|REPASSE|          DTA_ULTATU|USR_ULTATU|COD_CONTRATO|DTA_ASSCONTRATO|TIP_REVENDA|COD_TABREPASSE|SG_GRUPO|VL_PERCENTUAL|SG_VISREP|SG_DEMCO|CD_CONTA|date_partition|\n",
      "+------+---------+-------+--------------------+----------+------------+---------------+-----------+--------------+--------+-------------+---------+--------+--------+--------------+\n",
      "|101549|    IVAN |      N|2010-08-25 11:23:...|  luzinete|        NULL|           NULL|          2|             1|    NULL|         NULL|        S|       N|    NULL|    2025-02-10|\n",
      "| 95854|    JOAO |      N|2010-09-14 16:53:...|  luzinete|        NULL|           NULL|          2|             1|    NULL|         NULL|        S|       N|    NULL|    2025-02-10|\n",
      "|259088|    OKABC|      S|2010-10-15 17:17:...|  luzinete|        NULL|           NULL|          2|             1|    NULL|         NULL|        S|       N|    NULL|    2025-02-10|\n",
      "|108804|    LINE |      S|2011-02-10 14:47:...|  luzinete|        NULL|           NULL|          2|             1|    NULL|         NULL|        S|       N|    NULL|    2025-02-10|\n",
      "|262947|    ONE  |      S|2011-02-10 14:47:...|  luzinete|        NULL|           NULL|          2|             1|    NULL|         NULL|        S|       N|    NULL|    2025-02-10|\n",
      "|262946|    DOMIN|      S|2011-02-22 12:49:...|  luzinete|        NULL|           NULL|          2|             1|    NULL|         NULL|        S|       N|    NULL|    2025-02-10|\n",
      "|262952|    OMEGA|      N|2011-01-05 17:56:...|  luzinete|        NULL|           NULL|          2|             1|    NULL|         NULL|        S|       N|    NULL|    2025-02-10|\n",
      "|117910|    CAMPI|      S|2011-05-26 11:17:...|  luzinete|        NULL|           NULL|          2|             1|       B|           22|        S|       S|    NULL|    2025-02-10|\n",
      "|117909|    POCOS|      S|2011-01-21 15:09:...|  luzinete|        NULL|           NULL|          2|             1|    NULL|         NULL|        S|       N|    NULL|    2025-02-10|\n",
      "|117911|    APUCA|      N|2011-02-08 11:03:...|  luzinete|        NULL|           NULL|          2|             1|    NULL|         NULL|        S|       N|    NULL|    2025-02-10|\n",
      "|117913|    GUARA|      N|2011-02-08 11:04:...|  luzinete|        NULL|           NULL|          2|             1|    NULL|         NULL|        S|       N|    NULL|    2025-02-10|\n",
      "|117914|    FOZ  |      N|2011-02-08 11:04:...|  luzinete|        NULL|           NULL|          2|             1|    NULL|         NULL|        S|       N|    NULL|    2025-02-10|\n",
      "|117912|    CURIT|      N|2011-02-08 11:05:...|  luzinete|        NULL|           NULL|          2|             1|    NULL|         NULL|        S|       N|    NULL|    2025-02-10|\n",
      "|100526|    ANAD |      N|2011-02-17 14:41:...|  luzinete|        NULL|           NULL|          2|             1|    NULL|         NULL|        S|       N|    NULL|    2025-02-10|\n",
      "|173643|    VERIC|      N|2011-02-23 10:30:...|  luzinete|        NULL|           NULL|          2|             1|    NULL|         NULL|        S|       N|    NULL|    2025-02-10|\n",
      "|123186|    FGB  |      S|2011-04-04 12:01:...|  luzinete|        NULL|           NULL|          2|             1|       A|           18|        S|       S|    NULL|    2025-02-10|\n",
      "|153276|    OKFIN|      N|2012-03-14 10:11:...|  luzinete|        NULL|           NULL|          2|             1|    NULL|         NULL|        S|       N|    NULL|    2025-02-10|\n",
      "|223218|    OKCRE|      N|2011-05-17 16:35:...|  luzinete|        NULL|           NULL|          2|             1|    NULL|         NULL|        S|       N|    NULL|    2025-02-10|\n",
      "|226722|    MARJ |      S|2011-06-30 14:17:...|  luzinete|        NULL|           NULL|          2|             1|    NULL|         NULL|        S|       N|    NULL|    2025-02-10|\n",
      "|272454|    GOVAL|      S|2024-02-22 15:16:...|  CRISTIAN|        NULL|           NULL|          4|             1|    NULL|         NULL|        S|       N|      89|    2025-02-10|\n",
      "+------+---------+-------+--------------------+----------+------------+---------------+-----------+--------------+--------+-------------+---------+--------+--------+--------------+\n",
      "only showing top 20 rows\n",
      "\n"
     ]
    }
   ],
   "source": [
    "revenda = spark.table(\"prd.dl_redeok_checkok.tb_revenda\")\n",
    "revenda.show()"
   ]
  },
  {
   "cell_type": "code",
   "execution_count": 4,
   "metadata": {},
   "outputs": [
    {
     "name": "stdout",
     "output_type": "stream",
     "text": [
      "+-------+----------+-------+------+-------------------+-------------------+-------------------+--------+-------+-------+-----+-------------------+----------+------------+--------------------+--------+----+------------+----------------+--------+-----+----------+---------+----------+---------+-------+---+----+--------+------+-------+--------+----------+----------+----------+-----------+-----------+-----------+-----------+--------------------+--------+---------+-------------+-----------+-------------+---------------+--------+---------+------+--------+-------+----------+---------+---------+-------+---------+-----------+-----------------+--------------+-------+--------------+-------+-------+\n",
      "| numero|    codigo|cliente| valor|            emissao|         vencimento|          pagto_ate|desconto|receita|especie|banco|         data_pagto|valor_pago|cod_desconto|          observacao|situacao|tipo|cancelamento|mot_cancelamento|num_vias|baixa|quantidade|cadastral|vlr_renpac|vlr_dspac|repasse|mes| ano|vlr_cobr|fatura|qtd_ccf|qtd_li21|qtd_li21ch|qtd_li21cp|qtd_li21pf|qtd_rs51ssc|qtd_rs51ssn|qtd_rs51sss|forma_pagto|           obs_pagto|comissao|condpagto|condpagto_seq|tipo_boleto|interveniente|    nossonumero|carteira|negociado| nr_nf|bco_pgto|ag_pgto|dv_ag_pgto|cod_barra|prot_impr|seqfast|cod_conta|nivel_visao|nm_nf_verificacao|date_partition|DTA_LOG|SEQ_LOGRECEBER|TIP_LOG|USR_LOG|\n",
      "+-------+----------+-------+------+-------------------+-------------------+-------------------+--------+-------+-------+-----+-------------------+----------+------------+--------------------+--------+----+------------+----------------+--------+-----+----------+---------+----------+---------+-------+---+----+--------+------+-------+--------+----------+----------+----------+-----------+-----------+-----------+-----------+--------------------+--------+---------+-------------+-----------+-------------+---------------+--------+---------+------+--------+-------+----------+---------+---------+-------+---------+-----------+-----------------+--------------+-------+--------------+-------+-------+\n",
      "|3783626|71168736  | 258119| 77.61|2013-12-01 00:00:00|2013-12-18 00:00:00|2013-12-18 00:00:00|       0|      9|      0|  237|2013-12-20 00:00:00|     77.61|           0|                NULL|       B|   R|        NULL|            NULL|       0|    S|         0|        0|         0|        0|   NULL| 11|2013|       0|     0|      0|      19|         0|         0|         0|          0|          0|          0|       NULL|                NULL|       1|        0|            0|          A|         NULL|   000003173965|       2|     NULL|     0|     341|   3344|      NULL|     NULL|     2924|   5389|       59|          0|             NULL|    2024-04-08|   NULL|          NULL|   NULL|   NULL|\n",
      "|1958258|30224170  | 218669|  13.6|2009-03-01 00:00:00|2009-03-18 00:00:00|2009-03-18 00:00:00|       0|      9|      0|  341|2009-03-12 00:00:00|      13.6|           0|                NULL|       B|   R|        NULL|            NULL|       0|    S|         0|        0|         0|        0|   NULL|  2|2009|       0|     0|     10|       2|         0|         0|         0|          0|          0|          0|       NULL|                NULL|       1|        0|            0|          A|         NULL|      025231419|     112|     NULL|     0|       1|   2665|      NULL|     NULL|     NULL|   NULL|       39|          0|             NULL|    2024-04-08|   NULL|          NULL|   NULL|   NULL|\n",
      "|3931663|80326785  | 203665| 79.44|2014-04-01 00:00:00|2014-04-18 00:00:00|2014-04-18 00:00:00|       0|      9|      0|  341|2014-04-23 00:00:00|     79.44|           0|                NULL|       B|   R|        NULL|            NULL|       0|    S|         0|        0|         0|        0|   NULL|  3|2014|       0|     0|      0|       0|         0|         0|         0|          2|          0|          0|       NULL|                NULL|       1|        0|            0|          A|         NULL|      065533021|     112|     NULL|     0|       1|   3479|      NULL|     NULL|     NULL|   NULL|       39|          0|             NULL|    2024-04-08|   NULL|          NULL|   NULL|   NULL|\n",
      "|7306518|70431297  | 241449| 107.8|2021-04-01 00:00:00|2021-04-18 00:00:00|2021-04-18 00:00:00|       0|      9|      0|   33|2021-04-19 00:00:00|     107.8|           0|CAMPI            ...|       B|   R|        NULL|            NULL|       0|    S|         0|        0|         0|        0|   NULL|  4|2021|       0|     0|      0|       0|         0|         0|         0|          0|          0|          0|       NULL|                NULL|       1|        0|            0|          A|         NULL|       03613593|     101|     NULL|663394|      33|      0|      NULL|     NULL|    11801|  15936|       20|          0|             NULL|    2024-04-08|   NULL|          NULL|   NULL|   NULL|\n",
      "|2722586|50482046  | 229404|    50|2011-04-01 00:00:00|2011-04-17 00:00:00|2011-04-17 00:00:00|       0|     33|      1|  237|               NULL|      NULL|        NULL|CHECKTUDO        ...|       R|   R|        NULL|            NULL|    NULL| NULL|      NULL|     NULL|      NULL|     NULL|   NULL|  4|2011|    NULL|  NULL|   NULL|    NULL|      NULL|      NULL|      NULL|       NULL|       NULL|       NULL|       NULL|                NULL|    NULL|     NULL|         NULL|          A|         NULL|   000000522831|       6|     NULL|  NULL|    NULL|   NULL|      NULL|     NULL|     1806|   1979|       44|          0|             NULL|    2024-04-08|   NULL|          NULL|   NULL|   NULL|\n",
      "|6681738|50571903  | 395931|139.62|2019-05-01 00:00:00|2019-05-15 00:00:00|2019-05-15 00:00:00|       0|     58|      1|  341|2019-05-15 00:00:00|    139.62|        NULL|NIVAL            ...|       B|   R|        NULL|            NULL|    NULL|    S|      NULL|     NULL|      NULL|     NULL|   NULL|  4|2019|    NULL|  NULL|   NULL|    NULL|      NULL|      NULL|      NULL|       NULL|       NULL|       NULL|       NULL|                NULL|    NULL|     NULL|         NULL|          A|         NULL|      112953107|     112|     NULL|154038|     104|   4537|      NULL|     NULL|     9691|      1|        1|       NULL|             NULL|    2024-04-08|   NULL|          NULL|   NULL|   NULL|\n",
      "|6175232|40505600  | 355864|    26|2018-05-01 00:00:00|2018-05-18 00:00:00|2018-05-18 00:00:00|       0|      9|      0|  341|2018-05-31 00:00:00|        26|           0|CUTIV            ...|       B|   R|        NULL|            NULL|       0| NULL|         0|        0|         0|        0|   NULL|  5|2018|       0|     0|      0|       0|         0|         0|         0|          0|          0|          0|       NULL|TRANSFERIDO CONCE...|       1|        0|            0|          A|         NULL|      003398330|     109|     NULL|623975|     222|   9999|      NULL|     NULL|     7709|  12438|        1|          0|         ZQG4TTVS|    2024-04-08|   NULL|          NULL|   NULL|   NULL|\n",
      "|4185912|80922432  | 315200|    40|2014-10-01 00:00:00|2014-10-18 00:00:00|2014-10-18 00:00:00|       0|      9|      0|  237|2014-10-13 00:00:00|        40|           0|                NULL|       B|   R|        NULL|            NULL|       0|    S|         0|        0|         0|        0|   NULL|  9|2014|       0|     0|      0|       0|         0|         0|         0|          0|          0|          0|       NULL|                NULL|       1|        0|            0|          A|         NULL|   00000163109P|       6|     NULL|     0|     104|    340|      NULL|     NULL|     3542|   6488|       42|          0|             NULL|    2024-04-08|   NULL|          NULL|   NULL|   NULL|\n",
      "|6876318|60100189  | 256313|230.76|2020-01-01 00:00:00|2020-01-18 00:00:00|2020-01-18 00:00:00|       0|      9|      0|   33|2020-01-22 00:00:00|    230.76|           0|REDMT            ...|       B|   R|        NULL|            NULL|       0|    S|         0|        0|         0|        0|   NULL|  1|2020|       0|     0|      0|       0|         0|         0|         0|          0|          0|          0|       NULL|                NULL|       1|        0|            0|          A|         NULL|       02918340|     101|     NULL|329405|      33|      0|      NULL|     NULL|    10706|  15055|       20|          0|             NULL|    2024-04-08|   NULL|          NULL|   NULL|   NULL|\n",
      "|6998230|60533327  | 345012|252.85|2020-05-01 00:00:00|2020-05-18 00:00:00|2020-05-18 00:00:00|       0|      9|      0|   33|2020-05-18 00:00:00|    252.85|           0|MAXSM            ...|       B|   R|        NULL|            NULL|       0|    S|         0|        0|         0|        0|   NULL|  5|2020|       0|     0|      0|       0|         0|         0|         0|          0|          0|          0|       NULL|                NULL|       1|        0|            0|          A|         NULL|       03242510|     101|     NULL|422850|      33|      0|      NULL|     NULL|    11070|  15418|       20|          0|             NULL|    2024-04-08|   NULL|          NULL|   NULL|   NULL|\n",
      "|2512867|40876201  | 244536| 41.59|2010-09-01 00:00:00|2010-09-18 00:00:00|2010-09-18 00:00:00|       0|      9|      0|  341|2010-09-17 00:00:00|     41.59|           0|                NULL|       B|   R|        NULL|            NULL|       0|    S|         1|        0|      0.08|        0|   NULL|  8|2010|       0|     0|      0|       0|         0|         0|         0|          0|          0|          0|       NULL|                NULL|       1|        0|            0|          A|         NULL|      283505876|     112|     NULL|     0|     341|    137|      NULL|     NULL|     1556|   NULL|       39|          0|             NULL|    2024-04-08|   NULL|          NULL|   NULL|   NULL|\n",
      "|2862661|50819579  | 222656| 26.98|2011-09-01 00:00:00|2011-09-18 00:00:00|2011-09-18 00:00:00|       0|      9|      0|  341|2011-09-19 00:00:00|     26.98|           0|                NULL|       B|   R|        NULL|            NULL|       0|    S|         0|        0|         0|        0|   NULL|  8|2011|       0|     0|      0|       7|         0|         0|         0|          0|          0|          0|       NULL|                NULL|       1|        0|            0|          A|         NULL|      291715830|     112|     NULL|     0|     237|   2492|      NULL|     NULL|     NULL|   NULL|       39|          0|             NULL|    2024-04-08|   NULL|          NULL|   NULL|   NULL|\n",
      "|4435326|90308922  | 338948| 40.89|2015-04-01 00:00:00|2015-04-18 00:00:00|2015-04-18 00:00:00|       0|      9|      0|  341|2015-04-20 00:00:00|     40.89|           0|                NULL|       B|   R|        NULL|            NULL|       0|    S|         0|        0|         0|        0|   NULL|  3|2015|       0|     0|      1|       0|         0|         0|         0|          0|          0|          0|       NULL|                NULL|       1|        0|            0|          A|         NULL|      105165354|     112|     NULL|     0|     237|   1373|      NULL|     NULL|     4078|   NULL|       39|          0|             NULL|    2024-04-08|   NULL|          NULL|   NULL|   NULL|\n",
      "|9846549|99022498  | 356573| 49.77|2023-07-01 00:00:00|2023-07-15 00:00:00|2023-07-15 00:00:00|       0|     58|      1|  237|2023-07-17 00:00:00|     49.77|        NULL|CONFI            ...|       B|   R|        NULL|            NULL|    NULL|    S|      NULL|     NULL|      NULL|     NULL|   NULL|  6|2023|    NULL|  NULL|   NULL|    NULL|      NULL|      NULL|      NULL|       NULL|       NULL|       NULL|       NULL|                NULL|    NULL|     NULL|         NULL|          A|         NULL|   318600000252|       9|     NULL|177252|     104|   4160|      NULL|     NULL|    13029|      1|      131|       NULL|             NULL|    2024-04-08|   NULL|          NULL|   NULL|   NULL|\n",
      "|3890746|80285124  | 215432|132.74|2014-03-01 00:00:00|2014-03-18 00:00:00|2014-03-18 00:00:00|       0|      9|      0|   33|2014-03-18 00:00:00|    132.74|           0|                NULL|       B|   R|        NULL|            NULL|       0|    S|         2|        0|         0|        0|   NULL|  2|2014|       0|     0|      2|       0|         0|         0|         0|          0|          0|          0|       NULL|                NULL|       1|        0|            0|          A|         NULL|       01379119|     101|     NULL|     0|      33|      0|      NULL|     NULL|     2996|   5671|       61|          0|             NULL|    2024-04-08|   NULL|          NULL|   NULL|   NULL|\n",
      "|8833342|14007456  | 470071| 43.09|2013-01-03 00:15:42|2013-01-20 00:00:00|2013-01-20 00:00:00|       0|     46|      0|  341|2013-01-21 00:00:00|     43.09|           0|                NULL|       B|   R|        NULL|            NULL|       0| NULL|         0|        0|         0|        0|      0|  1|2013|       0|     0|      0|       0|         0|         0|         0|          0|          0|          0|       NULL|                NULL|       1|        0|            0|          A|         NULL|       00000513|    NULL|     NULL|     0|    NULL|   NULL|         1|     NULL|     NULL|   NULL|       29|          0|             NULL|    2024-04-08|   NULL|          NULL|   NULL|   NULL|\n",
      "|6648417|50438704  | 379860|  75.3|2019-04-01 00:00:00|2019-04-15 00:00:00|2019-04-15 00:00:00|       0|     58|      1|  104|2019-04-01 00:00:00|      75.3|        NULL|WTM              ...|       B|   R|        NULL|            NULL|    NULL| NULL|      NULL|     NULL|      NULL|     NULL|   NULL|  3|2019|    NULL|  NULL|   NULL|    NULL|      NULL|      NULL|      NULL|       NULL|       NULL|       NULL|       NULL|TRANSFERIDO CONCE...|    NULL|     NULL|         NULL|          A|         NULL|000000000015809|       2|     NULL|  NULL|     222|   9999|      NULL|     NULL|     9477|  13867|       67|       NULL|             NULL|    2024-04-08|   NULL|          NULL|   NULL|   NULL|\n",
      "|9884868|99022728  | 328129|127.92|2023-09-01 00:00:00|2023-09-18 00:00:00|2023-09-18 00:00:00|       0|      9|      0|  341|2023-10-04 00:00:00|       128|        NULL|FENIX            ...|       B|   R|        NULL|            NULL|       0|    M|         0|        0|         0|        0|   NULL|  9|2023|       0|     0|      0|       0|         0|         0|         0|          0|          0|          0|          D|p07637-2         ...|       1|        0|            0|          A|         NULL|      641357002|     112|     NULL|201808|     341|   7633|      NULL|     NULL|    13119|      1|       29|          0|             NULL|    2024-04-08|   NULL|          NULL|   NULL|   NULL|\n",
      "|3604046|70653947  | 262203|    35|2013-07-01 00:00:00|2013-07-18 00:00:00|2013-07-18 00:00:00|       0|      9|      0|  341|               NULL|         0|           0|                NULL|       R|   R|        NULL|            NULL|       0| NULL|         0|        0|         0|        0|   NULL|  6|2013|       0|     0|      0|       0|         0|         0|         0|          0|          0|          0|       NULL|                NULL|       1|        0|            0|          A|         NULL|      247860292|     112|     NULL|     0|    NULL|   NULL|      NULL|     NULL|     NULL|   NULL|       39|          0|             NULL|    2024-04-08|   NULL|          NULL|   NULL|   NULL|\n",
      "|8349553|71123298  | 458976|365.42|2020-03-01 00:00:00|2020-03-10 00:00:00|2020-03-10 00:00:00|       0|     10|      0|  237|2021-01-22 00:00:00|    365.42|           0|VEND0            ...|       B|   R|        NULL|            NULL|       1|    0|      NULL|     NULL|      NULL|     NULL|   NULL|  3|2020|    NULL|  NULL|   NULL|    NULL|      NULL|      NULL|      NULL|       NULL|       NULL|       NULL|       NULL|                NULL|    NULL|     NULL|         NULL|       NULL|         NULL|         117649|       7|     NULL|  NULL|     237|   4130|      NULL|     NULL|     NULL|   NULL|      126|       NULL|             NULL|    2024-04-08|   NULL|          NULL|   NULL|   NULL|\n",
      "+-------+----------+-------+------+-------------------+-------------------+-------------------+--------+-------+-------+-----+-------------------+----------+------------+--------------------+--------+----+------------+----------------+--------+-----+----------+---------+----------+---------+-------+---+----+--------+------+-------+--------+----------+----------+----------+-----------+-----------+-----------+-----------+--------------------+--------+---------+-------------+-----------+-------------+---------------+--------+---------+------+--------+-------+----------+---------+---------+-------+---------+-----------+-----------------+--------------+-------+--------------+-------+-------+\n",
      "only showing top 20 rows\n",
      "\n"
     ]
    }
   ],
   "source": [
    "revenda = spark.table(\"prd.dl_redeok_checkok.vw_receber\")\n",
    "revenda.show()"
   ]
  },
  {
   "cell_type": "code",
   "execution_count": 16,
   "metadata": {},
   "outputs": [],
   "source": [
    "query=  \"\"\"\n",
    "SELECT \n",
    "    cli.*,\n",
    "    rev.*,\n",
    "    rec.*\n",
    "FROM \n",
    "    prd.dl_redeok_checkok.tb_cliente cli\n",
    "INNER JOIN prd.dl_redeok_checkok.vw_receber rec \n",
    "    ON cli.codigo = rec.cliente\n",
    "INNER JOIN prd.dl_redeok_checkok.tb_revenda rev \n",
    "    ON cli.codigo = rev.codigo;\n",
    "\n",
    "\n",
    "\n",
    "\"\"\"\n",
    "\n",
    "\n",
    "# Executando a consulta e obtendo os dados em um DataFrame Spark\n",
    "sdf_final_z= spark.sql(query)\n"
   ]
  },
  {
   "cell_type": "code",
   "execution_count": 17,
   "metadata": {},
   "outputs": [
    {
     "name": "stdout",
     "output_type": "stream",
     "text": [
      "+------+--------------------+---------+--------------------+--------------------+----------+----+-----------+--------------+---------------+--------------------+----+--------+------+--------------------+------+-----+-------+--------------------+--------------------+---------+--------------+-----------+--------+-------------+-------+----------+-------+----------+------------+--------------------+--------+---------+----------+----------+-----------+------------+-----------+----------+--------------+-----------+------------+--------------------+---------+-------+---------+--------+----------+---------------+--------+---------+-----------+-------+---------------+---------------+----------------+----------------+-------------+-------------+-------------+----------------+-------------------+--------------+---------------------+----------------------+------+--------+---------------------+-------------------+---------------------------+-------------------+-------------+--------------+-------+-------+----+------+---------+-------+--------------------+----------+------------+---------------+-----------+--------------+--------+-------------+---------+--------+--------+--------------+-------+----------+-------+-----+-------------------+-------------------+-------------------+--------+-------+-------+-----+-------------------+----------+------------+--------------------+--------+----+-------------------+--------------------+--------+-----+----------+---------+----------+---------+-------+---+----+--------+------+-------+--------+----------+----------+----------+-----------+-----------+-----------+-----------+--------------------+--------+---------+-------------+-----------+-------------+-------------+--------+---------+-----+--------+-------+----------+--------------------+---------+---------+---------+-----------+-----------------+--------------+-------+--------------+-------+-------+\n",
      "|codigo|            data_cad|fis_jurid|                nome|          raz_social|nascimento|  rg|        cpf|         cgcmf|      inscricao|          observacao|tipo|vendedor| senha|          data_senha|matriz|falsa|diavenc|            bloqueio|        mot_bloqueio|atividade|max_simultaneo|max_conexao|cod_alfa|gerarcobranca|extrato|localidade|receita|bloq_autom|canal_renpac|            data_alt|username|vlrfatmin|qtd_cheque|qtd_concen|incr_vencto|distribuidor|vlrcobranca|cod_antigo|vlr_dispacesso|przvigencia|username_inc|            data_inc|nfentrada|nfsaida|nfrevenda|nfconsig|periferico|tipo_periferico|segmento|cod_plano|sit_cliente|corresp|dta_ult_verific|usr_ult_verific|ind_cli_indicado|ind_fac_original|tip_documento|num_documento|sta_ctrl_oper|sit_termo_adesao|nom_razsoc_completa|cd_orgaoclasse|ds_orgaoclasse_numero|dt_orgaoclasse_emissao|st_nfe|vl_dscob|ds_orgaoclasse_outros|dt_validacao_adesao|nm_usuario_validacao_adesao|ds_termo_observacao|cd_tributacao|date_partition|dta_log|num_seq|rnum|CODIGO|DESCRICAO|REPASSE|          DTA_ULTATU|USR_ULTATU|COD_CONTRATO|DTA_ASSCONTRATO|TIP_REVENDA|COD_TABREPASSE|SG_GRUPO|VL_PERCENTUAL|SG_VISREP|SG_DEMCO|CD_CONTA|date_partition| numero|    codigo|cliente|valor|            emissao|         vencimento|          pagto_ate|desconto|receita|especie|banco|         data_pagto|valor_pago|cod_desconto|          observacao|situacao|tipo|       cancelamento|    mot_cancelamento|num_vias|baixa|quantidade|cadastral|vlr_renpac|vlr_dspac|repasse|mes| ano|vlr_cobr|fatura|qtd_ccf|qtd_li21|qtd_li21ch|qtd_li21cp|qtd_li21pf|qtd_rs51ssc|qtd_rs51ssn|qtd_rs51sss|forma_pagto|           obs_pagto|comissao|condpagto|condpagto_seq|tipo_boleto|interveniente|  nossonumero|carteira|negociado|nr_nf|bco_pgto|ag_pgto|dv_ag_pgto|           cod_barra|prot_impr|  seqfast|cod_conta|nivel_visao|nm_nf_verificacao|date_partition|DTA_LOG|SEQ_LOGRECEBER|TIP_LOG|USR_LOG|\n",
      "+------+--------------------+---------+--------------------+--------------------+----------+----+-----------+--------------+---------------+--------------------+----+--------+------+--------------------+------+-----+-------+--------------------+--------------------+---------+--------------+-----------+--------+-------------+-------+----------+-------+----------+------------+--------------------+--------+---------+----------+----------+-----------+------------+-----------+----------+--------------+-----------+------------+--------------------+---------+-------+---------+--------+----------+---------------+--------+---------+-----------+-------+---------------+---------------+----------------+----------------+-------------+-------------+-------------+----------------+-------------------+--------------+---------------------+----------------------+------+--------+---------------------+-------------------+---------------------------+-------------------+-------------+--------------+-------+-------+----+------+---------+-------+--------------------+----------+------------+---------------+-----------+--------------+--------+-------------+---------+--------+--------+--------------+-------+----------+-------+-----+-------------------+-------------------+-------------------+--------+-------+-------+-----+-------------------+----------+------------+--------------------+--------+----+-------------------+--------------------+--------+-----+----------+---------+----------+---------+-------+---+----+--------+------+-------+--------+----------+----------+----------+-----------+-----------+-----------+-----------+--------------------+--------+---------+-------------+-----------+-------------+-------------+--------+---------+-----+--------+-------+----------+--------------------+---------+---------+---------+-----------+-----------------+--------------+-------+--------------+-------+-------+\n",
      "|145233|2005-06-06 00:00:...|        J|TECHMUNDI SOFTWAR...|K & S SERVICOS TE...|      NULL|NULL|73113778620|74162769000142|1082950014     |REVENDA SW SITE  ...|NULL|   SREVE|145233|0022-03-29 00:00:...|145233|    N|     28|2015-01-27 00:00:...|CONTRATO CANCELADO  |        1|             1|         -1|  145233|            S|      N|         0|      9|         5|           N|2021-03-29 08:47:...|CMOURA  |     71.9|      NULL|      NULL|       NULL|        NULL|          S|      NULL|             0|         12|    claudia |2005-06-06 16:39:...|     NULL|   NULL|     NULL|    NULL|         0|              0|    NULL|        1|          N|      S|           NULL|           NULL|               N|               N|           10|        00000|            0|            NULL|               NULL|          NULL|                 NULL|                  NULL|     N|       0|                 NULL|               NULL|                       NULL|               NULL|         NULL|    2024-03-05|   NULL|   NULL|NULL|145233|    EMERS|      N|2006-11-01 00:25:...|  checkok |        NULL|           NULL|          2|             1|    NULL|         NULL|        S|       N|    NULL|    2025-02-10|1214613|90112429  | 145233|  1.4|2006-02-01 00:00:00|2006-02-01 00:00:00|2006-02-01 00:00:00|       0|      9|      0|    0|               NULL|         0|           0|CONSUMO TRANSF.P/...|       C|   R|               NULL|                 ...|       0|     |         0|        0|       0.4|        0|   NULL|  1|2006|       0|     0|     10|       0|         0|         0|         0|          0|          0|          0|           |                 ...|       1|        0|            0|          A|             |             |       0|         |    0|    NULL|   NULL|         0|                 ...|     NULL|     NULL|        0|          0|             NULL|    2024-04-08|   NULL|          NULL|   NULL|   NULL|\n",
      "|145233|2005-06-06 00:00:...|        J|TECHMUNDI SOFTWAR...|K & S SERVICOS TE...|      NULL|NULL|73113778620|74162769000142|1082950014     |REVENDA SW SITE  ...|NULL|   SREVE|145233|0022-03-29 00:00:...|145233|    N|     28|2015-01-27 00:00:...|CONTRATO CANCELADO  |        1|             1|         -1|  145233|            S|      N|         0|      9|         5|           N|2021-03-29 08:47:...|CMOURA  |     71.9|      NULL|      NULL|       NULL|        NULL|          S|      NULL|             0|         12|    claudia |2005-06-06 16:39:...|     NULL|   NULL|     NULL|    NULL|         0|              0|    NULL|        1|          N|      S|           NULL|           NULL|               N|               N|           10|        00000|            0|            NULL|               NULL|          NULL|                 NULL|                  NULL|     N|       0|                 NULL|               NULL|                       NULL|               NULL|         NULL|    2024-03-05|   NULL|   NULL|NULL|145233|    EMERS|      N|2006-11-01 00:25:...|  checkok |        NULL|           NULL|          2|             1|    NULL|         NULL|        S|       N|    NULL|    2025-02-10|1214613|90112429  | 145233|  1.4|2006-02-01 00:00:00|2006-02-01 00:00:00|2006-02-01 00:00:00|       0|      9|      0|    0|               NULL|         0|           0|CONSUMO TRANSF.P/...|       C|   R|               NULL|                 ...|       0|     |         0|        0|       0.4|        0|   NULL|  1|2006|       0|     0|     10|       0|         0|         0|         0|          0|          0|          0|           |                 ...|       1|        0|            0|          A|             |             |       0|         |    0|    NULL|   NULL|         0|                 ...|     NULL|     NULL|        0|          0|             NULL|    2024-04-08|   NULL|          NULL|   NULL|   NULL|\n",
      "|145233|2005-06-06 00:00:...|        J|TECHMUNDI SOFTWAR...|K & S SERVICOS TE...|      NULL|NULL|73113778620|74162769000142|1082950014     |REVENDA SW SITE  ...|NULL|   SREVE|145233|0022-03-29 00:00:...|145233|    N|     28|2015-01-27 00:00:...|CONTRATO CANCELADO  |        1|             1|         -1|  145233|            S|      N|         0|      9|         5|           N|2021-03-29 08:47:...|CMOURA  |     71.9|      NULL|      NULL|       NULL|        NULL|          S|      NULL|             0|         12|    claudia |2005-06-06 16:39:...|     NULL|   NULL|     NULL|    NULL|         0|              0|    NULL|        1|          N|      S|           NULL|           NULL|               N|               N|           10|        00000|            0|            NULL|               NULL|          NULL|                 NULL|                  NULL|     N|       0|                 NULL|               NULL|                       NULL|               NULL|         NULL|    2024-03-05|   NULL|   NULL|NULL|145233|    EMERS|      N|2006-11-01 00:25:...|  checkok |        NULL|           NULL|          2|             1|    NULL|         NULL|        S|       N|    NULL|    2025-02-10|1214613|90112429  | 145233|  1.4|2006-02-01 00:00:00|2006-02-01 00:00:00|2006-02-01 00:00:00|       0|      9|      0|    0|               NULL|         0|           0|CONSUMO TRANSF.P/...|       C|   R|               NULL|                 ...|       0|     |         0|        0|       0.4|        0|   NULL|  1|2006|       0|     0|     10|       0|         0|         0|         0|          0|          0|          0|           |                 ...|       1|        0|            0|          A|             |             |       0|         |    0|    NULL|   NULL|         0|                 ...|     NULL|     NULL|        0|          0|             NULL|    2024-04-08|   NULL|          NULL|   NULL|   NULL|\n",
      "|145233|2005-06-06 00:00:...|        J|TECHMUNDI SOFTWAR...|K & S SERVICOS TE...|      NULL|NULL|73113778620|74162769000142|1082950014     |REVENDA SW SITE  ...|NULL|   SREVE|145233|0022-03-29 00:00:...|145233|    N|     28|2015-01-27 00:00:...|CONTRATO CANCELADO  |        1|             1|         -1|  145233|            S|      N|         0|      9|         5|           N|2021-03-29 08:47:...|CMOURA  |     71.9|      NULL|      NULL|       NULL|        NULL|          S|      NULL|             0|         12|    claudia |2005-06-06 16:39:...|     NULL|   NULL|     NULL|    NULL|         0|              0|    NULL|        1|          N|      S|           NULL|           NULL|               N|               N|           10|        00000|            0|            NULL|               NULL|          NULL|                 NULL|                  NULL|     N|       0|                 NULL|               NULL|                       NULL|               NULL|         NULL|    2024-03-05|   NULL|   NULL|NULL|145233|    EMERS|      N|2006-11-01 00:25:...|  checkok |        NULL|           NULL|          2|             1|    NULL|         NULL|        S|       N|    NULL|    2025-02-10|1234458|90212867  | 145233| 2.06|2006-03-01 00:00:00|2006-03-01 00:00:00|2006-03-01 00:00:00|       0|      9|      0|    0|               NULL|         0|           0|CONSUMO TRANSF.P/...|       C|   R|               NULL|                NULL|       0| NULL|         0|        0|      0.44|        0|   NULL|  2|2006|       0|     0|     10|       1|         0|         0|         0|          0|          0|          0|       NULL|                NULL|       1|        0|            0|          A|         NULL|         NULL|       0|     NULL|    0|    NULL|   NULL|      NULL|                NULL|     NULL|     NULL|        0|          0|             NULL|    2024-04-08|   NULL|          NULL|   NULL|   NULL|\n",
      "|145233|2005-06-06 00:00:...|        J|TECHMUNDI SOFTWAR...|K & S SERVICOS TE...|      NULL|NULL|73113778620|74162769000142|1082950014     |REVENDA SW SITE  ...|NULL|   SREVE|145233|0022-03-29 00:00:...|145233|    N|     28|2015-01-27 00:00:...|CONTRATO CANCELADO  |        1|             1|         -1|  145233|            S|      N|         0|      9|         5|           N|2021-03-29 08:47:...|CMOURA  |     71.9|      NULL|      NULL|       NULL|        NULL|          S|      NULL|             0|         12|    claudia |2005-06-06 16:39:...|     NULL|   NULL|     NULL|    NULL|         0|              0|    NULL|        1|          N|      S|           NULL|           NULL|               N|               N|           10|        00000|            0|            NULL|               NULL|          NULL|                 NULL|                  NULL|     N|       0|                 NULL|               NULL|                       NULL|               NULL|         NULL|    2024-03-05|   NULL|   NULL|NULL|145233|    EMERS|      N|2006-11-01 00:25:...|  checkok |        NULL|           NULL|          2|             1|    NULL|         NULL|        S|       N|    NULL|    2025-02-10|1234458|90212867  | 145233| 2.06|2006-03-01 00:00:00|2006-03-01 00:00:00|2006-03-01 00:00:00|       0|      9|      0|    0|               NULL|         0|           0|CONSUMO TRANSF.P/...|       C|   R|               NULL|                NULL|       0| NULL|         0|        0|      0.44|        0|   NULL|  2|2006|       0|     0|     10|       1|         0|         0|         0|          0|          0|          0|       NULL|                NULL|       1|        0|            0|          A|         NULL|         NULL|       0|     NULL|    0|    NULL|   NULL|      NULL|                NULL|     NULL|     NULL|        0|          0|             NULL|    2024-04-08|   NULL|          NULL|   NULL|   NULL|\n",
      "|145233|2005-06-06 00:00:...|        J|TECHMUNDI SOFTWAR...|K & S SERVICOS TE...|      NULL|NULL|73113778620|74162769000142|1082950014     |REVENDA SW SITE  ...|NULL|   SREVE|145233|0022-03-29 00:00:...|145233|    N|     28|2015-01-27 00:00:...|CONTRATO CANCELADO  |        1|             1|         -1|  145233|            S|      N|         0|      9|         5|           N|2021-03-29 08:47:...|CMOURA  |     71.9|      NULL|      NULL|       NULL|        NULL|          S|      NULL|             0|         12|    claudia |2005-06-06 16:39:...|     NULL|   NULL|     NULL|    NULL|         0|              0|    NULL|        1|          N|      S|           NULL|           NULL|               N|               N|           10|        00000|            0|            NULL|               NULL|          NULL|                 NULL|                  NULL|     N|       0|                 NULL|               NULL|                       NULL|               NULL|         NULL|    2024-03-05|   NULL|   NULL|NULL|145233|    EMERS|      N|2006-11-01 00:25:...|  checkok |        NULL|           NULL|          2|             1|    NULL|         NULL|        S|       N|    NULL|    2025-02-10|1234458|90212867  | 145233| 2.06|2006-03-01 00:00:00|2006-03-01 00:00:00|2006-03-01 00:00:00|       0|      9|      0|    0|               NULL|         0|           0|CONSUMO TRANSF.P/...|       C|   R|               NULL|                NULL|       0| NULL|         0|        0|      0.44|        0|   NULL|  2|2006|       0|     0|     10|       1|         0|         0|         0|          0|          0|          0|       NULL|                NULL|       1|        0|            0|          A|         NULL|         NULL|       0|     NULL|    0|    NULL|   NULL|      NULL|                NULL|     NULL|     NULL|        0|          0|             NULL|    2024-04-08|   NULL|          NULL|   NULL|   NULL|\n",
      "| 16639|2000-12-17 00:00:...|        J|CAIPAM COMERCIO E...|CAIPAM COMERCIO E...|      NULL|NULL|       NULL|04180069000103|635448147114   |REVENDA          ...|NULL|    NULL| 16639|0022-03-29 00:00:...| 16639|    N|     28|2006-10-20 00:00:...|REV. DESCREDENCIADA |      513|             1|         -1|  16639 |            S|      1|         0|      9|         0|           N|2021-03-29 08:42:...|CMOURA  |     61.9|      NULL|      NULL|       NULL|        NULL|          S|      NULL|             0|         12|        NULL|                NULL|     NULL|   4982|     NULL|    NULL|         0|              0|       3|        1|          N|      S|           NULL|           NULL|               N|            NULL|         NULL|         NULL|           -1|            NULL|               NULL|          NULL|                 NULL|                  NULL|     N|       0|                 NULL|               NULL|                       NULL|               NULL|         NULL|    2024-03-05|   NULL|   NULL|NULL| 16639|    CAIPA|      N|2005-05-18 11:46:...|  MIGRA   |        NULL|           NULL|          2|             1|    NULL|         NULL|        S|       N|    NULL|    2025-02-10|1253596|90402187  |  16639|  8.5|2006-05-01 00:00:00|2006-05-23 00:00:00|2006-05-23 00:00:00|       0|      9|      0|    1|               NULL|         0|           0|                NULL|       C|   R|2008-01-30 00:00:00|AJUSTE FINANCEIRO...|       1| NULL|         1|        0|      1.68|        0|   NULL|  4|2006|       0|     0|      1|      17|         0|         0|         0|          0|          0|          0|       NULL|07               ...|       1|        0|            0|          A|         NULL|         NULL|       0|     NULL|    0|    NULL|   NULL|      NULL|00194.57282 44572...|     NULL|     NULL|       39|          0|             NULL|    2024-04-08|   NULL|          NULL|   NULL|   NULL|\n",
      "| 16639|2000-12-17 00:00:...|        J|CAIPAM COMERCIO E...|CAIPAM COMERCIO E...|      NULL|NULL|       NULL|04180069000103|635448147114   |REVENDA          ...|NULL|    NULL| 16639|0022-03-29 00:00:...| 16639|    N|     28|2006-10-20 00:00:...|REV. DESCREDENCIADA |      513|             1|         -1|  16639 |            S|      1|         0|      9|         0|           N|2021-03-29 08:42:...|CMOURA  |     61.9|      NULL|      NULL|       NULL|        NULL|          S|      NULL|             0|         12|        NULL|                NULL|     NULL|   4982|     NULL|    NULL|         0|              0|       3|        1|          N|      S|           NULL|           NULL|               N|            NULL|         NULL|         NULL|           -1|            NULL|               NULL|          NULL|                 NULL|                  NULL|     N|       0|                 NULL|               NULL|                       NULL|               NULL|         NULL|    2024-03-05|   NULL|   NULL|NULL| 16639|    CAIPA|      N|2005-05-18 11:46:...|  MIGRA   |        NULL|           NULL|          2|             1|    NULL|         NULL|        S|       N|    NULL|    2025-02-10|1253596|90402187  |  16639|  8.5|2006-05-01 00:00:00|2006-05-23 00:00:00|2006-05-23 00:00:00|       0|      9|      0|    1|               NULL|         0|           0|                NULL|       C|   R|2008-01-30 00:00:00|AJUSTE FINANCEIRO...|       1| NULL|         1|        0|      1.68|        0|   NULL|  4|2006|       0|     0|      1|      17|         0|         0|         0|          0|          0|          0|       NULL|07               ...|       1|        0|            0|          A|         NULL|         NULL|       0|     NULL|    0|    NULL|   NULL|      NULL|00194.57282 44572...|     NULL|     NULL|       39|          0|             NULL|    2024-04-08|   NULL|          NULL|   NULL|   NULL|\n",
      "| 16639|2000-12-17 00:00:...|        J|CAIPAM COMERCIO E...|CAIPAM COMERCIO E...|      NULL|NULL|       NULL|04180069000103|635448147114   |REVENDA          ...|NULL|    NULL| 16639|0022-03-29 00:00:...| 16639|    N|     28|2006-10-20 00:00:...|REV. DESCREDENCIADA |      513|             1|         -1|  16639 |            S|      1|         0|      9|         0|           N|2021-03-29 08:42:...|CMOURA  |     61.9|      NULL|      NULL|       NULL|        NULL|          S|      NULL|             0|         12|        NULL|                NULL|     NULL|   4982|     NULL|    NULL|         0|              0|       3|        1|          N|      S|           NULL|           NULL|               N|            NULL|         NULL|         NULL|           -1|            NULL|               NULL|          NULL|                 NULL|                  NULL|     N|       0|                 NULL|               NULL|                       NULL|               NULL|         NULL|    2024-03-05|   NULL|   NULL|NULL| 16639|    CAIPA|      N|2005-05-18 11:46:...|  MIGRA   |        NULL|           NULL|          2|             1|    NULL|         NULL|        S|       N|    NULL|    2025-02-10|1253596|90402187  |  16639|  8.5|2006-05-01 00:00:00|2006-05-23 00:00:00|2006-05-23 00:00:00|       0|      9|      0|    1|               NULL|         0|           0|                NULL|       C|   R|2008-01-30 00:00:00|AJUSTE FINANCEIRO...|       1| NULL|         1|        0|      1.68|        0|   NULL|  4|2006|       0|     0|      1|      17|         0|         0|         0|          0|          0|          0|       NULL|07               ...|       1|        0|            0|          A|         NULL|         NULL|       0|     NULL|    0|    NULL|   NULL|      NULL|00194.57282 44572...|     NULL|     NULL|       39|          0|             NULL|    2024-04-08|   NULL|          NULL|   NULL|   NULL|\n",
      "| 16639|2000-12-17 00:00:...|        J|CAIPAM COMERCIO E...|CAIPAM COMERCIO E...|      NULL|NULL|       NULL|04180069000103|635448147114   |REVENDA          ...|NULL|    NULL| 16639|0022-03-29 00:00:...| 16639|    N|     28|2006-10-20 00:00:...|REV. DESCREDENCIADA |      513|             1|         -1|  16639 |            S|      1|         0|      9|         0|           N|2021-03-29 08:42:...|CMOURA  |     61.9|      NULL|      NULL|       NULL|        NULL|          S|      NULL|             0|         12|        NULL|                NULL|     NULL|   4982|     NULL|    NULL|         0|              0|       3|        1|          N|      S|           NULL|           NULL|               N|            NULL|         NULL|         NULL|           -1|            NULL|               NULL|          NULL|                 NULL|                  NULL|     N|       0|                 NULL|               NULL|                       NULL|               NULL|         NULL|    2024-03-05|   NULL|   NULL|NULL| 16639|    CAIPA|      N|2005-05-18 11:46:...|  MIGRA   |        NULL|           NULL|          2|             1|    NULL|         NULL|        S|       N|    NULL|    2025-02-10|1339660|91002071  |  16639|154.8|2006-11-01 00:00:00|2006-11-23 00:00:00|2006-11-23 00:00:00|       0|      9|      0|  341|               NULL|         0|           0|Aceite no  Arq. C...|       C|   R|2008-01-30 00:00:00|AJUSTE FINANCEIRO...|       0| NULL|         1|        9|     10.08|        0|   NULL| 10|2006|       0|     0|     23|      70|         0|         0|         0|         15|          0|          0|       NULL|                NULL|       1|        0|            0|          A|         NULL|81060244     |     112|     NULL|    0|    NULL|   NULL|      NULL|                NULL|112231106|112231106|       39|          0|             NULL|    2024-04-08|   NULL|          NULL|   NULL|   NULL|\n",
      "| 16639|2000-12-17 00:00:...|        J|CAIPAM COMERCIO E...|CAIPAM COMERCIO E...|      NULL|NULL|       NULL|04180069000103|635448147114   |REVENDA          ...|NULL|    NULL| 16639|0022-03-29 00:00:...| 16639|    N|     28|2006-10-20 00:00:...|REV. DESCREDENCIADA |      513|             1|         -1|  16639 |            S|      1|         0|      9|         0|           N|2021-03-29 08:42:...|CMOURA  |     61.9|      NULL|      NULL|       NULL|        NULL|          S|      NULL|             0|         12|        NULL|                NULL|     NULL|   4982|     NULL|    NULL|         0|              0|       3|        1|          N|      S|           NULL|           NULL|               N|            NULL|         NULL|         NULL|           -1|            NULL|               NULL|          NULL|                 NULL|                  NULL|     N|       0|                 NULL|               NULL|                       NULL|               NULL|         NULL|    2024-03-05|   NULL|   NULL|NULL| 16639|    CAIPA|      N|2005-05-18 11:46:...|  MIGRA   |        NULL|           NULL|          2|             1|    NULL|         NULL|        S|       N|    NULL|    2025-02-10|1339660|91002071  |  16639|154.8|2006-11-01 00:00:00|2006-11-23 00:00:00|2006-11-23 00:00:00|       0|      9|      0|  341|               NULL|         0|           0|Aceite no  Arq. C...|       C|   R|2008-01-30 00:00:00|AJUSTE FINANCEIRO...|       0| NULL|         1|        9|     10.08|        0|   NULL| 10|2006|       0|     0|     23|      70|         0|         0|         0|         15|          0|          0|       NULL|                NULL|       1|        0|            0|          A|         NULL|81060244     |     112|     NULL|    0|    NULL|   NULL|      NULL|                NULL|112231106|112231106|       39|          0|             NULL|    2024-04-08|   NULL|          NULL|   NULL|   NULL|\n",
      "| 16639|2000-12-17 00:00:...|        J|CAIPAM COMERCIO E...|CAIPAM COMERCIO E...|      NULL|NULL|       NULL|04180069000103|635448147114   |REVENDA          ...|NULL|    NULL| 16639|0022-03-29 00:00:...| 16639|    N|     28|2006-10-20 00:00:...|REV. DESCREDENCIADA |      513|             1|         -1|  16639 |            S|      1|         0|      9|         0|           N|2021-03-29 08:42:...|CMOURA  |     61.9|      NULL|      NULL|       NULL|        NULL|          S|      NULL|             0|         12|        NULL|                NULL|     NULL|   4982|     NULL|    NULL|         0|              0|       3|        1|          N|      S|           NULL|           NULL|               N|            NULL|         NULL|         NULL|           -1|            NULL|               NULL|          NULL|                 NULL|                  NULL|     N|       0|                 NULL|               NULL|                       NULL|               NULL|         NULL|    2024-03-05|   NULL|   NULL|NULL| 16639|    CAIPA|      N|2005-05-18 11:46:...|  MIGRA   |        NULL|           NULL|          2|             1|    NULL|         NULL|        S|       N|    NULL|    2025-02-10|1339660|91002071  |  16639|154.8|2006-11-01 00:00:00|2006-11-23 00:00:00|2006-11-23 00:00:00|       0|      9|      0|  341|               NULL|         0|           0|Aceite no  Arq. C...|       C|   R|2008-01-30 00:00:00|AJUSTE FINANCEIRO...|       0| NULL|         1|        9|     10.08|        0|   NULL| 10|2006|       0|     0|     23|      70|         0|         0|         0|         15|          0|          0|       NULL|                NULL|       1|        0|            0|          A|         NULL|81060244     |     112|     NULL|    0|    NULL|   NULL|      NULL|                NULL|112231106|112231106|       39|          0|             NULL|    2024-04-08|   NULL|          NULL|   NULL|   NULL|\n",
      "| 16639|2000-12-17 00:00:...|        J|CAIPAM COMERCIO E...|CAIPAM COMERCIO E...|      NULL|NULL|       NULL|04180069000103|635448147114   |REVENDA          ...|NULL|    NULL| 16639|0022-03-29 00:00:...| 16639|    N|     28|2006-10-20 00:00:...|REV. DESCREDENCIADA |      513|             1|         -1|  16639 |            S|      1|         0|      9|         0|           N|2021-03-29 08:42:...|CMOURA  |     61.9|      NULL|      NULL|       NULL|        NULL|          S|      NULL|             0|         12|        NULL|                NULL|     NULL|   4982|     NULL|    NULL|         0|              0|       3|        1|          N|      S|           NULL|           NULL|               N|            NULL|         NULL|         NULL|           -1|            NULL|               NULL|          NULL|                 NULL|                  NULL|     N|       0|                 NULL|               NULL|                       NULL|               NULL|         NULL|    2024-03-05|   NULL|   NULL|NULL| 16639|    CAIPA|      N|2005-05-18 11:46:...|  MIGRA   |        NULL|           NULL|          2|             1|    NULL|         NULL|        S|       N|    NULL|    2025-02-10|1310631|90802111  |  16639|88.95|2006-09-01 00:00:00|2006-09-23 00:00:00|2006-09-23 00:00:00|       0|      9|      0|  341|               NULL|         0|           0|                NULL|       C|   R|2008-01-30 00:00:00|AJUSTE FINANCEIRO...|      20| NULL|        36|        0|      12.4|        0|   NULL|  8|2006|       0|     0|     48|      50|         0|         0|         0|          4|          0|          0|       NULL|ENVIADO PARA FAST...|       1|        0|            0|          A|         NULL|         NULL|     175|     NULL|    0|    NULL|   NULL|      NULL|34191.75900 80211...|     1013|      724|       11|          0|             NULL|    2024-04-08|   NULL|          NULL|   NULL|   NULL|\n",
      "| 16639|2000-12-17 00:00:...|        J|CAIPAM COMERCIO E...|CAIPAM COMERCIO E...|      NULL|NULL|       NULL|04180069000103|635448147114   |REVENDA          ...|NULL|    NULL| 16639|0022-03-29 00:00:...| 16639|    N|     28|2006-10-20 00:00:...|REV. DESCREDENCIADA |      513|             1|         -1|  16639 |            S|      1|         0|      9|         0|           N|2021-03-29 08:42:...|CMOURA  |     61.9|      NULL|      NULL|       NULL|        NULL|          S|      NULL|             0|         12|        NULL|                NULL|     NULL|   4982|     NULL|    NULL|         0|              0|       3|        1|          N|      S|           NULL|           NULL|               N|            NULL|         NULL|         NULL|           -1|            NULL|               NULL|          NULL|                 NULL|                  NULL|     N|       0|                 NULL|               NULL|                       NULL|               NULL|         NULL|    2024-03-05|   NULL|   NULL|NULL| 16639|    CAIPA|      N|2005-05-18 11:46:...|  MIGRA   |        NULL|           NULL|          2|             1|    NULL|         NULL|        S|       N|    NULL|    2025-02-10|1310631|90802111  |  16639|88.95|2006-09-01 00:00:00|2006-09-23 00:00:00|2006-09-23 00:00:00|       0|      9|      0|  341|               NULL|         0|           0|                NULL|       C|   R|2008-01-30 00:00:00|AJUSTE FINANCEIRO...|      20| NULL|        36|        0|      12.4|        0|   NULL|  8|2006|       0|     0|     48|      50|         0|         0|         0|          4|          0|          0|       NULL|ENVIADO PARA FAST...|       1|        0|            0|          A|         NULL|         NULL|     175|     NULL|    0|    NULL|   NULL|      NULL|34191.75900 80211...|     1013|      724|       11|          0|             NULL|    2024-04-08|   NULL|          NULL|   NULL|   NULL|\n",
      "| 16639|2000-12-17 00:00:...|        J|CAIPAM COMERCIO E...|CAIPAM COMERCIO E...|      NULL|NULL|       NULL|04180069000103|635448147114   |REVENDA          ...|NULL|    NULL| 16639|0022-03-29 00:00:...| 16639|    N|     28|2006-10-20 00:00:...|REV. DESCREDENCIADA |      513|             1|         -1|  16639 |            S|      1|         0|      9|         0|           N|2021-03-29 08:42:...|CMOURA  |     61.9|      NULL|      NULL|       NULL|        NULL|          S|      NULL|             0|         12|        NULL|                NULL|     NULL|   4982|     NULL|    NULL|         0|              0|       3|        1|          N|      S|           NULL|           NULL|               N|            NULL|         NULL|         NULL|           -1|            NULL|               NULL|          NULL|                 NULL|                  NULL|     N|       0|                 NULL|               NULL|                       NULL|               NULL|         NULL|    2024-03-05|   NULL|   NULL|NULL| 16639|    CAIPA|      N|2005-05-18 11:46:...|  MIGRA   |        NULL|           NULL|          2|             1|    NULL|         NULL|        S|       N|    NULL|    2025-02-10|1310631|90802111  |  16639|88.95|2006-09-01 00:00:00|2006-09-23 00:00:00|2006-09-23 00:00:00|       0|      9|      0|  341|               NULL|         0|           0|                NULL|       C|   R|2008-01-30 00:00:00|AJUSTE FINANCEIRO...|      20| NULL|        36|        0|      12.4|        0|   NULL|  8|2006|       0|     0|     48|      50|         0|         0|         0|          4|          0|          0|       NULL|ENVIADO PARA FAST...|       1|        0|            0|          A|         NULL|         NULL|     175|     NULL|    0|    NULL|   NULL|      NULL|34191.75900 80211...|     1013|      724|       11|          0|             NULL|    2024-04-08|   NULL|          NULL|   NULL|   NULL|\n",
      "| 16639|2000-12-17 00:00:...|        J|CAIPAM COMERCIO E...|CAIPAM COMERCIO E...|      NULL|NULL|       NULL|04180069000103|635448147114   |REVENDA          ...|NULL|    NULL| 16639|0022-03-29 00:00:...| 16639|    N|     28|2006-10-20 00:00:...|REV. DESCREDENCIADA |      513|             1|         -1|  16639 |            S|      1|         0|      9|         0|           N|2021-03-29 08:42:...|CMOURA  |     61.9|      NULL|      NULL|       NULL|        NULL|          S|      NULL|             0|         12|        NULL|                NULL|     NULL|   4982|     NULL|    NULL|         0|              0|       3|        1|          N|      S|           NULL|           NULL|               N|            NULL|         NULL|         NULL|           -1|            NULL|               NULL|          NULL|                 NULL|                  NULL|     N|       0|                 NULL|               NULL|                       NULL|               NULL|         NULL|    2024-03-05|   NULL|   NULL|NULL| 16639|    CAIPA|      N|2005-05-18 11:46:...|  MIGRA   |        NULL|           NULL|          2|             1|    NULL|         NULL|        S|       N|    NULL|    2025-02-10|1296157|90702139  |  16639|63.69|2006-08-01 00:00:00|2006-09-05 00:00:00|               NULL|       0|      9|      0|  341|2006-10-26 00:00:00|     63.69|           0|                NULL|       B|   R|               NULL|                NULL|       0| NULL|         3|        0|      3.96|        0|   NULL|  7|2006|       0|     0|     12|      44|         0|         0|         0|          4|          0|          0|       NULL|                NULL|       1|     NULL|         NULL|          A|            N|         NULL|     112|     NULL|    0|     341|   NULL|      NULL|                NULL|     1003|     NULL|       38|          0|             NULL|    2024-04-08|   NULL|          NULL|   NULL|   NULL|\n",
      "| 16639|2000-12-17 00:00:...|        J|CAIPAM COMERCIO E...|CAIPAM COMERCIO E...|      NULL|NULL|       NULL|04180069000103|635448147114   |REVENDA          ...|NULL|    NULL| 16639|0022-03-29 00:00:...| 16639|    N|     28|2006-10-20 00:00:...|REV. DESCREDENCIADA |      513|             1|         -1|  16639 |            S|      1|         0|      9|         0|           N|2021-03-29 08:42:...|CMOURA  |     61.9|      NULL|      NULL|       NULL|        NULL|          S|      NULL|             0|         12|        NULL|                NULL|     NULL|   4982|     NULL|    NULL|         0|              0|       3|        1|          N|      S|           NULL|           NULL|               N|            NULL|         NULL|         NULL|           -1|            NULL|               NULL|          NULL|                 NULL|                  NULL|     N|       0|                 NULL|               NULL|                       NULL|               NULL|         NULL|    2024-03-05|   NULL|   NULL|NULL| 16639|    CAIPA|      N|2005-05-18 11:46:...|  MIGRA   |        NULL|           NULL|          2|             1|    NULL|         NULL|        S|       N|    NULL|    2025-02-10|1296157|90702139  |  16639|63.69|2006-08-01 00:00:00|2006-09-05 00:00:00|               NULL|       0|      9|      0|  341|2006-10-26 00:00:00|     63.69|           0|                NULL|       B|   R|               NULL|                NULL|       0| NULL|         3|        0|      3.96|        0|   NULL|  7|2006|       0|     0|     12|      44|         0|         0|         0|          4|          0|          0|       NULL|                NULL|       1|     NULL|         NULL|          A|            N|         NULL|     112|     NULL|    0|     341|   NULL|      NULL|                NULL|     1003|     NULL|       38|          0|             NULL|    2024-04-08|   NULL|          NULL|   NULL|   NULL|\n",
      "| 16639|2000-12-17 00:00:...|        J|CAIPAM COMERCIO E...|CAIPAM COMERCIO E...|      NULL|NULL|       NULL|04180069000103|635448147114   |REVENDA          ...|NULL|    NULL| 16639|0022-03-29 00:00:...| 16639|    N|     28|2006-10-20 00:00:...|REV. DESCREDENCIADA |      513|             1|         -1|  16639 |            S|      1|         0|      9|         0|           N|2021-03-29 08:42:...|CMOURA  |     61.9|      NULL|      NULL|       NULL|        NULL|          S|      NULL|             0|         12|        NULL|                NULL|     NULL|   4982|     NULL|    NULL|         0|              0|       3|        1|          N|      S|           NULL|           NULL|               N|            NULL|         NULL|         NULL|           -1|            NULL|               NULL|          NULL|                 NULL|                  NULL|     N|       0|                 NULL|               NULL|                       NULL|               NULL|         NULL|    2024-03-05|   NULL|   NULL|NULL| 16639|    CAIPA|      N|2005-05-18 11:46:...|  MIGRA   |        NULL|           NULL|          2|             1|    NULL|         NULL|        S|       N|    NULL|    2025-02-10|1296157|90702139  |  16639|63.69|2006-08-01 00:00:00|2006-09-05 00:00:00|               NULL|       0|      9|      0|  341|2006-10-26 00:00:00|     63.69|           0|                NULL|       B|   R|               NULL|                NULL|       0| NULL|         3|        0|      3.96|        0|   NULL|  7|2006|       0|     0|     12|      44|         0|         0|         0|          4|          0|          0|       NULL|                NULL|       1|     NULL|         NULL|          A|            N|         NULL|     112|     NULL|    0|     341|   NULL|      NULL|                NULL|     1003|     NULL|       38|          0|             NULL|    2024-04-08|   NULL|          NULL|   NULL|   NULL|\n",
      "| 16639|2000-12-17 00:00:...|        J|CAIPAM COMERCIO E...|CAIPAM COMERCIO E...|      NULL|NULL|       NULL|04180069000103|635448147114   |REVENDA          ...|NULL|    NULL| 16639|0022-03-29 00:00:...| 16639|    N|     28|2006-10-20 00:00:...|REV. DESCREDENCIADA |      513|             1|         -1|  16639 |            S|      1|         0|      9|         0|           N|2021-03-29 08:42:...|CMOURA  |     61.9|      NULL|      NULL|       NULL|        NULL|          S|      NULL|             0|         12|        NULL|                NULL|     NULL|   4982|     NULL|    NULL|         0|              0|       3|        1|          N|      S|           NULL|           NULL|               N|            NULL|         NULL|         NULL|           -1|            NULL|               NULL|          NULL|                 NULL|                  NULL|     N|       0|                 NULL|               NULL|                       NULL|               NULL|         NULL|    2024-03-05|   NULL|   NULL|NULL| 16639|    CAIPA|      N|2005-05-18 11:46:...|  MIGRA   |        NULL|           NULL|          2|             1|    NULL|         NULL|        S|       N|    NULL|    2025-02-10|1225897|90204306  |  16639|29.68|2006-03-01 00:00:00|2006-03-27 00:00:00|2006-03-27 00:00:00|       0|      9|      0|  341|               NULL|         0|           0|                NULL|       C|   R|2008-01-30 00:00:00|AJUSTE FINANCEIRO...|      20| NULL|         0|        0|         1|        0|   NULL|  2|2006|       0|     0|      1|      10|         0|         0|         0|          2|          0|          0|       NULL|ENVIADO PARA FAST...|       1|     NULL|         NULL|          A|            N|         NULL|       0|     NULL|    0|       0|   NULL|      NULL|34191.09909 20430...|     NULL|      777|       39|          0|             NULL|    2024-04-08|   NULL|          NULL|   NULL|   NULL|\n",
      "| 16639|2000-12-17 00:00:...|        J|CAIPAM COMERCIO E...|CAIPAM COMERCIO E...|      NULL|NULL|       NULL|04180069000103|635448147114   |REVENDA          ...|NULL|    NULL| 16639|0022-03-29 00:00:...| 16639|    N|     28|2006-10-20 00:00:...|REV. DESCREDENCIADA |      513|             1|         -1|  16639 |            S|      1|         0|      9|         0|           N|2021-03-29 08:42:...|CMOURA  |     61.9|      NULL|      NULL|       NULL|        NULL|          S|      NULL|             0|         12|        NULL|                NULL|     NULL|   4982|     NULL|    NULL|         0|              0|       3|        1|          N|      S|           NULL|           NULL|               N|            NULL|         NULL|         NULL|           -1|            NULL|               NULL|          NULL|                 NULL|                  NULL|     N|       0|                 NULL|               NULL|                       NULL|               NULL|         NULL|    2024-03-05|   NULL|   NULL|NULL| 16639|    CAIPA|      N|2005-05-18 11:46:...|  MIGRA   |        NULL|           NULL|          2|             1|    NULL|         NULL|        S|       N|    NULL|    2025-02-10|1225897|90204306  |  16639|29.68|2006-03-01 00:00:00|2006-03-27 00:00:00|2006-03-27 00:00:00|       0|      9|      0|  341|               NULL|         0|           0|                NULL|       C|   R|2008-01-30 00:00:00|AJUSTE FINANCEIRO...|      20| NULL|         0|        0|         1|        0|   NULL|  2|2006|       0|     0|      1|      10|         0|         0|         0|          2|          0|          0|       NULL|ENVIADO PARA FAST...|       1|     NULL|         NULL|          A|            N|         NULL|       0|     NULL|    0|       0|   NULL|      NULL|34191.09909 20430...|     NULL|      777|       39|          0|             NULL|    2024-04-08|   NULL|          NULL|   NULL|   NULL|\n",
      "+------+--------------------+---------+--------------------+--------------------+----------+----+-----------+--------------+---------------+--------------------+----+--------+------+--------------------+------+-----+-------+--------------------+--------------------+---------+--------------+-----------+--------+-------------+-------+----------+-------+----------+------------+--------------------+--------+---------+----------+----------+-----------+------------+-----------+----------+--------------+-----------+------------+--------------------+---------+-------+---------+--------+----------+---------------+--------+---------+-----------+-------+---------------+---------------+----------------+----------------+-------------+-------------+-------------+----------------+-------------------+--------------+---------------------+----------------------+------+--------+---------------------+-------------------+---------------------------+-------------------+-------------+--------------+-------+-------+----+------+---------+-------+--------------------+----------+------------+---------------+-----------+--------------+--------+-------------+---------+--------+--------+--------------+-------+----------+-------+-----+-------------------+-------------------+-------------------+--------+-------+-------+-----+-------------------+----------+------------+--------------------+--------+----+-------------------+--------------------+--------+-----+----------+---------+----------+---------+-------+---+----+--------+------+-------+--------+----------+----------+----------+-----------+-----------+-----------+-----------+--------------------+--------+---------+-------------+-----------+-------------+-------------+--------+---------+-----+--------+-------+----------+--------------------+---------+---------+---------+-----------+-----------------+--------------+-------+--------------+-------+-------+\n",
      "only showing top 20 rows\n",
      "\n"
     ]
    }
   ],
   "source": [
    "sdf_final_z.show()"
   ]
  },
  {
   "cell_type": "code",
   "execution_count": 5,
   "metadata": {},
   "outputs": [],
   "source": [
    "query=  \"\"\"WITH \n",
    "clientes AS \n",
    "(\n",
    "    SELECT \n",
    "          COUNT(1)              AS contratos\n",
    "        , cgcmf                 AS documento\n",
    "        , MIN(data_cad)         AS data_inicio\n",
    "        , MAX(bloqueio)         AS data_final\n",
    "    FROM \n",
    "    (\n",
    "        SELECT DISTINCT\n",
    "            matriz, codigo, fis_jurid, cgcmf, raz_social, max_conexao, bloqueio,\n",
    "            sit_cliente, data_cad, vendedor, vlrfatmin, vlr_dispacesso, receita\n",
    "        FROM \n",
    "            prd.dl_redeok_checkok.tb_cliente cli\n",
    "        WHERE \n",
    "            cli.sit_cliente IN ('A', 'F', 'N', 'P', 'D')\n",
    "            AND (cli.matriz = cli.codigo OR falsa = 's')\n",
    "            AND cli.receita IN (9, 10, 46, 58)\n",
    "            AND cli.cgcmf IS NOT NULL\n",
    "            AND cli.cgcmf != '23236392000198'\n",
    "            AND LENGTH(TRIM(cli.cgcmf)) = 14\n",
    "            AND cli.cgcmf RLIKE '^[0-9]+$'\n",
    "            AND NOT EXISTS \n",
    "            (\n",
    "                SELECT 1 \n",
    "                FROM prd.dl_redeok_checkok.tb_revenda rev \n",
    "                WHERE cli.codigo = rev.codigo\n",
    "            )\n",
    "    ) \n",
    "    GROUP BY cgcmf\n",
    "),\n",
    "titulo_cobranca AS \n",
    "(\n",
    "    SELECT \n",
    "          documento         AS documento\n",
    "        , COUNT(meses)      AS faturas\n",
    "    FROM \n",
    "    (\n",
    "        SELECT DISTINCT\n",
    "            cli.cgcmf                           AS documento\n",
    "            , DATE_TRUNC('month', rec.emissao)  AS meses\n",
    "        FROM \n",
    "            prd.dl_redeok_checkok.vw_receber rec\n",
    "        INNER JOIN prd.dl_redeok_checkok.tb_cliente cli \n",
    "            ON cli.codigo = rec.cliente\n",
    "        WHERE \n",
    "            rec.situacao IN ('A', 'B')\n",
    "            AND NOT EXISTS \n",
    "            (\n",
    "                SELECT 1 \n",
    "                FROM prd.dl_redeok_checkok.tb_revenda rev \n",
    "                WHERE rev.codigo = rec.cliente\n",
    "            )\n",
    "            AND cli.sit_cliente IN ('A', 'F', 'N', 'P', 'D')\n",
    "            AND (cli.matriz = cli.codigo OR falsa = 's')\n",
    "            AND cli.receita IN (9, 10, 46, 58)\n",
    "            AND cli.cgcmf IS NOT NULL\n",
    "            AND cli.cgcmf != '23236392000198'\n",
    "            AND LENGTH(TRIM(cli.cgcmf)) = 14    \n",
    "            AND cli.cgcmf RLIKE '^[0-9]+$'\n",
    "    ) \n",
    "    GROUP BY \n",
    "        documento\n",
    "),\n",
    "ultimo_boleto AS \n",
    "(\n",
    "    SELECT \n",
    "        cli.cgcmf AS documento,\n",
    "        MAX(rec.emissao) AS ultima_emissao\n",
    "    FROM \n",
    "        prd.dl_redeok_checkok.vw_receber rec\n",
    "    INNER JOIN prd.dl_redeok_checkok.tb_cliente cli \n",
    "        ON cli.codigo = rec.cliente\n",
    "    WHERE \n",
    "        rec.situacao IN ('A', 'B')\n",
    "        AND NOT EXISTS \n",
    "        (\n",
    "            SELECT 1 \n",
    "            FROM prd.dl_redeok_checkok.tb_revenda rev \n",
    "            WHERE rev.codigo = rec.cliente\n",
    "        )\n",
    "        AND cli.sit_cliente IN ('A', 'F', 'N', 'P', 'D')\n",
    "        AND (cli.matriz = cli.codigo OR falsa = 's')\n",
    "        AND cli.receita IN (9, 10, 46, 58)\n",
    "        AND cli.cgcmf IS NOT NULL\n",
    "        AND cli.cgcmf != '23236392000198'\n",
    "        AND LENGTH(TRIM(cli.cgcmf)) = 14    \n",
    "        AND cli.cgcmf RLIKE '^[0-9]+$'\n",
    "    GROUP BY cli.cgcmf\n",
    ")\n",
    "SELECT \n",
    "      cli.contratos\n",
    "    , cli.documento\n",
    "    , cli.data_inicio\n",
    "    , cli.data_final\n",
    "    , CASE \n",
    "          WHEN cli.data_final IS NULL THEN NULL\n",
    "          ELSE ult.ultima_emissao\n",
    "      END AS data_ultimo_boleto\n",
    "      , tit.faturas\n",
    "    , ROUND(MONTHS_BETWEEN(COALESCE(cli.data_final, CURRENT_DATE()), cli.data_inicio)) AS meses_contrato \n",
    "FROM \n",
    "    clientes cli\n",
    "INNER JOIN titulo_cobranca tit \n",
    "    ON cli.documento = tit.documento\n",
    "LEFT JOIN ultimo_boleto ult\n",
    "    ON cli.documento = ult.documento;\n",
    "\n",
    "\n",
    "\n",
    "\"\"\"\n",
    "\n",
    "\n",
    "# Executando a consulta e obtendo os dados em um DataFrame Spark\n",
    "sdf_final= spark.sql(query)\n"
   ]
  },
  {
   "cell_type": "code",
   "execution_count": 13,
   "metadata": {},
   "outputs": [],
   "source": [
    "query_1=  \"\"\"WITH clientes AS \n",
    "(\n",
    "    SELECT \n",
    "          COUNT(1)              AS contratos\n",
    "        , cgcmf                 AS documento\n",
    "        , MIN(data_cad)         AS data_inicio\n",
    "        , MAX(bloqueio)         AS data_final\n",
    "    FROM \n",
    "    (\n",
    "        SELECT DISTINCT\n",
    "            matriz, codigo, fis_jurid, cgcmf, raz_social, max_conexao, bloqueio,\n",
    "            sit_cliente, data_cad, vendedor, vlrfatmin, vlr_dispacesso, receita\n",
    "        FROM \n",
    "            prd.dl_redeok_checkok.tb_cliente cli\n",
    "        WHERE \n",
    "            cli.sit_cliente IN ('A', 'F', 'N', 'P', 'D')\n",
    "            AND (cli.matriz = cli.codigo OR falsa = 's')\n",
    "            AND cli.receita IN (9, 10, 46, 58)\n",
    "            AND cli.cgcmf IS NOT NULL\n",
    "            AND cli.cgcmf != '23236392000198'\n",
    "            AND LENGTH(TRIM(cli.cgcmf)) = 14\n",
    "            AND cli.cgcmf RLIKE '^[0-9]+$'\n",
    "            AND NOT EXISTS \n",
    "            (\n",
    "                SELECT 1 \n",
    "                FROM prd.dl_redeok_checkok.tb_revenda rev \n",
    "                WHERE cli.codigo = rev.codigo\n",
    "            )\n",
    "    ) \n",
    "    GROUP BY cgcmf\n",
    "),\n",
    "titulo_cobranca AS \n",
    "(\n",
    "    SELECT \n",
    "          documento         AS documento\n",
    "        , COUNT(meses)      AS faturas\n",
    "    FROM \n",
    "    (\n",
    "        SELECT DISTINCT\n",
    "            cli.cgcmf                           AS documento\n",
    "            , DATE_TRUNC('month', rec.emissao)  AS meses\n",
    "        FROM \n",
    "            prd.dl_redeok_checkok.vw_receber rec\n",
    "        INNER JOIN prd.dl_redeok_checkok.tb_cliente cli \n",
    "            ON cli.codigo = rec.cliente\n",
    "        WHERE \n",
    "            rec.situacao IN ('A', 'B')\n",
    "            AND NOT EXISTS \n",
    "            (\n",
    "                SELECT 1 \n",
    "                FROM prd.dl_redeok_checkok.tb_revenda rev \n",
    "                WHERE rev.codigo = rec.cliente\n",
    "            )\n",
    "            AND cli.sit_cliente IN ('A', 'F', 'N', 'P', 'D')\n",
    "            AND (cli.matriz = cli.codigo OR falsa = 's')\n",
    "            AND cli.receita IN (9, 10, 46, 58)\n",
    "            AND cli.cgcmf IS NOT NULL\n",
    "            AND cli.cgcmf != '23236392000198'\n",
    "            AND LENGTH(TRIM(cli.cgcmf)) = 14    \n",
    "            AND cli.cgcmf RLIKE '^[0-9]+$'\n",
    "    ) \n",
    "    GROUP BY \n",
    "        documento\n",
    "),\n",
    "ultimo_boleto AS \n",
    "(\n",
    "    SELECT \n",
    "        cli.cgcmf AS documento,\n",
    "        MAX(rec.emissao) AS ultima_emissao\n",
    "    FROM \n",
    "        prd.dl_redeok_checkok.vw_receber rec\n",
    "    INNER JOIN prd.dl_redeok_checkok.tb_cliente cli \n",
    "        ON cli.codigo = rec.cliente\n",
    "    WHERE \n",
    "        rec.situacao IN ('A', 'B')\n",
    "        AND NOT EXISTS \n",
    "        (\n",
    "            SELECT 1 \n",
    "            FROM prd.dl_redeok_checkok.tb_revenda rev \n",
    "            WHERE rev.codigo = rec.cliente\n",
    "        )\n",
    "        AND cli.sit_cliente IN ('A', 'F', 'N', 'P', 'D')\n",
    "        AND (cli.matriz = cli.codigo OR falsa = 's')\n",
    "        AND cli.receita IN (9, 10, 46, 58)\n",
    "        AND cli.cgcmf IS NOT NULL\n",
    "        AND cli.cgcmf != '23236392000198'\n",
    "        AND LENGTH(TRIM(cli.cgcmf)) = 14    \n",
    "        AND cli.cgcmf RLIKE '^[0-9]+$'\n",
    "    GROUP BY cli.cgcmf\n",
    "    HAVING MAX(rec.emissao) IS NOT NULL  -- Garante que há boletos válidos\n",
    ")\n",
    "SELECT \n",
    "      cli.contratos\n",
    "    , cli.documento\n",
    "    , cli.data_inicio\n",
    "    , cli.data_final\n",
    "    , COALESCE(ult.ultima_emissao, NULL) AS data_ultimo_boleto -- Simplificação\n",
    "    , tit.faturas\n",
    "    , ROUND(MONTHS_BETWEEN(COALESCE(cli.data_final, CURRENT_DATE()), cli.data_inicio)) AS meses_contrato \n",
    "FROM \n",
    "    clientes cli\n",
    "INNER JOIN titulo_cobranca tit \n",
    "    ON cli.documento = tit.documento\n",
    "LEFT JOIN ultimo_boleto ult\n",
    "    ON cli.documento = ult.documento;\n",
    "\n",
    "\n",
    "\n",
    "\n",
    "\"\"\"\n",
    "\n",
    "\n",
    "# Executando a consulta e obtendo os dados em um DataFrame Spark\n",
    "sdf_final_1= spark.sql(query_1)\n"
   ]
  },
  {
   "cell_type": "code",
   "execution_count": null,
   "metadata": {},
   "outputs": [],
   "source": [
    "from pyspark.sql.functions import col\n",
    "\n",
    "sdf_final_1 = sdf_final_1.orderBy(col(\"contratos\").desc())\n",
    "sdf_final_1.show(10000000)\n",
    "sdf_final_1.count()\n"
   ]
  },
  {
   "cell_type": "code",
   "execution_count": 21,
   "metadata": {},
   "outputs": [
    {
     "name": "stdout",
     "output_type": "stream",
     "text": [
      "+------+--------+---------+----+----------+----------+---+---+-----+---------+----------+----+--------+-----+----------+------+-----+-------+--------+------------+---------+--------------+-----------+--------+-------------+-------+----------+-------+----------+------------+--------+--------+---------+----------+----------+-----------+------------+-----------+----------+--------------+-----------+------------+--------+---------+-------+---------+--------+----------+---------------+--------+---------+-----------+-------+---------------+---------------+----------------+----------------+-------------+-------------+-------------+----------------+-------------------+--------------+---------------------+----------------------+------+--------+---------------------+-------------------+---------------------------+-------------------+-------------+--------------+-------+-------+----+------+---------+-------+----------+----------+------------+---------------+-----------+--------------+--------+-------------+---------+--------+--------+--------------+------+------+-------+-----+-------+----------+---------+--------+-------+-------+-----+----------+----------+------------+----------+--------+----+------------+----------------+--------+-----+----------+---------+----------+---------+-------+---+---+--------+------+-------+--------+----------+----------+----------+-----------+-----------+-----------+-----------+---------+--------+---------+-------------+-----------+-------------+-----------+--------+---------+-----+--------+-------+----------+---------+---------+-------+---------+-----------+-----------------+--------------+-------+--------------+-------+-------+\n",
      "|codigo|data_cad|fis_jurid|nome|raz_social|nascimento| rg|cpf|cgcmf|inscricao|observacao|tipo|vendedor|senha|data_senha|matriz|falsa|diavenc|bloqueio|mot_bloqueio|atividade|max_simultaneo|max_conexao|cod_alfa|gerarcobranca|extrato|localidade|receita|bloq_autom|canal_renpac|data_alt|username|vlrfatmin|qtd_cheque|qtd_concen|incr_vencto|distribuidor|vlrcobranca|cod_antigo|vlr_dispacesso|przvigencia|username_inc|data_inc|nfentrada|nfsaida|nfrevenda|nfconsig|periferico|tipo_periferico|segmento|cod_plano|sit_cliente|corresp|dta_ult_verific|usr_ult_verific|ind_cli_indicado|ind_fac_original|tip_documento|num_documento|sta_ctrl_oper|sit_termo_adesao|nom_razsoc_completa|cd_orgaoclasse|ds_orgaoclasse_numero|dt_orgaoclasse_emissao|st_nfe|vl_dscob|ds_orgaoclasse_outros|dt_validacao_adesao|nm_usuario_validacao_adesao|ds_termo_observacao|cd_tributacao|date_partition|dta_log|num_seq|rnum|CODIGO|DESCRICAO|REPASSE|DTA_ULTATU|USR_ULTATU|COD_CONTRATO|DTA_ASSCONTRATO|TIP_REVENDA|COD_TABREPASSE|SG_GRUPO|VL_PERCENTUAL|SG_VISREP|SG_DEMCO|CD_CONTA|date_partition|numero|codigo|cliente|valor|emissao|vencimento|pagto_ate|desconto|receita|especie|banco|data_pagto|valor_pago|cod_desconto|observacao|situacao|tipo|cancelamento|mot_cancelamento|num_vias|baixa|quantidade|cadastral|vlr_renpac|vlr_dspac|repasse|mes|ano|vlr_cobr|fatura|qtd_ccf|qtd_li21|qtd_li21ch|qtd_li21cp|qtd_li21pf|qtd_rs51ssc|qtd_rs51ssn|qtd_rs51sss|forma_pagto|obs_pagto|comissao|condpagto|condpagto_seq|tipo_boleto|interveniente|nossonumero|carteira|negociado|nr_nf|bco_pgto|ag_pgto|dv_ag_pgto|cod_barra|prot_impr|seqfast|cod_conta|nivel_visao|nm_nf_verificacao|date_partition|DTA_LOG|SEQ_LOGRECEBER|TIP_LOG|USR_LOG|\n",
      "+------+--------+---------+----+----------+----------+---+---+-----+---------+----------+----+--------+-----+----------+------+-----+-------+--------+------------+---------+--------------+-----------+--------+-------------+-------+----------+-------+----------+------------+--------+--------+---------+----------+----------+-----------+------------+-----------+----------+--------------+-----------+------------+--------+---------+-------+---------+--------+----------+---------------+--------+---------+-----------+-------+---------------+---------------+----------------+----------------+-------------+-------------+-------------+----------------+-------------------+--------------+---------------------+----------------------+------+--------+---------------------+-------------------+---------------------------+-------------------+-------------+--------------+-------+-------+----+------+---------+-------+----------+----------+------------+---------------+-----------+--------------+--------+-------------+---------+--------+--------+--------------+------+------+-------+-----+-------+----------+---------+--------+-------+-------+-----+----------+----------+------------+----------+--------+----+------------+----------------+--------+-----+----------+---------+----------+---------+-------+---+---+--------+------+-------+--------+----------+----------+----------+-----------+-----------+-----------+-----------+---------+--------+---------+-------------+-----------+-------------+-----------+--------+---------+-----+--------+-------+----------+---------+---------+-------+---------+-----------+-----------------+--------------+-------+--------------+-------+-------+\n",
      "+------+--------+---------+----+----------+----------+---+---+-----+---------+----------+----+--------+-----+----------+------+-----+-------+--------+------------+---------+--------------+-----------+--------+-------------+-------+----------+-------+----------+------------+--------+--------+---------+----------+----------+-----------+------------+-----------+----------+--------------+-----------+------------+--------+---------+-------+---------+--------+----------+---------------+--------+---------+-----------+-------+---------------+---------------+----------------+----------------+-------------+-------------+-------------+----------------+-------------------+--------------+---------------------+----------------------+------+--------+---------------------+-------------------+---------------------------+-------------------+-------------+--------------+-------+-------+----+------+---------+-------+----------+----------+------------+---------------+-----------+--------------+--------+-------------+---------+--------+--------+--------------+------+------+-------+-----+-------+----------+---------+--------+-------+-------+-----+----------+----------+------------+----------+--------+----+------------+----------------+--------+-----+----------+---------+----------+---------+-------+---+---+--------+------+-------+--------+----------+----------+----------+-----------+-----------+-----------+-----------+---------+--------+---------+-------------+-----------+-------------+-----------+--------+---------+-----+--------+-------+----------+---------+---------+-------+---------+-----------+-----------------+--------------+-------+--------------+-------+-------+\n",
      "\n"
     ]
    }
   ],
   "source": [
    "df_filtrado = sdf_final_z.filter(sdf_final_z[\"cgcmf\"] == \"24632614000154\")\n",
    "df_filtrado.show(1000000)"
   ]
  },
  {
   "cell_type": "code",
   "execution_count": null,
   "metadata": {},
   "outputs": [],
   "source": []
  },
  {
   "cell_type": "markdown",
   "metadata": {},
   "source": [
    "## PARTE 1\n",
    "\n",
    "\n",
    "- count(1) as contratos → Conta o número de registros distintos para cada cgcmf, representando a quantidade de contratos do cliente.\n",
    "- cgcmf as documento → Mantém o CNPJ como identificador do cliente.\n",
    "- min(data_cad) as data_inicio → Determina a data mais antiga de cadastro do cliente.\n",
    "- max(bloqueio) as data_final → Determina a última data de bloqueio registrada.\n",
    "- O agrupamento (group by cgcmf) garante que os cálculos de contagem e datas sejam feitos para cada CNPJ.\n",
    "\n",
    "\n",
    "- A query filtra e limpa os dados da tabela tb_cliente para incluir apenas clientes relevantes, removendo revendedores e garantindo que os CNPJs sejam válidos.\n",
    "- Após aplicar os filtros, os dados são agrupados por cgcmf, calculando:\n",
    "- A quantidade de contratos (count(1))\n",
    "- A data do primeiro contrato (min(data_cad))\n",
    "- A data do último bloqueio (max(bloqueio))\n",
    "- O resultado é uma lista de clientes com CNPJ válido e suas respectivas informações contratuais."
   ]
  },
  {
   "cell_type": "markdown",
   "metadata": {},
   "source": [
    "## Parte 2"
   ]
  },
  {
   "cell_type": "markdown",
   "metadata": {},
   "source": []
  },
  {
   "cell_type": "code",
   "execution_count": 6,
   "metadata": {},
   "outputs": [
    {
     "name": "stdout",
     "output_type": "stream",
     "text": [
      "+---------+--------------+--------------------+--------------------+--------------------+-------+--------------+\n",
      "|contratos|     documento|         data_inicio|          data_final|  data_ultimo_boleto|faturas|meses_contrato|\n",
      "+---------+--------------+--------------------+--------------------+--------------------+-------+--------------+\n",
      "|       84|08838057000176|2014-04-23 00:00:...|2020-02-19 17:02:...|2024-11-01 00:00:...|     84|          70.0|\n",
      "|       26|12531484000184|2010-10-27 00:00:...|2023-02-03 00:00:...|2016-04-01 00:00:...|      2|         147.0|\n",
      "|       20|75758089000159|2007-08-31 00:00:...|2019-09-04 00:00:...|2012-12-10 00:00:...|      1|         144.0|\n",
      "|       18|09967852000127|1999-12-16 00:00:...|2015-01-27 00:00:...| 2008-11-01 00:00:00|     33|         181.0|\n",
      "|       16|03461819000144|2014-02-04 15:19:...|2014-07-14 11:23:...| 2014-07-01 00:00:00|      4|           5.0|\n",
      "|       14|12448302000106|2013-10-24 10:14:...|2020-02-18 11:37:...|2022-06-01 00:00:...|     67|          76.0|\n",
      "|       11|02283591000187|2007-02-14 00:00:...|2011-12-12 00:00:...| 2009-02-01 00:00:00|     37|          58.0|\n",
      "|        9|16657206000129|2014-02-07 12:56:...|2016-12-08 11:55:...| 2016-12-01 00:00:00|      9|          34.0|\n",
      "|        7|08485023000145|2012-09-28 00:00:...|2013-10-11 11:19:...| 2013-09-01 00:00:00|     11|          12.0|\n",
      "|        7|00601464000153|2014-02-25 08:53:...|2014-04-02 10:33:...| 2014-04-01 00:00:00|      2|           1.0|\n",
      "|        6|02954006000123|2004-05-13 00:00:...|2013-07-17 00:00:...| 2006-09-01 00:00:00|      6|         110.0|\n",
      "|        6|13131660000153|2014-02-24 15:47:...|2014-02-28 00:00:...|2025-02-01 00:00:...|    132|           0.0|\n",
      "|        5|09533927000161|2016-08-01 00:00:...|2025-01-30 10:44:...| 2022-12-01 00:00:00|     57|         102.0|\n",
      "|        4|05877208000107|2010-04-15 00:00:...|2022-10-24 00:00:...|2022-12-01 00:00:...|     58|         150.0|\n",
      "|        4|23237332000190|2014-01-29 00:00:...|2025-01-29 12:56:...|2020-05-01 00:00:...|     31|         132.0|\n",
      "|        4|24632614000154|2004-01-14 00:00:...|2025-01-30 09:16:...| 2008-02-01 00:00:00|      1|         253.0|\n",
      "|        4|09310906000187|2014-11-25 00:00:...|2020-05-11 09:58:...|2020-05-01 00:00:...|     23|          66.0|\n",
      "|        4|04901385000119|2013-09-06 00:00:...|2016-06-02 09:11:...| 2016-05-01 00:00:00|     22|          33.0|\n",
      "|        4|02642132000142|2005-04-12 00:00:...|2025-01-31 16:53:...| 2006-09-01 00:00:00|      7|         238.0|\n",
      "|        4|02182607000165|2004-09-16 00:00:...|2025-01-24 13:34:...|2019-12-01 00:00:...|    148|         244.0|\n",
      "+---------+--------------+--------------------+--------------------+--------------------+-------+--------------+\n",
      "only showing top 20 rows\n",
      "\n"
     ]
    },
    {
     "data": {
      "text/plain": [
       "134316"
      ]
     },
     "execution_count": 6,
     "metadata": {},
     "output_type": "execute_result"
    }
   ],
   "source": [
    "from pyspark.sql.functions import col\n",
    "\n",
    "sdf_final = sdf_final.orderBy(col(\"contratos\").desc())\n",
    "sdf_final.show()\n",
    "sdf_final.count()\n"
   ]
  },
  {
   "cell_type": "markdown",
   "metadata": {},
   "source": [
    "- existem clientes com mais de um contratos , se fosse verificar como um cliente tme uma data de iniciio e a data fim muito depois do ultimo boleto"
   ]
  },
  {
   "cell_type": "code",
   "execution_count": 7,
   "metadata": {},
   "outputs": [],
   "source": [
    "sdf_final = sdf_final.withColumn(\"faturas_anos\", col(\"faturas\") / 12)\n",
    "sdf_final = sdf_final.withColumn(\"meses_contrato_anos\", col(\"meses_contrato\") / 12)"
   ]
  },
  {
   "cell_type": "code",
   "execution_count": 12,
   "metadata": {},
   "outputs": [
    {
     "name": "stdout",
     "output_type": "stream",
     "text": [
      "+---------+--------------+--------------------+----------+------------------+-------+--------------+-------------------+-------------------+\n",
      "|contratos|     documento|         data_inicio|data_final|data_ultimo_boleto|faturas|meses_contrato|       faturas_anos|meses_contrato_anos|\n",
      "+---------+--------------+--------------------+----------+------------------+-------+--------------+-------------------+-------------------+\n",
      "|        2|25381131000197|2014-04-15 00:00:...|      NULL|              NULL|    130|         130.0| 10.833333333333334| 10.833333333333334|\n",
      "|        2|55773964000164|2004-07-30 10:18:...|      NULL|              NULL|    226|         246.0| 18.833333333333332|               20.5|\n",
      "|        2|00845661000118|2005-04-08 17:55:...|      NULL|              NULL|    234|         238.0|               19.5| 19.833333333333332|\n",
      "|        2|14878722000158|2013-08-29 15:19:...|      NULL|              NULL|    105|         137.0|               8.75| 11.416666666666666|\n",
      "|        2|00570553000180|2021-09-16 10:46:...|      NULL|              NULL|     41|          41.0| 3.4166666666666665| 3.4166666666666665|\n",
      "|        2|04872288000226|2012-02-03 00:00:...|      NULL|              NULL|     89|         156.0|  7.416666666666667|               13.0|\n",
      "|        2|30259411000167|2018-10-10 16:41:...|      NULL|              NULL|     76|          76.0|  6.333333333333333|  6.333333333333333|\n",
      "|        2|02121040000117|2017-09-27 08:37:...|      NULL|              NULL|     39|          88.0|               3.25|  7.333333333333333|\n",
      "|        2|07411821000160|2015-07-14 00:00:...|      NULL|              NULL|    114|         115.0|                9.5|  9.583333333333334|\n",
      "|        2|15112196000183|2013-10-03 00:00:...|      NULL|              NULL|     54|         136.0|                4.5| 11.333333333333334|\n",
      "|        2|05313061000122|2005-03-18 00:00:...|      NULL|              NULL|     89|         239.0|  7.416666666666667| 19.916666666666668|\n",
      "|        2|30240931000128|2006-03-29 00:00:...|      NULL|              NULL|     89|         226.0|  7.416666666666667| 18.833333333333332|\n",
      "|        2|45514577000150|2003-09-25 00:00:...|      NULL|              NULL|     89|         257.0|  7.416666666666667| 21.416666666666668|\n",
      "|        2|19663310000114|2025-01-27 09:52:...|      NULL|              NULL|      1|           0.0|0.08333333333333333|                0.0|\n",
      "|        2|10759075000104|2016-01-07 00:00:...|      NULL|              NULL|     89|         109.0|  7.416666666666667|  9.083333333333334|\n",
      "|        2|87730453000151|2010-10-26 00:00:...|      NULL|              NULL|     99|         171.0|               8.25|              14.25|\n",
      "|        2|10272279000116|2010-12-10 00:00:...|      NULL|              NULL|     86|         170.0|  7.166666666666667| 14.166666666666666|\n",
      "|        1|67902890000106|2003-08-21 09:36:...|      NULL|              NULL|    231|         258.0|              19.25|               21.5|\n",
      "|        1|07830113000163|2013-10-25 10:48:...|      NULL|              NULL|    135|         136.0|              11.25| 11.333333333333334|\n",
      "|        1|19710352000169|2020-03-16 12:17:...|      NULL|              NULL|     59|          59.0|  4.916666666666667|  4.916666666666667|\n",
      "+---------+--------------+--------------------+----------+------------------+-------+--------------+-------------------+-------------------+\n",
      "only showing top 20 rows\n",
      "\n"
     ]
    }
   ],
   "source": [
    "# Filtrando as contas onde data_final é nula\n",
    "sdf_contas_nulas = sdf_final.filter(col(\"data_final\").isNull())\n",
    "\n",
    "# Exibindo os resultados\n",
    "sdf_contas_nulas.show()"
   ]
  },
  {
   "cell_type": "code",
   "execution_count": 8,
   "metadata": {},
   "outputs": [
    {
     "name": "stdout",
     "output_type": "stream",
     "text": [
      "Quantidade de clientes : 134316\n",
      "Quantidade de clientes ativos: 13334\n",
      "Quantidade de clientes Finalizados: 120982\n",
      "Quantidade de clientes com 'meses_contrato_anos' negativo: 1168\n",
      "Quantidade de clientes com 'data_final' menor que 'data_inicio': 1177\n"
     ]
    }
   ],
   "source": [
    "from pyspark.sql.functions import col\n",
    "\n",
    "num_clientes = sdf_final.count()\n",
    "\n",
    "print(f\"Quantidade de clientes : {num_clientes}\")\n",
    "\n",
    "# Contar valores nulos\n",
    "num_nulos = sdf_final.filter(col(\"data_final\").isNull()).count()\n",
    "\n",
    "# Contar valores não nulos\n",
    "num_nao_nulos = sdf_final.filter(col(\"data_final\").isNotNull()).count()\n",
    "\n",
    "print(f\"Quantidade de clientes ativos: {num_nulos}\")\n",
    "print(f\"Quantidade de clientes Finalizados: {num_nao_nulos}\")\n",
    "\n",
    "# Filtrando os registros onde 'meses_contrato_anos' é negativo\n",
    "clientes_com_meses_negativos = sdf_final.filter(col(\"meses_contrato_anos\") < 0)\n",
    "\n",
    "# Contando a quantidade de clientes\n",
    "quantidade_clientes = clientes_com_meses_negativos.count()\n",
    "\n",
    "# Exibindo o resultado\n",
    "print(f\"Quantidade de clientes com 'meses_contrato_anos' negativo: {quantidade_clientes}\")\n",
    "\n",
    "\n",
    "# Contar quantos registros têm data_final menor que data_inicio\n",
    "quantidade_datas_invalidas = sdf_final.filter(col(\"data_final\") < col(\"data_inicio\")).count()\n",
    "\n",
    "print(f\"Quantidade de clientes com 'data_final' menor que 'data_inicio': {quantidade_datas_invalidas}\")\n"
   ]
  },
  {
   "cell_type": "code",
   "execution_count": 9,
   "metadata": {},
   "outputs": [
    {
     "name": "stdout",
     "output_type": "stream",
     "text": [
      "Quantidade de clientes após remoção de 'meses_contrato_anos' menores ou iguais a zero: 133148\n"
     ]
    }
   ],
   "source": [
    "# Filtrar e manter apenas registros com 'meses_contrato_anos' maior que zero\n",
    "sdf_final = sdf_final.filter(col(\"meses_contrato_anos\") >= 0)\n",
    "\n",
    "# Contar a quantidade de clientes após o filtro\n",
    "num_clientes_filtrados = sdf_final.count()\n",
    "print(f\"Quantidade de clientes após remoção de 'meses_contrato_anos' menores ou iguais a zero: {num_clientes_filtrados}\")"
   ]
  },
  {
   "cell_type": "markdown",
   "metadata": {},
   "source": [
    "## Churn Simplificado"
   ]
  },
  {
   "cell_type": "code",
   "execution_count": 10,
   "metadata": {},
   "outputs": [
    {
     "name": "stdout",
     "output_type": "stream",
     "text": [
      "Total de clientes: 133148\n",
      "Clientes cancelados: 119814\n",
      "Clientes Ativos: 13334\n",
      "Taxa de Churn: 89.99%\n"
     ]
    }
   ],
   "source": [
    "# Contagem total de contratos\n",
    "total_clientes = sdf_final.count()\n",
    "\n",
    "# Contagem de churn (contratos cancelados)\n",
    "churn_count = sdf_final.filter(F.col(\"data_ultimo_boleto\").isNotNull()).count()\n",
    "# Contagem de churn (contratos cancelados)\n",
    "churn_count_ativos = sdf_final.filter(F.col(\"data_ultimo_boleto\").isNull()).count()\n",
    "\n",
    "# Cálculo do churn rate\n",
    "churn_rate = (churn_count / total_clientes) * 100\n",
    "\n",
    "# Exibir resultado\n",
    "print(f\"Total de clientes: {total_clientes}\")\n",
    "print(f\"Clientes cancelados: {churn_count}\")\n",
    "print(f\"Clientes Ativos: {churn_count_ativos}\")\n",
    "print(f\"Taxa de Churn: {churn_rate:.2f}%\")"
   ]
  },
  {
   "cell_type": "code",
   "execution_count": 11,
   "metadata": {},
   "outputs": [
    {
     "data": {
      "application/vnd.plotly.v1+json": {
       "config": {
        "plotlyServerURL": "https://plot.ly"
       },
       "data": [
        {
         "marker": {
          "color": "red"
         },
         "name": "Taxa de Churn (%)",
         "type": "bar",
         "x": {
          "bdata": "ywcAAMwHAADNBwAAzgcAAM8HAADQBwAA0QcAANIHAADTBwAA1AcAANUHAADWBwAA1wcAANgHAADZBwAA2gcAANsHAADcBwAA3QcAAN4HAADfBwAA4AcAAOEHAADiBwAA4wcAAOQHAADlBwAA5gcAAOcHAADoBwAA6QcAAA==",
          "dtype": "i4"
         },
         "y": {
          "bdata": "AAAAAAAAWUAAAAAAAHBXQGX8dqkn41ZAeQ3lNZRXWEBWVVVVVfVXQAAAAAAA1FdAPDw8PDwsWEAQab2AbU5YQPdugjb4t1ZA5HwC/mdGV0D/9FpU8SNYQNpbzUT37FdAU8MeDW8QWECBoERWtDtYQJCUda0oGFhAF70dSDUBWEDRdAf7rbZXQFVVVVVVpVdAnlTxfcB0V0BD5R1ZA89WQAxWskv7ZlZA84UTF7IKVkBAuBW/mZpVQGjK4IqmDFVAw5pOc1vRU0Aq2dDm/nFTQHIBr7fRP1FAFMMdgL2VT0B5LAHlbDdJQNrozMhefEJAvelNb3rT+z8=",
          "dtype": "f8"
         }
        }
       ],
       "layout": {
        "template": {
         "data": {
          "bar": [
           {
            "error_x": {
             "color": "#2a3f5f"
            },
            "error_y": {
             "color": "#2a3f5f"
            },
            "marker": {
             "line": {
              "color": "white",
              "width": 0.5
             },
             "pattern": {
              "fillmode": "overlay",
              "size": 10,
              "solidity": 0.2
             }
            },
            "type": "bar"
           }
          ],
          "barpolar": [
           {
            "marker": {
             "line": {
              "color": "white",
              "width": 0.5
             },
             "pattern": {
              "fillmode": "overlay",
              "size": 10,
              "solidity": 0.2
             }
            },
            "type": "barpolar"
           }
          ],
          "carpet": [
           {
            "aaxis": {
             "endlinecolor": "#2a3f5f",
             "gridcolor": "#C8D4E3",
             "linecolor": "#C8D4E3",
             "minorgridcolor": "#C8D4E3",
             "startlinecolor": "#2a3f5f"
            },
            "baxis": {
             "endlinecolor": "#2a3f5f",
             "gridcolor": "#C8D4E3",
             "linecolor": "#C8D4E3",
             "minorgridcolor": "#C8D4E3",
             "startlinecolor": "#2a3f5f"
            },
            "type": "carpet"
           }
          ],
          "choropleth": [
           {
            "colorbar": {
             "outlinewidth": 0,
             "ticks": ""
            },
            "type": "choropleth"
           }
          ],
          "contour": [
           {
            "colorbar": {
             "outlinewidth": 0,
             "ticks": ""
            },
            "colorscale": [
             [
              0,
              "#0d0887"
             ],
             [
              0.1111111111111111,
              "#46039f"
             ],
             [
              0.2222222222222222,
              "#7201a8"
             ],
             [
              0.3333333333333333,
              "#9c179e"
             ],
             [
              0.4444444444444444,
              "#bd3786"
             ],
             [
              0.5555555555555556,
              "#d8576b"
             ],
             [
              0.6666666666666666,
              "#ed7953"
             ],
             [
              0.7777777777777778,
              "#fb9f3a"
             ],
             [
              0.8888888888888888,
              "#fdca26"
             ],
             [
              1,
              "#f0f921"
             ]
            ],
            "type": "contour"
           }
          ],
          "contourcarpet": [
           {
            "colorbar": {
             "outlinewidth": 0,
             "ticks": ""
            },
            "type": "contourcarpet"
           }
          ],
          "heatmap": [
           {
            "colorbar": {
             "outlinewidth": 0,
             "ticks": ""
            },
            "colorscale": [
             [
              0,
              "#0d0887"
             ],
             [
              0.1111111111111111,
              "#46039f"
             ],
             [
              0.2222222222222222,
              "#7201a8"
             ],
             [
              0.3333333333333333,
              "#9c179e"
             ],
             [
              0.4444444444444444,
              "#bd3786"
             ],
             [
              0.5555555555555556,
              "#d8576b"
             ],
             [
              0.6666666666666666,
              "#ed7953"
             ],
             [
              0.7777777777777778,
              "#fb9f3a"
             ],
             [
              0.8888888888888888,
              "#fdca26"
             ],
             [
              1,
              "#f0f921"
             ]
            ],
            "type": "heatmap"
           }
          ],
          "histogram": [
           {
            "marker": {
             "pattern": {
              "fillmode": "overlay",
              "size": 10,
              "solidity": 0.2
             }
            },
            "type": "histogram"
           }
          ],
          "histogram2d": [
           {
            "colorbar": {
             "outlinewidth": 0,
             "ticks": ""
            },
            "colorscale": [
             [
              0,
              "#0d0887"
             ],
             [
              0.1111111111111111,
              "#46039f"
             ],
             [
              0.2222222222222222,
              "#7201a8"
             ],
             [
              0.3333333333333333,
              "#9c179e"
             ],
             [
              0.4444444444444444,
              "#bd3786"
             ],
             [
              0.5555555555555556,
              "#d8576b"
             ],
             [
              0.6666666666666666,
              "#ed7953"
             ],
             [
              0.7777777777777778,
              "#fb9f3a"
             ],
             [
              0.8888888888888888,
              "#fdca26"
             ],
             [
              1,
              "#f0f921"
             ]
            ],
            "type": "histogram2d"
           }
          ],
          "histogram2dcontour": [
           {
            "colorbar": {
             "outlinewidth": 0,
             "ticks": ""
            },
            "colorscale": [
             [
              0,
              "#0d0887"
             ],
             [
              0.1111111111111111,
              "#46039f"
             ],
             [
              0.2222222222222222,
              "#7201a8"
             ],
             [
              0.3333333333333333,
              "#9c179e"
             ],
             [
              0.4444444444444444,
              "#bd3786"
             ],
             [
              0.5555555555555556,
              "#d8576b"
             ],
             [
              0.6666666666666666,
              "#ed7953"
             ],
             [
              0.7777777777777778,
              "#fb9f3a"
             ],
             [
              0.8888888888888888,
              "#fdca26"
             ],
             [
              1,
              "#f0f921"
             ]
            ],
            "type": "histogram2dcontour"
           }
          ],
          "mesh3d": [
           {
            "colorbar": {
             "outlinewidth": 0,
             "ticks": ""
            },
            "type": "mesh3d"
           }
          ],
          "parcoords": [
           {
            "line": {
             "colorbar": {
              "outlinewidth": 0,
              "ticks": ""
             }
            },
            "type": "parcoords"
           }
          ],
          "pie": [
           {
            "automargin": true,
            "type": "pie"
           }
          ],
          "scatter": [
           {
            "fillpattern": {
             "fillmode": "overlay",
             "size": 10,
             "solidity": 0.2
            },
            "type": "scatter"
           }
          ],
          "scatter3d": [
           {
            "line": {
             "colorbar": {
              "outlinewidth": 0,
              "ticks": ""
             }
            },
            "marker": {
             "colorbar": {
              "outlinewidth": 0,
              "ticks": ""
             }
            },
            "type": "scatter3d"
           }
          ],
          "scattercarpet": [
           {
            "marker": {
             "colorbar": {
              "outlinewidth": 0,
              "ticks": ""
             }
            },
            "type": "scattercarpet"
           }
          ],
          "scattergeo": [
           {
            "marker": {
             "colorbar": {
              "outlinewidth": 0,
              "ticks": ""
             }
            },
            "type": "scattergeo"
           }
          ],
          "scattergl": [
           {
            "marker": {
             "colorbar": {
              "outlinewidth": 0,
              "ticks": ""
             }
            },
            "type": "scattergl"
           }
          ],
          "scattermap": [
           {
            "marker": {
             "colorbar": {
              "outlinewidth": 0,
              "ticks": ""
             }
            },
            "type": "scattermap"
           }
          ],
          "scattermapbox": [
           {
            "marker": {
             "colorbar": {
              "outlinewidth": 0,
              "ticks": ""
             }
            },
            "type": "scattermapbox"
           }
          ],
          "scatterpolar": [
           {
            "marker": {
             "colorbar": {
              "outlinewidth": 0,
              "ticks": ""
             }
            },
            "type": "scatterpolar"
           }
          ],
          "scatterpolargl": [
           {
            "marker": {
             "colorbar": {
              "outlinewidth": 0,
              "ticks": ""
             }
            },
            "type": "scatterpolargl"
           }
          ],
          "scatterternary": [
           {
            "marker": {
             "colorbar": {
              "outlinewidth": 0,
              "ticks": ""
             }
            },
            "type": "scatterternary"
           }
          ],
          "surface": [
           {
            "colorbar": {
             "outlinewidth": 0,
             "ticks": ""
            },
            "colorscale": [
             [
              0,
              "#0d0887"
             ],
             [
              0.1111111111111111,
              "#46039f"
             ],
             [
              0.2222222222222222,
              "#7201a8"
             ],
             [
              0.3333333333333333,
              "#9c179e"
             ],
             [
              0.4444444444444444,
              "#bd3786"
             ],
             [
              0.5555555555555556,
              "#d8576b"
             ],
             [
              0.6666666666666666,
              "#ed7953"
             ],
             [
              0.7777777777777778,
              "#fb9f3a"
             ],
             [
              0.8888888888888888,
              "#fdca26"
             ],
             [
              1,
              "#f0f921"
             ]
            ],
            "type": "surface"
           }
          ],
          "table": [
           {
            "cells": {
             "fill": {
              "color": "#EBF0F8"
             },
             "line": {
              "color": "white"
             }
            },
            "header": {
             "fill": {
              "color": "#C8D4E3"
             },
             "line": {
              "color": "white"
             }
            },
            "type": "table"
           }
          ]
         },
         "layout": {
          "annotationdefaults": {
           "arrowcolor": "#2a3f5f",
           "arrowhead": 0,
           "arrowwidth": 1
          },
          "autotypenumbers": "strict",
          "coloraxis": {
           "colorbar": {
            "outlinewidth": 0,
            "ticks": ""
           }
          },
          "colorscale": {
           "diverging": [
            [
             0,
             "#8e0152"
            ],
            [
             0.1,
             "#c51b7d"
            ],
            [
             0.2,
             "#de77ae"
            ],
            [
             0.3,
             "#f1b6da"
            ],
            [
             0.4,
             "#fde0ef"
            ],
            [
             0.5,
             "#f7f7f7"
            ],
            [
             0.6,
             "#e6f5d0"
            ],
            [
             0.7,
             "#b8e186"
            ],
            [
             0.8,
             "#7fbc41"
            ],
            [
             0.9,
             "#4d9221"
            ],
            [
             1,
             "#276419"
            ]
           ],
           "sequential": [
            [
             0,
             "#0d0887"
            ],
            [
             0.1111111111111111,
             "#46039f"
            ],
            [
             0.2222222222222222,
             "#7201a8"
            ],
            [
             0.3333333333333333,
             "#9c179e"
            ],
            [
             0.4444444444444444,
             "#bd3786"
            ],
            [
             0.5555555555555556,
             "#d8576b"
            ],
            [
             0.6666666666666666,
             "#ed7953"
            ],
            [
             0.7777777777777778,
             "#fb9f3a"
            ],
            [
             0.8888888888888888,
             "#fdca26"
            ],
            [
             1,
             "#f0f921"
            ]
           ],
           "sequentialminus": [
            [
             0,
             "#0d0887"
            ],
            [
             0.1111111111111111,
             "#46039f"
            ],
            [
             0.2222222222222222,
             "#7201a8"
            ],
            [
             0.3333333333333333,
             "#9c179e"
            ],
            [
             0.4444444444444444,
             "#bd3786"
            ],
            [
             0.5555555555555556,
             "#d8576b"
            ],
            [
             0.6666666666666666,
             "#ed7953"
            ],
            [
             0.7777777777777778,
             "#fb9f3a"
            ],
            [
             0.8888888888888888,
             "#fdca26"
            ],
            [
             1,
             "#f0f921"
            ]
           ]
          },
          "colorway": [
           "#636efa",
           "#EF553B",
           "#00cc96",
           "#ab63fa",
           "#FFA15A",
           "#19d3f3",
           "#FF6692",
           "#B6E880",
           "#FF97FF",
           "#FECB52"
          ],
          "font": {
           "color": "#2a3f5f"
          },
          "geo": {
           "bgcolor": "white",
           "lakecolor": "white",
           "landcolor": "white",
           "showlakes": true,
           "showland": true,
           "subunitcolor": "#C8D4E3"
          },
          "hoverlabel": {
           "align": "left"
          },
          "hovermode": "closest",
          "mapbox": {
           "style": "light"
          },
          "paper_bgcolor": "white",
          "plot_bgcolor": "white",
          "polar": {
           "angularaxis": {
            "gridcolor": "#EBF0F8",
            "linecolor": "#EBF0F8",
            "ticks": ""
           },
           "bgcolor": "white",
           "radialaxis": {
            "gridcolor": "#EBF0F8",
            "linecolor": "#EBF0F8",
            "ticks": ""
           }
          },
          "scene": {
           "xaxis": {
            "backgroundcolor": "white",
            "gridcolor": "#DFE8F3",
            "gridwidth": 2,
            "linecolor": "#EBF0F8",
            "showbackground": true,
            "ticks": "",
            "zerolinecolor": "#EBF0F8"
           },
           "yaxis": {
            "backgroundcolor": "white",
            "gridcolor": "#DFE8F3",
            "gridwidth": 2,
            "linecolor": "#EBF0F8",
            "showbackground": true,
            "ticks": "",
            "zerolinecolor": "#EBF0F8"
           },
           "zaxis": {
            "backgroundcolor": "white",
            "gridcolor": "#DFE8F3",
            "gridwidth": 2,
            "linecolor": "#EBF0F8",
            "showbackground": true,
            "ticks": "",
            "zerolinecolor": "#EBF0F8"
           }
          },
          "shapedefaults": {
           "line": {
            "color": "#2a3f5f"
           }
          },
          "ternary": {
           "aaxis": {
            "gridcolor": "#DFE8F3",
            "linecolor": "#A2B1C6",
            "ticks": ""
           },
           "baxis": {
            "gridcolor": "#DFE8F3",
            "linecolor": "#A2B1C6",
            "ticks": ""
           },
           "bgcolor": "white",
           "caxis": {
            "gridcolor": "#DFE8F3",
            "linecolor": "#A2B1C6",
            "ticks": ""
           }
          },
          "title": {
           "x": 0.05
          },
          "xaxis": {
           "automargin": true,
           "gridcolor": "#EBF0F8",
           "linecolor": "#EBF0F8",
           "ticks": "",
           "title": {
            "standoff": 15
           },
           "zerolinecolor": "#EBF0F8",
           "zerolinewidth": 2
          },
          "yaxis": {
           "automargin": true,
           "gridcolor": "#EBF0F8",
           "linecolor": "#EBF0F8",
           "ticks": "",
           "title": {
            "standoff": 15
           },
           "zerolinecolor": "#EBF0F8",
           "zerolinewidth": 2
          }
         }
        },
        "title": {
         "text": "Taxa de Churn Anual"
        },
        "xaxis": {
         "tickmode": "linear",
         "title": {
          "text": "Ano de Início do Contrato"
         }
        },
        "yaxis": {
         "title": {
          "text": "Taxa de Churn (%)"
         }
        }
       }
      }
     },
     "metadata": {},
     "output_type": "display_data"
    }
   ],
   "source": [
    "from pyspark.sql import functions as F\n",
    "\n",
    "# Criar a coluna do ano de início do contrato\n",
    "sdf_churn_anual = sdf_final.withColumn(\"ano_inicio\", F.year(\"data_inicio\")) \\\n",
    "    .groupBy(\"ano_inicio\") \\\n",
    "    .agg(\n",
    "        F.count(\"*\").alias(\"total_clientes\"),\n",
    "        F.sum(F.when(F.col(\"data_ultimo_boleto\").isNotNull(), 1).otherwise(0)).alias(\"contratos_cancelados\")\n",
    "    ) \\\n",
    "    .withColumn(\"taxa_churn\", (F.col(\"contratos_cancelados\") / F.col(\"total_clientes\")) * 100) \\\n",
    "    .orderBy(\"ano_inicio\")\n",
    "\n",
    "# Converter para Pandas para plotar\n",
    "df_churn_anual = sdf_churn_anual.toPandas()\n",
    "\n",
    "# Criar gráfico interativo com Plotly\n",
    "fig = go.Figure()\n",
    "\n",
    "fig.add_trace(go.Bar(\n",
    "    x=df_churn_anual[\"ano_inicio\"],\n",
    "    y=df_churn_anual[\"taxa_churn\"],\n",
    "    marker_color=\"red\",\n",
    "    name=\"Taxa de Churn (%)\"\n",
    "))\n",
    "\n",
    "# Ajustes de layout\n",
    "fig.update_layout(\n",
    "    title=\"Taxa de Churn Anual\",\n",
    "    xaxis_title=\"Ano de Início do Contrato\",\n",
    "    yaxis_title=\"Taxa de Churn (%)\",\n",
    "    template=\"plotly_white\",\n",
    "    xaxis=dict(tickmode=\"linear\")\n",
    ")\n",
    "\n",
    "# Exibir o gráfico\n",
    "fig.show()\n"
   ]
  }
 ],
 "metadata": {
  "kernelspec": {
   "display_name": "ltv-novo-aF9Dy8BA-py3.10",
   "language": "python",
   "name": "python3"
  },
  "language_info": {
   "codemirror_mode": {
    "name": "ipython",
    "version": 3
   },
   "file_extension": ".py",
   "mimetype": "text/x-python",
   "name": "python",
   "nbconvert_exporter": "python",
   "pygments_lexer": "ipython3",
   "version": "3.10.5"
  }
 },
 "nbformat": 4,
 "nbformat_minor": 2
}
